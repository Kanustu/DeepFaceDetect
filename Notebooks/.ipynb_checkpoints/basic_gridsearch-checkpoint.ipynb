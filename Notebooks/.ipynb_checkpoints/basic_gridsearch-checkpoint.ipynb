{
 "cells": [
  {
   "cell_type": "code",
   "execution_count": 22,
   "id": "40614147-4bb6-429e-89a4-4d3e24062f2a",
   "metadata": {},
   "outputs": [],
   "source": [
    "import pandas as pd\n",
    "import numpy as np\n",
    "from PIL import Image\n",
    "import tensorflow as tf\n",
    "from tensorflow.keras.preprocessing import image\n",
    "from tensorflow.keras.preprocessing.image import img_to_array, load_img\n",
    "from tensorflow.keras.models import Sequential\n",
    "from tensorflow.keras.layers import Convolution2D, MaxPooling2D, Flatten, Dense\n",
    "from tensorflow.keras.preprocessing.image import ImageDataGenerator"
   ]
  },
  {
   "cell_type": "code",
   "execution_count": 21,
   "id": "52eca3c6-43b3-4de4-984c-130ac82d6dfe",
   "metadata": {},
   "outputs": [],
   "source": [
    "train_meta = pd.read_csv('../metadata/train.csv')"
   ]
  },
  {
   "cell_type": "code",
   "execution_count": 23,
   "id": "1c079e11-a56a-485a-8048-c1d170181341",
   "metadata": {},
   "outputs": [],
   "source": [
    "val_meta = pd.read_csv('../metadata/valid.csv')"
   ]
  },
  {
   "cell_type": "code",
   "execution_count": 24,
   "id": "11c34ce7-66cd-46e8-b792-d6bf26d3b0d5",
   "metadata": {},
   "outputs": [],
   "source": [
    "base_path = '../real_vs_fake/real-vs-fake/'"
   ]
  },
  {
   "cell_type": "code",
   "execution_count": 25,
   "id": "cc82c4ad-b834-47d2-a17d-a6e1d507d774",
   "metadata": {},
   "outputs": [],
   "source": [
    "image_list = []\n",
    "for x in train_meta['path']:\n",
    "    image_list.append(base_path + x)"
   ]
  },
  {
   "cell_type": "code",
   "execution_count": 26,
   "id": "278ad145-a44e-4793-8aec-ade768bae077",
   "metadata": {},
   "outputs": [],
   "source": [
    "val_image_list = []\n",
    "for x in val_meta['path']:\n",
    "    val_image_list.append(base_path + x)"
   ]
  },
  {
   "cell_type": "code",
   "execution_count": 27,
   "id": "f5459195-34d8-4cbc-9b69-994b888a90f5",
   "metadata": {},
   "outputs": [],
   "source": [
    "def image_processing(location):\n",
    "    batch_processed = []\n",
    "    img = Image.open(image_list[location])\n",
    "    img = img.resize((64,64))\n",
    "    image_array = img_to_array(img)\n",
    "    image_array /= 255.0\n",
    "    batch_processed.append(image_array)\n",
    "    return batch_processed"
   ]
  },
  {
   "cell_type": "code",
   "execution_count": null,
   "id": "766ffb21-f1c5-4862-8de5-cb684bc20b29",
   "metadata": {},
   "outputs": [],
   "source": [
    "X_train = []\n",
    "for x in range(100000):\n",
    "    X_train.append(image_processing(x))"
   ]
  },
  {
   "cell_type": "code",
   "execution_count": 28,
   "id": "03605ab9-df66-4f26-b1e9-2be9acecb2b9",
   "metadata": {},
   "outputs": [],
   "source": [
    "X_train = []\n",
    "for x in range(0, 5000):\n",
    "    X_train.append(image_processing(x))"
   ]
  },
  {
   "cell_type": "code",
   "execution_count": 29,
   "id": "84a82f9e-4329-4b1a-8f56-09cd87209b82",
   "metadata": {},
   "outputs": [],
   "source": [
    "X_valid = []\n",
    "for x in range(0,2000):\n",
    "    image = image_processing(x)\n",
    "    X_valid.append(image)"
   ]
  },
  {
   "cell_type": "code",
   "execution_count": 30,
   "id": "26d0b235-cfb8-425f-8ec2-61fd3946e799",
   "metadata": {},
   "outputs": [],
   "source": [
    "X_train = np.array(X_train)"
   ]
  },
  {
   "cell_type": "code",
   "execution_count": 31,
   "id": "79fbdf1b-0c28-4b82-9d17-0f86b7bb9ce8",
   "metadata": {},
   "outputs": [],
   "source": [
    "X_valid = np.array(X_valid)"
   ]
  },
  {
   "cell_type": "code",
   "execution_count": null,
   "id": "5215691a-d1d9-41e8-8834-f50cdf3d14cc",
   "metadata": {},
   "outputs": [],
   "source": []
  },
  {
   "cell_type": "code",
   "execution_count": 32,
   "id": "ce1070f5-1e00-4920-bde6-e5ce34aa7348",
   "metadata": {},
   "outputs": [],
   "source": [
    "y_valid = []\n",
    "for x in range(0,2000):\n",
    "    y_valid.append(val_meta['label'][x])"
   ]
  },
  {
   "cell_type": "code",
   "execution_count": 33,
   "id": "3d9948a0-fc07-4e28-b582-59184ae4f871",
   "metadata": {},
   "outputs": [],
   "source": [
    "y_train = []\n",
    "for x in range(0,5000):\n",
    "    y_train.append(train_meta['label'][x])"
   ]
  },
  {
   "cell_type": "code",
   "execution_count": 15,
   "id": "a91f5879-f572-4df5-a8d1-09909514d16e",
   "metadata": {},
   "outputs": [
    {
     "data": {
      "text/plain": [
       "5000"
      ]
     },
     "execution_count": 15,
     "metadata": {},
     "output_type": "execute_result"
    }
   ],
   "source": [
    "len(y_train)"
   ]
  },
  {
   "cell_type": "code",
   "execution_count": 34,
   "id": "d9c94f25-a1a3-4239-89cb-25c7925250c6",
   "metadata": {},
   "outputs": [],
   "source": [
    "def create_cnn(filters=32, kernel_size=(3, 3), pool_size=(2, 2), dense_units=128):\n",
    "    model = Sequential()\n",
    "    model.add(Convolution2D(filters, kernel_size, input_shape=(64, 64, 3), activation='relu'))\n",
    "    model.add(MaxPooling2D(pool_size=pool_size))\n",
    "    model.add(Flatten())\n",
    "    model.add(Dense(dense_units, activation='relu'))\n",
    "    model.add(Dense(1, activation='sigmoid'))\n",
    "    model.compile(optimizer='adam', loss='binary_crossentropy', metrics=['accuracy'])\n",
    "    return model"
   ]
  },
  {
   "cell_type": "code",
   "execution_count": 17,
   "id": "3e677ccf-7496-47bb-b5cb-fcf152b6cca4",
   "metadata": {},
   "outputs": [],
   "source": [
    "param_grid = {\n",
    "    'filters': [32, 64],\n",
    "    'kernel_size': [(3, 3), (5, 5)],\n",
    "    'pool_size': [(2, 2), (3, 3)],\n",
    "    'dense_units': [128, 256]}"
   ]
  },
  {
   "cell_type": "code",
   "execution_count": 35,
   "id": "c3efbc92-0784-411a-a084-d7ac0900f31a",
   "metadata": {},
   "outputs": [],
   "source": [
    "from sklearn.model_selection import GridSearchCV\n",
    "from keras.wrappers.scikit_learn import KerasClassifier"
   ]
  },
  {
   "cell_type": "code",
   "execution_count": 38,
   "id": "b5cfa776-f8ee-490b-9e4d-840682ffd381",
   "metadata": {},
   "outputs": [
    {
     "name": "stderr",
     "output_type": "stream",
     "text": [
      "/var/folders/d8/489yldc97211yqtsk2b1f_wc0000gn/T/ipykernel_8882/50885596.py:1: DeprecationWarning: KerasClassifier is deprecated, use Sci-Keras (https://github.com/adriangb/scikeras) instead. See https://www.adriangb.com/scikeras/stable/migration.html for help migrating.\n",
      "  cnn_model = KerasClassifier(build_fn=create_cnn, epochs=5, batch_size=64, verbose=0)\n"
     ]
    }
   ],
   "source": [
    "cnn_model = KerasClassifier(build_fn=create_cnn, epochs=5, batch_size=64, verbose=0)\n",
    "grid = GridSearchCV(estimator=cnn_model, param_grid=param_grid, scoring='accuracy')"
   ]
  },
  {
   "cell_type": "code",
   "execution_count": 40,
   "id": "45d4c421-b6f1-4820-a215-7f7549c19320",
   "metadata": {},
   "outputs": [],
   "source": [
    "X_train = np.squeeze(X_train)"
   ]
  },
  {
   "cell_type": "code",
   "execution_count": 41,
   "id": "5ca1f367-7a51-49e3-9f75-adafbebdb7e3",
   "metadata": {},
   "outputs": [
    {
     "data": {
      "text/plain": [
       "(5000, 64, 64, 3)"
      ]
     },
     "execution_count": 41,
     "metadata": {},
     "output_type": "execute_result"
    }
   ],
   "source": [
    "X_train.shape"
   ]
  },
  {
   "cell_type": "code",
   "execution_count": 43,
   "id": "9862c223-184a-42c1-b97a-db0bb2a960af",
   "metadata": {
    "editable": true,
    "slideshow": {
     "slide_type": ""
    },
    "tags": []
   },
   "outputs": [
    {
     "name": "stdout",
     "output_type": "stream",
     "text": [
      "32/32 [==============================] - 0s 8ms/step\n",
      "32/32 [==============================] - 0s 8ms/step\n",
      "32/32 [==============================] - 0s 9ms/step\n",
      "32/32 [==============================] - 0s 7ms/step\n",
      "32/32 [==============================] - 0s 10ms/step\n",
      "32/32 [==============================] - 0s 6ms/step\n",
      "32/32 [==============================] - 0s 6ms/step\n",
      "32/32 [==============================] - 0s 6ms/step\n",
      "32/32 [==============================] - 0s 6ms/step\n",
      "32/32 [==============================] - 0s 6ms/step\n",
      "32/32 [==============================] - 0s 11ms/step\n",
      "32/32 [==============================] - 0s 12ms/step\n",
      "32/32 [==============================] - 0s 11ms/step\n",
      "32/32 [==============================] - 0s 11ms/step\n",
      "32/32 [==============================] - 0s 10ms/step\n",
      "32/32 [==============================] - 0s 11ms/step\n",
      "32/32 [==============================] - 0s 11ms/step\n",
      "32/32 [==============================] - 0s 12ms/step\n",
      "32/32 [==============================] - 0s 9ms/step\n",
      "32/32 [==============================] - 0s 10ms/step\n",
      "32/32 [==============================] - 0s 12ms/step\n",
      "32/32 [==============================] - 0s 14ms/step\n",
      "32/32 [==============================] - 0s 11ms/step\n",
      "32/32 [==============================] - 0s 13ms/step\n",
      "32/32 [==============================] - 0s 13ms/step\n",
      "32/32 [==============================] - 0s 11ms/step\n",
      "32/32 [==============================] - 0s 10ms/step\n",
      "32/32 [==============================] - 0s 10ms/step\n",
      "32/32 [==============================] - 0s 9ms/step\n",
      "32/32 [==============================] - 0s 11ms/step\n",
      "32/32 [==============================] - 1s 17ms/step\n",
      "32/32 [==============================] - 1s 17ms/step\n",
      "32/32 [==============================] - 1s 19ms/step\n",
      "32/32 [==============================] - 1s 17ms/step\n",
      "32/32 [==============================] - 1s 17ms/step\n",
      "32/32 [==============================] - 1s 15ms/step\n",
      "32/32 [==============================] - 1s 17ms/step\n",
      "32/32 [==============================] - 1s 17ms/step\n",
      "32/32 [==============================] - 1s 19ms/step\n",
      "32/32 [==============================] - 1s 19ms/step\n",
      "32/32 [==============================] - 0s 13ms/step\n",
      "32/32 [==============================] - 0s 12ms/step\n",
      "32/32 [==============================] - 0s 10ms/step\n",
      "32/32 [==============================] - 0s 13ms/step\n",
      "32/32 [==============================] - 0s 11ms/step\n",
      "32/32 [==============================] - 0s 8ms/step\n",
      "32/32 [==============================] - 0s 8ms/step\n",
      "32/32 [==============================] - 0s 8ms/step\n",
      "32/32 [==============================] - 0s 9ms/step\n",
      "32/32 [==============================] - 0s 8ms/step\n",
      "32/32 [==============================] - 1s 16ms/step\n",
      "32/32 [==============================] - 1s 18ms/step\n",
      "32/32 [==============================] - 1s 14ms/step\n",
      "32/32 [==============================] - 0s 13ms/step\n",
      "32/32 [==============================] - 1s 16ms/step\n",
      "32/32 [==============================] - 0s 13ms/step\n",
      "32/32 [==============================] - 0s 12ms/step\n",
      "32/32 [==============================] - 0s 12ms/step\n",
      "32/32 [==============================] - 0s 12ms/step\n",
      "32/32 [==============================] - 0s 12ms/step\n",
      "32/32 [==============================] - 1s 16ms/step\n",
      "32/32 [==============================] - 1s 15ms/step\n",
      "32/32 [==============================] - 1s 15ms/step\n",
      "32/32 [==============================] - 1s 15ms/step\n",
      "32/32 [==============================] - 1s 15ms/step\n",
      "32/32 [==============================] - 0s 10ms/step\n",
      "32/32 [==============================] - 0s 10ms/step\n",
      "32/32 [==============================] - 0s 10ms/step\n",
      "32/32 [==============================] - 0s 10ms/step\n",
      "32/32 [==============================] - 0s 10ms/step\n",
      "32/32 [==============================] - 1s 19ms/step\n",
      "32/32 [==============================] - 1s 20ms/step\n",
      "32/32 [==============================] - 1s 20ms/step\n",
      "32/32 [==============================] - 1s 19ms/step\n",
      "32/32 [==============================] - 1s 21ms/step\n",
      "32/32 [==============================] - 1s 16ms/step\n",
      "32/32 [==============================] - 1s 16ms/step\n",
      "32/32 [==============================] - 1s 15ms/step\n",
      "32/32 [==============================] - 1s 16ms/step\n",
      "32/32 [==============================] - 1s 15ms/step\n"
     ]
    }
   ],
   "source": [
    "grid_result = grid.fit(X_train, y_train)"
   ]
  },
  {
   "cell_type": "code",
   "execution_count": 44,
   "id": "ad8a8c71-d519-4a9d-a0af-e447156cc07d",
   "metadata": {
    "editable": true,
    "slideshow": {
     "slide_type": ""
    },
    "tags": []
   },
   "outputs": [
    {
     "name": "stdout",
     "output_type": "stream",
     "text": [
      "Best Parameters:  {'dense_units': 128, 'filters': 32, 'kernel_size': (3, 3), 'pool_size': (2, 2)}\n",
      "Best Accuracy:  1.0\n"
     ]
    }
   ],
   "source": [
    "print(\"Best Parameters: \", grid_result.best_params_)\n",
    "print(\"Best Accuracy: \", grid_result.best_score_)"
   ]
  }
 ],
 "metadata": {
  "kernelspec": {
   "display_name": "ava",
   "language": "python",
   "name": "ava"
  },
  "language_info": {
   "codemirror_mode": {
    "name": "ipython",
    "version": 3
   },
   "file_extension": ".py",
   "mimetype": "text/x-python",
   "name": "python",
   "nbconvert_exporter": "python",
   "pygments_lexer": "ipython3",
   "version": "3.9.16"
  }
 },
 "nbformat": 4,
 "nbformat_minor": 5
}
