{
 "cells": [
  {
   "cell_type": "code",
   "execution_count": 23,
   "id": "15d95aea-eaf1-49ab-a823-6ee95c5e6e4d",
   "metadata": {},
   "outputs": [],
   "source": [
    "# Import necessary libraries\n",
    "import pandas as pd          # For data manipulation and analysis\n",
    "import numpy as np           # For numerical operations\n",
    "import matplotlib.pyplot as plt  # For data visualization\n",
    "import seaborn as sns        # For statistical data visualization\n",
    "import tensorflow as tf      # TensorFlow for deep learning\n",
    "\n",
    "# Import specific modules from TensorFlow Keras\n",
    "from tensorflow.keras.models import Sequential  # Sequential model for building a linear stack of layers\n",
    "from tensorflow.keras.models import  # Add any specific modules or layers you intend to use (e.g., Dense, Conv2D, etc.)\n",
    "from tensorflow.keras.preprocessing.image import ImageDataGenerator"
   ]
  },
  {
   "cell_type": "code",
   "execution_count": 5,
   "id": "c4d9dfab-f14f-41ef-8d70-faf25ba2f162",
   "metadata": {},
   "outputs": [],
   "source": [
    "# Specify the base path where your image data is stored\n",
    "base_path = 'LHL_projects/Capstone_LHL/real_vs_fake/real-vs-fake/'\n",
    "\n",
    "# Create an ImageDataGenerator for image preprocessing and augmentation\n",
    "image_gen = ImageDataGenerator(rescale=1./255.)\n",
    "# The 'rescale' parameter normalizes pixel values to the range [0, 1] by dividing each pixel value by 255"
   ]
  },
  {
   "cell_type": "code",
   "execution_count": 19,
   "id": "518b00e2-4b4d-498d-b137-e331ec77af23",
   "metadata": {},
   "outputs": [],
   "source": [
    "def generation(location, shuffle=True):\n",
    "    \"\"\"\n",
    "    Create an ImageDataGenerator for loading and preprocessing images from a specified directory.\n",
    "\n",
    "    Parameters:\n",
    "    - location (str): The relative path to the directory containing the images.\n",
    "    - shuffle (bool, optional): Whether to shuffle the order of images during training. Default is True.\n",
    "\n",
    "    Returns:\n",
    "    - ImageDataGenerator: A configured ImageDataGenerator instance for the specified location.\n",
    "    \"\"\"\n",
    "    # Create an ImageDataGenerator and configure it to flow images from a directory\n",
    "    # 'base_path + location' specifies the directory path for the images\n",
    "    # 'target_size' sets the size to which images will be resized during loading\n",
    "    # 'batch_size' determines the number of images in each batch for model training\n",
    "    # 'class_mode' is set to 'binary' for binary classification\n",
    "    # 'shuffle' determines whether to shuffle the order of images during training\n",
    "    return image_gen.flow_from_directory(\n",
    "        base_path + location,\n",
    "        target_size=(224, 224),\n",
    "        batch_size=64,\n",
    "        class_mode='binary',\n",
    "        shuffle=shuffle\n",
    "    )\n"
   ]
  },
  {
   "cell_type": "code",
   "execution_count": 20,
   "id": "f6149a8e-3fa0-4ee0-84c4-00c38961a9d1",
   "metadata": {},
   "outputs": [
    {
     "name": "stdout",
     "output_type": "stream",
     "text": [
      "Found 100000 images belonging to 2 classes.\n",
      "Found 20000 images belonging to 2 classes.\n",
      "Found 20000 images belonging to 2 classes.\n"
     ]
    }
   ],
   "source": [
    "# Create an ImageDataGenerator for the training set\n",
    "train_gen = generation('train/')\n",
    "\n",
    "# Create an ImageDataGenerator for the validation set\n",
    "valid_gen = generation('valid/')\n",
    "\n",
    "# Create an ImageDataGenerator for the test set with shuffling disabled\n",
    "test_gen = generation('test/', shuffle=False)"
   ]
  },
  {
   "cell_type": "code",
   "execution_count": 22,
   "id": "c78983f8-83ab-4738-b16d-36d847bd3536",
   "metadata": {},
   "outputs": [],
   "source": []
  }
 ],
 "metadata": {
  "kernelspec": {
   "display_name": "ava",
   "language": "python",
   "name": "ava"
  },
  "language_info": {
   "codemirror_mode": {
    "name": "ipython",
    "version": 3
   },
   "file_extension": ".py",
   "mimetype": "text/x-python",
   "name": "python",
   "nbconvert_exporter": "python",
   "pygments_lexer": "ipython3",
   "version": "3.9.16"
  }
 },
 "nbformat": 4,
 "nbformat_minor": 5
}
