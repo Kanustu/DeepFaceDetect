{
 "cells": [
  {
   "cell_type": "code",
   "execution_count": 1,
   "id": "15d95aea-eaf1-49ab-a823-6ee95c5e6e4d",
   "metadata": {
    "editable": true,
    "slideshow": {
     "slide_type": ""
    },
    "tags": []
   },
   "outputs": [],
   "source": [
    "# Import necessary libraries\n",
    "import sys\n",
    "import pandas as pd          # For data manipulation and analysis\n",
    "import numpy as np           # For numerical operations\n",
    "import matplotlib.pyplot as plt  # For data visualization\n",
    "from PIL import Image\n",
    "import seaborn as sns        # For statistical data visualization\n",
    "import random\n",
    "import tensorflow as tf \n",
    "#from tensorflow.keras.models import Sequential\n",
    "#from tensorflow.keras.layers import Convolution2D, MaxPooling2D, GlobalAveragePooling2D,Dropout, Flatten, Dense# Sequential model for building a linear stack of layers\n",
    "#from tensorflow.keras.preprocessing.image import ImageDataGenerator"
   ]
  },
  {
   "cell_type": "code",
   "execution_count": 2,
   "id": "a85cb937-6b0b-428d-9870-d0e147ede95e",
   "metadata": {
    "editable": true,
    "slideshow": {
     "slide_type": ""
    },
    "tags": []
   },
   "outputs": [],
   "source": [
    "from functions.create_dataframe import create_df\n",
    "train_meta = create_df('train')\n",
    "valid_meta = create_df('valid')\n",
    "test_meta = create_df('test')"
   ]
  },
  {
   "cell_type": "code",
   "execution_count": 3,
   "id": "d3255fb6-fa61-4144-9cfa-85cc3d30d433",
   "metadata": {},
   "outputs": [
    {
     "data": {
      "text/html": [
       "<div>\n",
       "<style scoped>\n",
       "    .dataframe tbody tr th:only-of-type {\n",
       "        vertical-align: middle;\n",
       "    }\n",
       "\n",
       "    .dataframe tbody tr th {\n",
       "        vertical-align: top;\n",
       "    }\n",
       "\n",
       "    .dataframe thead th {\n",
       "        text-align: right;\n",
       "    }\n",
       "</style>\n",
       "<table border=\"1\" class=\"dataframe\">\n",
       "  <thead>\n",
       "    <tr style=\"text-align: right;\">\n",
       "      <th></th>\n",
       "      <th>Unnamed: 0</th>\n",
       "      <th>original_path</th>\n",
       "      <th>id</th>\n",
       "      <th>label</th>\n",
       "      <th>label_str</th>\n",
       "      <th>path</th>\n",
       "    </tr>\n",
       "  </thead>\n",
       "  <tbody>\n",
       "    <tr>\n",
       "      <th>0</th>\n",
       "      <td>0</td>\n",
       "      <td>/kaggle/input/flickrfaceshq-dataset-nvidia-par...</td>\n",
       "      <td>31355</td>\n",
       "      <td>1</td>\n",
       "      <td>real</td>\n",
       "      <td>train/real/31355.jpg</td>\n",
       "    </tr>\n",
       "    <tr>\n",
       "      <th>1</th>\n",
       "      <td>1</td>\n",
       "      <td>/kaggle/input/flickrfaceshq-dataset-nvidia-par...</td>\n",
       "      <td>02884</td>\n",
       "      <td>1</td>\n",
       "      <td>real</td>\n",
       "      <td>train/real/02884.jpg</td>\n",
       "    </tr>\n",
       "    <tr>\n",
       "      <th>2</th>\n",
       "      <td>2</td>\n",
       "      <td>/kaggle/input/flickrfaceshq-dataset-nvidia-par...</td>\n",
       "      <td>33988</td>\n",
       "      <td>1</td>\n",
       "      <td>real</td>\n",
       "      <td>train/real/33988.jpg</td>\n",
       "    </tr>\n",
       "    <tr>\n",
       "      <th>3</th>\n",
       "      <td>3</td>\n",
       "      <td>/kaggle/input/flickrfaceshq-dataset-nvidia-par...</td>\n",
       "      <td>53875</td>\n",
       "      <td>1</td>\n",
       "      <td>real</td>\n",
       "      <td>train/real/53875.jpg</td>\n",
       "    </tr>\n",
       "    <tr>\n",
       "      <th>4</th>\n",
       "      <td>4</td>\n",
       "      <td>/kaggle/input/flickrfaceshq-dataset-nvidia-par...</td>\n",
       "      <td>24149</td>\n",
       "      <td>1</td>\n",
       "      <td>real</td>\n",
       "      <td>train/real/24149.jpg</td>\n",
       "    </tr>\n",
       "    <tr>\n",
       "      <th>...</th>\n",
       "      <td>...</td>\n",
       "      <td>...</td>\n",
       "      <td>...</td>\n",
       "      <td>...</td>\n",
       "      <td>...</td>\n",
       "      <td>...</td>\n",
       "    </tr>\n",
       "    <tr>\n",
       "      <th>99995</th>\n",
       "      <td>49995</td>\n",
       "      <td>/kaggle/input/1-million-fake-faces/1m_faces_04...</td>\n",
       "      <td>H1JLRZ3J8U</td>\n",
       "      <td>0</td>\n",
       "      <td>fake</td>\n",
       "      <td>train/fake/H1JLRZ3J8U.jpg</td>\n",
       "    </tr>\n",
       "    <tr>\n",
       "      <th>99996</th>\n",
       "      <td>49996</td>\n",
       "      <td>/kaggle/input/1-million-fake-faces/1m_faces_00...</td>\n",
       "      <td>NRHSNJCH6X</td>\n",
       "      <td>0</td>\n",
       "      <td>fake</td>\n",
       "      <td>train/fake/NRHSNJCH6X.jpg</td>\n",
       "    </tr>\n",
       "    <tr>\n",
       "      <th>99997</th>\n",
       "      <td>49997</td>\n",
       "      <td>/kaggle/input/1-million-fake-faces/1m_faces_00...</td>\n",
       "      <td>2KN0ZS1R7V</td>\n",
       "      <td>0</td>\n",
       "      <td>fake</td>\n",
       "      <td>train/fake/2KN0ZS1R7V.jpg</td>\n",
       "    </tr>\n",
       "    <tr>\n",
       "      <th>99998</th>\n",
       "      <td>49998</td>\n",
       "      <td>/kaggle/input/1-million-fake-faces/1m_faces_04...</td>\n",
       "      <td>Y6UL82SD8A</td>\n",
       "      <td>0</td>\n",
       "      <td>fake</td>\n",
       "      <td>train/fake/Y6UL82SD8A.jpg</td>\n",
       "    </tr>\n",
       "    <tr>\n",
       "      <th>99999</th>\n",
       "      <td>49999</td>\n",
       "      <td>/kaggle/input/1-million-fake-faces/1m_faces_12...</td>\n",
       "      <td>73ILM40K3Z</td>\n",
       "      <td>0</td>\n",
       "      <td>fake</td>\n",
       "      <td>train/fake/73ILM40K3Z.jpg</td>\n",
       "    </tr>\n",
       "  </tbody>\n",
       "</table>\n",
       "<p>100000 rows × 6 columns</p>\n",
       "</div>"
      ],
      "text/plain": [
       "       Unnamed: 0                                      original_path  \\\n",
       "0               0  /kaggle/input/flickrfaceshq-dataset-nvidia-par...   \n",
       "1               1  /kaggle/input/flickrfaceshq-dataset-nvidia-par...   \n",
       "2               2  /kaggle/input/flickrfaceshq-dataset-nvidia-par...   \n",
       "3               3  /kaggle/input/flickrfaceshq-dataset-nvidia-par...   \n",
       "4               4  /kaggle/input/flickrfaceshq-dataset-nvidia-par...   \n",
       "...           ...                                                ...   \n",
       "99995       49995  /kaggle/input/1-million-fake-faces/1m_faces_04...   \n",
       "99996       49996  /kaggle/input/1-million-fake-faces/1m_faces_00...   \n",
       "99997       49997  /kaggle/input/1-million-fake-faces/1m_faces_00...   \n",
       "99998       49998  /kaggle/input/1-million-fake-faces/1m_faces_04...   \n",
       "99999       49999  /kaggle/input/1-million-fake-faces/1m_faces_12...   \n",
       "\n",
       "               id  label label_str                       path  \n",
       "0           31355      1      real       train/real/31355.jpg  \n",
       "1           02884      1      real       train/real/02884.jpg  \n",
       "2           33988      1      real       train/real/33988.jpg  \n",
       "3           53875      1      real       train/real/53875.jpg  \n",
       "4           24149      1      real       train/real/24149.jpg  \n",
       "...           ...    ...       ...                        ...  \n",
       "99995  H1JLRZ3J8U      0      fake  train/fake/H1JLRZ3J8U.jpg  \n",
       "99996  NRHSNJCH6X      0      fake  train/fake/NRHSNJCH6X.jpg  \n",
       "99997  2KN0ZS1R7V      0      fake  train/fake/2KN0ZS1R7V.jpg  \n",
       "99998  Y6UL82SD8A      0      fake  train/fake/Y6UL82SD8A.jpg  \n",
       "99999  73ILM40K3Z      0      fake  train/fake/73ILM40K3Z.jpg  \n",
       "\n",
       "[100000 rows x 6 columns]"
      ]
     },
     "execution_count": 3,
     "metadata": {},
     "output_type": "execute_result"
    }
   ],
   "source": [
    "train_meta"
   ]
  },
  {
   "cell_type": "code",
   "execution_count": 4,
   "id": "0cc1a1be-998a-497b-9e83-92856af22ef3",
   "metadata": {},
   "outputs": [
    {
     "name": "stdout",
     "output_type": "stream",
     "text": [
      "label_str\n",
      "real    50000\n",
      "fake    50000\n",
      "Name: count, dtype: int64\n",
      "label_str\n",
      "real    10000\n",
      "fake    10000\n",
      "Name: count, dtype: int64\n",
      "label_str\n",
      "real    10000\n",
      "fake    10000\n",
      "Name: count, dtype: int64\n"
     ]
    }
   ],
   "source": [
    "df_list = [train_meta, valid_meta, test_meta]\n",
    "for x in df_list:\n",
    "    print(x['label_str'].value_counts())"
   ]
  },
  {
   "cell_type": "code",
   "execution_count": 5,
   "id": "b2821e6e-af6e-4bac-9c0e-4cf08c0b4602",
   "metadata": {},
   "outputs": [
    {
     "ename": "SyntaxError",
     "evalue": "invalid syntax (visualize.py, line 75)",
     "output_type": "error",
     "traceback": [
      "Traceback \u001b[0;36m(most recent call last)\u001b[0m:\n",
      "\u001b[0m  File \u001b[1;32m/opt/homebrew/Caskroom/miniforge/base/envs/ava/lib/python3.9/site-packages/IPython/core/interactiveshell.py:3548\u001b[0m in \u001b[1;35mrun_code\u001b[0m\n    exec(code_obj, self.user_global_ns, self.user_ns)\u001b[0m\n",
      "\u001b[0;36m  Cell \u001b[0;32mIn[5], line 1\u001b[0;36m\n\u001b[0;31m    from functions.visualize import plot_images, sample_images, multi_plot\u001b[0;36m\n",
      "\u001b[0;36m  File \u001b[0;32m~/LHL_projects/Face2Face_Real_vs_Fake/notebooks/functions/visualize.py:75\u001b[0;36m\u001b[0m\n\u001b[0;31m    def multi_scatter()\u001b[0m\n\u001b[0m                       ^\u001b[0m\n\u001b[0;31mSyntaxError\u001b[0m\u001b[0;31m:\u001b[0m invalid syntax\n"
     ]
    }
   ],
   "source": [
    "from functions.visualize import plot_images, sample_images, multi_plot"
   ]
  },
  {
   "cell_type": "code",
   "execution_count": null,
   "id": "7650f6e3-9fb1-4312-86f3-06e879e92236",
   "metadata": {},
   "outputs": [],
   "source": [
    "multi_plot()\n",
    "fig.suptitle('Class Distribution By Set')\n",
    "title_list=['train_set','valid_set','test_set']\n",
    "axis_list = [(0,0),(0,1),(0,2)]\n",
    "for x in range(3):\n",
    "    sns.histplot(data=df_list[x], x='label_str',ax=axes[x]).set(title=title_list[x])\n"
   ]
  },
  {
   "cell_type": "code",
   "execution_count": null,
   "id": "2010ac87-1ed7-4e18-b11a-983af8f4217b",
   "metadata": {},
   "outputs": [],
   "source": [
    "fake_images, real_images = sample_images('train',3)\n",
    "for x in ['fake', 'real']:\n",
    "    plot_images(x, fake_images, real_images)"
   ]
  },
  {
   "cell_type": "code",
   "execution_count": null,
   "id": "1de66306-7a95-49c5-8e0f-2d9685a91703",
   "metadata": {},
   "outputs": [],
   "source": [
    "fake_images, real_images = sample_images('test',3)\n",
    "for x in ['fake', 'real']:\n",
    "    plot_images(x, fake_images, real_images)"
   ]
  },
  {
   "cell_type": "code",
   "execution_count": null,
   "id": "ac3cd802-9e2c-4fe5-81ac-a0b8f08b00d7",
   "metadata": {},
   "outputs": [],
   "source": [
    "fake_images, real_images = sample_images('valid',3)\n",
    "for x in ['fake', 'real']:\n",
    "    plot_images(x, fake_images, real_images)"
   ]
  },
  {
   "cell_type": "code",
   "execution_count": null,
   "id": "cb2e30f7-936d-4f79-b2fe-55aa96fe6e73",
   "metadata": {},
   "outputs": [],
   "source": [
    "from functions.image_size import path_list, image_size\n",
    "train_path = path_list(train_meta)\n",
    "valid_path = path_list(valid_meta)\n",
    "test_path = path_list(test_meta)"
   ]
  },
  {
   "cell_type": "code",
   "execution_count": null,
   "id": "b98c3fc5-fd80-4b15-b256-f4813643671a",
   "metadata": {},
   "outputs": [],
   "source": [
    "train_x, train_y = zip(*image_size(train_path))\n",
    "valid_x, valid_y = zip(*image_size(valid_path))\n",
    "test_x, test_y = zip(*image_size(test_path))"
   ]
  },
  {
   "cell_type": "code",
   "execution_count": null,
   "id": "f34755a9-b787-446c-a814-983de91d0221",
   "metadata": {},
   "outputs": [],
   "source": [
    "fig, axes = plt.subplots(1, 3, figsize=(8, 4))\n",
    "fig.subplots_adjust(hspace=0.30, wspace=0.5)\n",
    "fig.suptitle('Image Size By Set')\n",
    "title_list=['train_set','valid_set','test_set']\n",
    "axis_list = [(0,0),(0,1),(0,2)]\n",
    "x_values = [train_x, valid_x, test_x]\n",
    "y_values = [train_y, valid_y, test_y]\n",
    "for x in range(3):\n",
    "    sns.scatterplot(x=x_values[x], y=y_values[x],ax=axes[x]).set(title=title_list[x])"
   ]
  },
  {
   "cell_type": "code",
   "execution_count": null,
   "id": "c1fe5ae9-55b7-49fb-b122-f9ac3459b41e",
   "metadata": {},
   "outputs": [],
   "source": [
    "# testing for rgb or greyscale\n",
    "train_colors = []\n",
    "valid_colors = []\n",
    "test_colors = []\n",
    "for x in range(len(train_path)):\n",
    "    train_colors.append(Image.open(f'../real_vs_fake/real-vs-fake/{train_path[x]}').getbands())\n",
    "for x in range(len(valid_path)):\n",
    "    valid_colors.append(Image.open(f'../real_vs_fake/real-vs-fake/{valid_path[x]}').getbands())\n",
    "for x in range(len(test_path)):\n",
    "    test_colors.append(Image.open(f'../real_vs_fake/real-vs-fake/{test_path[x]}').getbands())"
   ]
  },
  {
   "cell_type": "code",
   "execution_count": null,
   "id": "f9f96d8f-de2b-42ec-8df0-e3aad12637e1",
   "metadata": {},
   "outputs": [],
   "source": [
    "train_rgb = []\n",
    "valid_rgb = []\n",
    "test_rgb = []\n",
    "for x in train_colors:\n",
    "    if x == ('R', 'G', 'B'):\n",
    "        train_rgb.append(x)\n",
    "for x in valid_colors:\n",
    "    if x == ('R', 'G', 'B'):\n",
    "        valid_rgb.append(x)\n",
    "for x in test_colors:\n",
    "    if x == ('R', 'G', 'B'):\n",
    "        test_rgb.append(x)\n",
    "len(train_rgb), len(valid_rgb), len(test_rgb)"
   ]
  },
  {
   "cell_type": "code",
   "execution_count": null,
   "id": "742b7a0e-c4dc-4c80-a4bd-4577567648b3",
   "metadata": {},
   "outputs": [],
   "source": [
    "fake_image = Image.open(f'../real_vs_fake/real-vs-fake/{fake_images[0]}')\n",
    "real_image = Image.open(f'../real_vs_fake/real-vs-fake/{real_images[0]}')"
   ]
  },
  {
   "cell_type": "code",
   "execution_count": null,
   "id": "af4c01f3-0c13-4dd6-870b-8dcb4fde42d5",
   "metadata": {},
   "outputs": [],
   "source": [
    "fake_image"
   ]
  },
  {
   "cell_type": "code",
   "execution_count": null,
   "id": "29562b35-913c-4651-8ed4-98ddda6ce3b0",
   "metadata": {},
   "outputs": [],
   "source": [
    "fake_array = np.array(fake_image)\n",
    "for x in range(3):\n",
    "    plt.hist(fake_array[:, :, x].ravel(), bins=256, color=f'C{x}', alpha=0.6)\n",
    "plt.show()"
   ]
  },
  {
   "cell_type": "code",
   "execution_count": null,
   "id": "faac133a-9112-4fa6-90e9-76554ae33fd2",
   "metadata": {},
   "outputs": [],
   "source": [
    "real_image"
   ]
  },
  {
   "cell_type": "code",
   "execution_count": null,
   "id": "d7797adc-83a1-4a94-a2ef-2f35d7e9809f",
   "metadata": {},
   "outputs": [],
   "source": [
    "real_array = np.array(Image.open(f'../real_vs_fake/real-vs-fake/{real_images[0]}'))\n",
    "for x in range(3):\n",
    "    plt.hist(real_array[:, :, x].ravel(), bins=256, color=f'C{x}', alpha=0.6)\n",
    "plt.show()"
   ]
  }
 ],
 "metadata": {
  "kernelspec": {
   "display_name": "ava",
   "language": "python",
   "name": "ava"
  },
  "language_info": {
   "codemirror_mode": {
    "name": "ipython",
    "version": 3
   },
   "file_extension": ".py",
   "mimetype": "text/x-python",
   "name": "python",
   "nbconvert_exporter": "python",
   "pygments_lexer": "ipython3",
   "version": "3.9.16"
  }
 },
 "nbformat": 4,
 "nbformat_minor": 5
}
