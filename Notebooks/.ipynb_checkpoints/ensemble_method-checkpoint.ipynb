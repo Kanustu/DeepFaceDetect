{
 "cells": [
  {
   "cell_type": "code",
   "execution_count": null,
   "metadata": {
    "id": "PBGiGIEWOsUQ"
   },
   "outputs": [],
   "source": [
    "# Importing necessary libraries for model evaluation and visualization\n",
    "\n",
    "import pickle           # For working with pickle files\n",
    "import pandas as pd      # For data manipulation and analysis\n",
    "import numpy as np       # For numerical operations\n",
    "import seaborn as sns    # For statistical data visualization\n",
    "from matplotlib import pyplot as plt    # For creating plots and visualizations\n",
    "import tensorflow as tf  # TensorFlow for deep learning\n",
    "from tensorflow.keras.preprocessing.image import ImageDataGenerator  # For image data augmentation\n",
    "from sklearn.metrics import (\n",
    "    accuracy_score, f1_score, precision_score, recall_score, confusion_matrix, classification_report\n",
    ")  # For model evaluation metrics"
   ]
  },
  {
   "cell_type": "code",
   "execution_count": null,
   "metadata": {
    "id": "re34kRmBtO0G"
   },
   "outputs": [],
   "source": [
    "# Importing a custom function to load models and defining file paths\n",
    "\n",
    "from functions.modeling import load_models  # Custom function for loading models\n",
    "\n",
    "# List of file paths for pre-trained models in pickle format\n",
    "file_paths = [\n",
    "    '/content/drive/MyDrive/face2face/models/Custom.pkl',\n",
    "    '/content/drive/MyDrive/face2face/models/VGG16.pkl',\n",
    "    '/content/drive/MyDrive/face2face/models/ResNet.pkl',\n",
    "    '/content/drive/MyDrive/face2face/models/Xception.pkl'\n",
    "]"
   ]
  },
  {
   "cell_type": "code",
   "execution_count": 1,
   "metadata": {
    "colab": {
     "base_uri": "https://localhost:8080/"
    },
    "id": "msXdZW8ZT-vC",
    "outputId": "4667cad6-d645-445e-a8df-5f930d7d846b"
   },
   "outputs": [],
   "source": [
    "# Unzipping a compressed file containing images\n",
    "!unzip drive/My\\ Drive/images.zip"
   ]
  },
  {
   "cell_type": "code",
   "execution_count": null,
   "metadata": {
    "id": "Z6wfemKKWmxH"
   },
   "outputs": [],
   "source": [
    "# Specify the base path where your image data is stored\n",
    "base_path = '/content/real_vs_fake/real-vs-fake/'\n",
    "\n",
    "\n",
    "# Create an ImageDataGenerator for image preprocessing and augmentation\n",
    "image_gen = ImageDataGenerator(rescale=1./255.,\n",
    "                               horizontal_flip=True)"
   ]
  },
  {
   "cell_type": "code",
   "execution_count": null,
   "metadata": {
    "colab": {
     "base_uri": "https://localhost:8080/"
    },
    "id": "DzBW4g6XWoCW",
    "outputId": "2be9ee42-fa98-4e40-dee3-5b8dc10f6552"
   },
   "outputs": [
    {
     "name": "stdout",
     "output_type": "stream",
     "text": [
      "Found 20000 images belonging to 2 classes.\n"
     ]
    }
   ],
   "source": [
    "# Creating a generator for testing images with specified properties\n",
    "X_test = image_gen.flow_from_directory(\n",
    "    base_path + 'test/',\n",
    "    target_size=(224, 224),\n",
    "    batch_size=128,\n",
    "    class_mode='binary',\n",
    "    shuffle=False\n",
    ")"
   ]
  },
  {
   "cell_type": "code",
   "execution_count": null,
   "metadata": {
    "id": "nn0-q5rsOvxd"
   },
   "outputs": [],
   "source": [
    "# Importing a custom function to load models and defining file paths\n",
    "from functions.modeling import load_models  # Custom function for loading models\n",
    "\n",
    "# Using the custom function load_models to load pre-trained models\n",
    "model_list = load_models(file_paths)"
   ]
  },
  {
   "cell_type": "code",
   "execution_count": null,
   "metadata": {
    "colab": {
     "base_uri": "https://localhost:8080/"
    },
    "id": "wgedTkrFQWaR",
    "outputId": "a0200ec5-a337-41ee-b585-dca208683d12"
   },
   "outputs": [
    {
     "name": "stdout",
     "output_type": "stream",
     "text": [
      "157/157 [==============================] - 51s 298ms/step\n",
      "157/157 [==============================] - 107s 552ms/step\n",
      "157/157 [==============================] - 70s 396ms/step\n",
      "157/157 [==============================] - 96s 527ms/step\n"
     ]
    }
   ],
   "source": [
    "# Initializing an empty list to store predictions for each model\n",
    "predictions = []\n",
    "\n",
    "# Looping through each pre-trained model and making predictions on the test set\n",
    "for model in model_list:\n",
    "    predictions.append(model.predict(X_test))"
   ]
  },
  {
   "cell_type": "code",
   "execution_count": null,
   "metadata": {
    "id": "C-Na6VK0dDmp"
   },
   "outputs": [],
   "source": [
    "# Calculating the mean of predictions along the specified axis (axis=0) to form ensemble predictions\n",
    "ensemble_predictions = np.mean(predictions, axis=0)"
   ]
  },
  {
   "cell_type": "code",
   "execution_count": null,
   "metadata": {
    "colab": {
     "base_uri": "https://localhost:8080/"
    },
    "id": "zWS1qG4Ldodn",
    "outputId": "eff0c172-8e97-4266-afa6-9b8f7f516541"
   },
   "outputs": [
    {
     "data": {
      "text/plain": [
       "array([[0.1968526 ],\n",
       "       [0.26107055],\n",
       "       [0.3227063 ],\n",
       "       ...,\n",
       "       [0.5924765 ],\n",
       "       [0.8391501 ],\n",
       "       [0.799956  ]], dtype=float32)"
      ]
     },
     "execution_count": 12,
     "metadata": {},
     "output_type": "execute_result"
    }
   ],
   "source": [
    "ensemble_predictions"
   ]
  },
  {
   "cell_type": "code",
   "execution_count": null,
   "metadata": {
    "id": "ylrYv9-odRQs"
   },
   "outputs": [],
   "source": [
    "# Applying a threshold of 0.5 to the predicted probabilities\n",
    "# If the probability is greater than 0.5, set the label to 1 (positive), else 0 (negative)\n",
    "y_pred = (ensemble_predictions > 0.5).astype(int)"
   ]
  },
  {
   "cell_type": "code",
   "execution_count": null,
   "metadata": {
    "id": "pILphXqeeDJV"
   },
   "outputs": [],
   "source": [
    "# Obtaining true class labels from the test set\n",
    "y_true = X_test.labels"
   ]
  },
  {
   "cell_type": "code",
   "execution_count": null,
   "metadata": {
    "id": "x7M1e_s8edJY"
   },
   "outputs": [],
   "source": [
    "# Creating a confusion matrix to analyze model performance\n",
    "cm = confusion_matrix(y_true, y_pred_labels)"
   ]
  },
  {
   "cell_type": "code",
   "execution_count": null,
   "metadata": {
    "colab": {
     "base_uri": "https://localhost:8080/"
    },
    "id": "oza72t0feiNo",
    "outputId": "2c36a8ba-93de-4ae4-e6fa-b23115079586"
   },
   "outputs": [
    {
     "data": {
      "text/plain": [
       "0.9534"
      ]
     },
     "execution_count": 20,
     "metadata": {},
     "output_type": "execute_result"
    }
   ],
   "source": [
    "# Using accuracy_score to compute the accuracy of the ensemble predictions compared to true labels\n",
    "accuracy = accuracy_score(y_true, y_pred)"
   ]
  },
  {
   "cell_type": "code",
   "execution_count": null,
   "metadata": {
    "id": "goMV3_2oetfV"
   },
   "outputs": [],
   "source": [
    "# Computing precision, recall, and F1 score using respective functions\n",
    "pre = precision_score(y_true, y_pred)  # Precision\n",
    "rec = recall_score(y_true, y_pred)     # Recall\n",
    "f1 = f1_score(y_true, y_pred)          # F1 score"
   ]
  },
  {
   "cell_type": "code",
   "execution_count": null,
   "metadata": {
    "colab": {
     "base_uri": "https://localhost:8080/"
    },
    "id": "pQz-F1WPe0XF",
    "outputId": "d13880f3-4095-4728-a314-27aa83bdf288"
   },
   "outputs": [
    {
     "data": {
      "text/plain": [
       "(0.951593625498008, 0.9554, 0.9534930139720559)"
      ]
     },
     "execution_count": 22,
     "metadata": {},
     "output_type": "execute_result"
    }
   ],
   "source": [
    "# Displaying precision, recall, and f1 score\n",
    "pre, rec, f1"
   ]
  },
  {
   "cell_type": "code",
   "execution_count": null,
   "metadata": {
    "colab": {
     "base_uri": "https://localhost:8080/",
     "height": 472
    },
    "id": "lTVCI8LZhM6P",
    "outputId": "1d87ccbb-22ca-4bfd-92eb-ef6f70dc16b4"
   },
   "outputs": [
    {
     "data": {
      "image/png": "[encoded data removed]",
      "text/plain": [
       "<Figure size 640x480 with 1 Axes>"
      ]
     },
     "metadata": {},
     "output_type": "display_data"
    }
   ],
   "source": [
    "# Generating a heatmap with annotations, specified formatting, and color map\n",
    "sns.heatmap(cm, annot=True, fmt='d', cbar=False, cmap='Blues', xticklabels=['Predicted 0', 'Predicted 1'], yticklabels=['Actual 0', 'Actual 1'])\n",
    "\n",
    "# Adding labels and title to the plot\n",
    "plt.xlabel('Predicted')\n",
    "plt.ylabel('Actual')\n",
    "plt.title('Confusion Matrix(Ensemble)')\n",
    "\n",
    "# Displaying the plot\n",
    "plt.show()"
   ]
  }
 ],
 "metadata": {
  "accelerator": "GPU",
  "colab": {
   "gpuType": "T4",
   "machine_shape": "hm",
   "provenance": []
  },
  "kernelspec": {
   "display_name": "Python 3 (ipykernel)",
   "language": "python",
   "name": "python3"
  },
  "language_info": {
   "codemirror_mode": {
    "name": "ipython",
    "version": 3
   },
   "file_extension": ".py",
   "mimetype": "text/x-python",
   "name": "python",
   "nbconvert_exporter": "python",
   "pygments_lexer": "ipython3",
   "version": "3.9.16"
  }
 },
 "nbformat": 4,
 "nbformat_minor": 4
}
