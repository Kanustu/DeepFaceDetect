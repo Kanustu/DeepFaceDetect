{
 "cells": [
  {
   "cell_type": "code",
   "execution_count": null,
   "id": "e5d74946-669e-409d-af34-d5c5d2f91ae8",
   "metadata": {
    "id": "e5d74946-669e-409d-af34-d5c5d2f91ae8"
   },
   "outputs": [],
   "source": [
    "# Importing necessary libraries\n",
    "import pandas as pd\n",
    "import numpy as np\n",
    "import tensorflow as tf\n",
    "import seaborn as sns\n",
    "import matplotlib.pyplot as plt\n",
    "import sys\n",
    "from PIL import Image\n",
    "from matplotlib import pyplot as plt\n",
    "from tensorflow.keras.optimizers import Adam\n",
    "from tensorflow.keras.models import Sequential\n",
    "from tensorflow.keras.callbacks import EarlyStopping\n",
    "from tensorflow.keras.layers import Convolution2D, Dropout, Input, GlobalAveragePooling2D, MaxPooling2D, Flatten, Dense# Sequential model for building a linear stack of layers\n",
    "from tensorflow.keras.preprocessing.image import ImageDataGenerator"
   ]
  },
  {
   "cell_type": "code",
   "execution_count": null,
   "id": "Y2tavp8vWZ1E",
   "metadata": {
    "colab": {
     "base_uri": "https://localhost:8080/"
    },
    "id": "Y2tavp8vWZ1E",
    "outputId": "51b0685f-2f02-42e3-b146-f488189b8796"
   },
   "outputs": [
    {
     "name": "stdout",
     "output_type": "stream",
     "text": [
      "Mounted at /content/drive\n"
     ]
    }
   ],
   "source": [
    "# Importing the drive module from the google.colab library\n",
    "from google.colab import drive\n",
    "\n",
    "# Mounting Google Drive to the '/content/drive' directory\n",
    "drive.mount('/content/drive')"
   ]
  },
  {
   "cell_type": "code",
   "execution_count": 1,
   "id": "uoPhiIeHBPHP",
   "metadata": {
    "colab": {
     "base_uri": "https://localhost:8080/"
    },
    "id": "uoPhiIeHBPHP",
    "outputId": "6bb7e37b-1b37-4154-9a44-6c9081f5cdbb"
   },
   "outputs": [],
   "source": [
    "# Unzipping the 'images.zip' file located in 'drive/My Drive' directory\n",
    "!unzip drive/My\\ Drive/images.zip"
   ]
  },
  {
   "cell_type": "code",
   "execution_count": null,
   "id": "e9b9aa6c-008b-40b9-bf9d-4ee278147586",
   "metadata": {
    "id": "e9b9aa6c-008b-40b9-bf9d-4ee278147586"
   },
   "outputs": [],
   "source": [
    "# Specify the base path where your image data is stored\n",
    "base_path = '/content/real_vs_fake/real-vs-fake/'\n",
    "\n",
    "\n",
    "# Create an ImageDataGenerator for image preprocessing and augmentation\n",
    "image_gen = ImageDataGenerator(rescale=1./255.,\n",
    "                               horizontal_flip=True)"
   ]
  },
  {
   "cell_type": "code",
   "execution_count": null,
   "id": "1e30d3da-fc0a-4b94-a067-53cc83e5ebdd",
   "metadata": {
    "colab": {
     "base_uri": "https://localhost:8080/"
    },
    "id": "1e30d3da-fc0a-4b94-a067-53cc83e5ebdd",
    "outputId": "2e6979f6-4b6c-43f5-870e-bd3d87edca63"
   },
   "outputs": [
    {
     "name": "stdout",
     "output_type": "stream",
     "text": [
      "Found 100000 images belonging to 2 classes.\n",
      "Found 20000 images belonging to 2 classes.\n",
      "Found 20000 images belonging to 2 classes.\n"
     ]
    }
   ],
   "source": [
    "# Configuring image data generators for the Custom model on the training, validation, and test sets\n",
    "# Training set data generator\n",
    "Custom_train=image_gen.flow_from_directory(\n",
    "    base_path + 'train/',\n",
    "    target_size=(224, 224),\n",
    "    batch_size=128,\n",
    "    class_mode='binary'\n",
    ")\n",
    "# Validation set data generator\n",
    "Custom_valid=image_gen.flow_from_directory(\n",
    "    base_path + 'valid/',\n",
    "    target_size=(224, 224),\n",
    "    batch_size=128,\n",
    "    class_mode='binary'\n",
    ")\n",
    "# Test set data generator\n",
    "Custom_test=image_gen.flow_from_directory(\n",
    "    base_path + 'test/',\n",
    "    target_size=(224, 224),\n",
    "    batch_size=128,\n",
    "    class_mode='binary',\n",
    "    shuffle=False\n",
    ")"
   ]
  },
  {
   "cell_type": "code",
   "execution_count": null,
   "id": "12da83d3-f67a-4c83-ad00-ae4fb0a020f4",
   "metadata": {
    "colab": {
     "base_uri": "https://localhost:8080/"
    },
    "id": "12da83d3-f67a-4c83-ad00-ae4fb0a020f4",
    "outputId": "bb1ad621-379d-4a92-90d6-f9c5b096ed0a"
   },
   "outputs": [
    {
     "name": "stdout",
     "output_type": "stream",
     "text": [
      "Model: \"sequential_1\"\n",
      "_________________________________________________________________\n",
      " Layer (type)                Output Shape              Param #   \n",
      "=================================================================\n",
      " conv2d_3 (Conv2D)           (None, 222, 222, 32)      896       \n",
      "                                                                 \n",
      " max_pooling2d_3 (MaxPoolin  (None, 111, 111, 32)      0         \n",
      " g2D)                                                            \n",
      "                                                                 \n",
      " conv2d_4 (Conv2D)           (None, 109, 109, 64)      18496     \n",
      "                                                                 \n",
      " max_pooling2d_4 (MaxPoolin  (None, 54, 54, 64)        0         \n",
      " g2D)                                                            \n",
      "                                                                 \n",
      " conv2d_5 (Conv2D)           (None, 52, 52, 128)       73856     \n",
      "                                                                 \n",
      " max_pooling2d_5 (MaxPoolin  (None, 26, 26, 128)       0         \n",
      " g2D)                                                            \n",
      "                                                                 \n",
      " flatten_1 (Flatten)         (None, 86528)             0         \n",
      "                                                                 \n",
      " dense_2 (Dense)             (None, 128)               11075712  \n",
      "                                                                 \n",
      " dense_3 (Dense)             (None, 1)                 129       \n",
      "                                                                 \n",
      "=================================================================\n",
      "Total params: 11169089 (42.61 MB)\n",
      "Trainable params: 11169089 (42.61 MB)\n",
      "Non-trainable params: 0 (0.00 Byte)\n",
      "_________________________________________________________________\n"
     ]
    }
   ],
   "source": [
    "# Defining a Convolutional Neural Network (CNN) model architecture\n",
    "\n",
    "# Creating a sequential model\n",
    "classifier = Sequential()\n",
    "\n",
    "# Adding a convolutional layer with 32 filters, a 3x3 kernel, and ReLU activation\n",
    "classifier.add(Convolution2D(32, (3, 3), activation='relu', input_shape=(224, 224, 3)))\n",
    "\n",
    "# Adding a max pooling layer with a 2x2 pool size\n",
    "classifier.add(MaxPooling2D((2, 2)))\n",
    "\n",
    "# Adding another convolutional layer with 64 filters and a 3x3 kernel\n",
    "classifier.add(Convolution2D(64, (3, 3), activation='relu'))\n",
    "\n",
    "# Adding another max pooling layer\n",
    "classifier.add(MaxPooling2D((2, 2)))\n",
    "\n",
    "# Adding another convolutional layer with 128 filters and a 3x3 kernel\n",
    "classifier.add(Convolution2D(128, (3, 3), activation='relu'))\n",
    "\n",
    "# Adding another max pooling layer\n",
    "classifier.add(MaxPooling2D((2, 2)))\n",
    "\n",
    "# Flattening the output before passing it to the fully connected layers\n",
    "classifier.add(Flatten())\n",
    "\n",
    "# Adding a fully connected layer with 128 neurons and ReLU activation\n",
    "classifier.add(Dense(128, activation='relu'))\n",
    "\n",
    "# Adding the output layer with a single neuron for binary classification and sigmoid activation\n",
    "classifier.add(Dense(1, activation='sigmoid'))\n",
    "\n",
    "# Displaying the model summary\n",
    "classifier.summary()"
   ]
  },
  {
   "cell_type": "code",
   "execution_count": null,
   "id": "02f4b2d6-8026-4b27-8433-ac635b7a450e",
   "metadata": {
    "id": "02f4b2d6-8026-4b27-8433-ac635b7a450e"
   },
   "outputs": [],
   "source": [
    "# Configuring the model for training with the Adam optimizer, binary crossentropy loss, and accuracy metric\n",
    "classifier.compile(optimizer='adam', loss='binary_crossentropy', metrics=['accuracy'])"
   ]
  },
  {
   "cell_type": "code",
   "execution_count": null,
   "id": "487b4784-c842-426e-b85c-d9a1a51c1d65",
   "metadata": {
    "colab": {
     "base_uri": "https://localhost:8080/"
    },
    "id": "487b4784-c842-426e-b85c-d9a1a51c1d65",
    "outputId": "bac7c5c9-5668-45ed-d438-acf03b106d22"
   },
   "outputs": [
    {
     "name": "stdout",
     "output_type": "stream",
     "text": [
      "Epoch 1/10\n",
      "782/782 [==============================] - 290s 357ms/step - loss: 0.5117 - accuracy: 0.7437 - val_loss: 0.4129 - val_accuracy: 0.8110\n",
      "Epoch 2/10\n",
      "782/782 [==============================] - 279s 357ms/step - loss: 0.3361 - accuracy: 0.8541 - val_loss: 0.2792 - val_accuracy: 0.8826\n",
      "Epoch 3/10\n",
      "782/782 [==============================] - 278s 355ms/step - loss: 0.2432 - accuracy: 0.8988 - val_loss: 0.2306 - val_accuracy: 0.9050\n",
      "Epoch 4/10\n",
      "782/782 [==============================] - 277s 355ms/step - loss: 0.1856 - accuracy: 0.9245 - val_loss: 0.2039 - val_accuracy: 0.9205\n",
      "Epoch 5/10\n",
      "782/782 [==============================] - 277s 355ms/step - loss: 0.1533 - accuracy: 0.9397 - val_loss: 0.1714 - val_accuracy: 0.9327\n",
      "Epoch 6/10\n",
      "782/782 [==============================] - 276s 353ms/step - loss: 0.1288 - accuracy: 0.9507 - val_loss: 0.1599 - val_accuracy: 0.9380\n",
      "Epoch 7/10\n",
      "782/782 [==============================] - 276s 353ms/step - loss: 0.1061 - accuracy: 0.9591 - val_loss: 0.1769 - val_accuracy: 0.9313\n",
      "Epoch 8/10\n",
      "782/782 [==============================] - 279s 356ms/step - loss: 0.0930 - accuracy: 0.9649 - val_loss: 0.1498 - val_accuracy: 0.9446\n",
      "Epoch 9/10\n",
      "782/782 [==============================] - 280s 357ms/step - loss: 0.0831 - accuracy: 0.9683 - val_loss: 0.1315 - val_accuracy: 0.9508\n",
      "Epoch 10/10\n",
      "782/782 [==============================] - 280s 358ms/step - loss: 0.0697 - accuracy: 0.9737 - val_loss: 0.1388 - val_accuracy: 0.9513\n"
     ]
    }
   ],
   "source": [
    "# Fitting the model to the training data for a specified number of epochs (10 in this case)\n",
    "# Validating the model performance on the validation data\n",
    "history = classifier.fit(Custom_train, epochs=10, validation_data=(Custom_valid))"
   ]
  },
  {
   "cell_type": "code",
   "execution_count": null,
   "id": "ef92bff3-06db-4d4d-bfb1-964a2883ffca",
   "metadata": {
    "id": "ef92bff3-06db-4d4d-bfb1-964a2883ffca"
   },
   "outputs": [],
   "source": [
    "# Saving the training history to a pickle file for later analysis or visualization\n",
    "with open('/content/drive/MyDrive/face2face/models/Custom_history.pkl', 'wb') as f:\n",
    "    pickle.dump(history.history, f)\n",
    "\n",
    "# Saving the trained CNN model to a pickle file for later use or deployment\n",
    "with open('/content/drive/MyDrive/face2face/models/Custom.pkl', 'wb') as f:\n",
    "    pickle.dump(classifier, f)"
   ]
  },
  {
   "cell_type": "code",
   "execution_count": null,
   "id": "4920e72e-4e50-4bf6-a408-02ea1c7b1140",
   "metadata": {
    "colab": {
     "base_uri": "https://localhost:8080/",
     "height": 452
    },
    "id": "4920e72e-4e50-4bf6-a408-02ea1c7b1140",
    "outputId": "e064ebb5-c8bf-466c-e8f3-9e99a2fedd5c"
   },
   "outputs": [
    {
     "data": {
      "image/png": "[encoded data removed]",
      "text/plain": [
       "<Figure size 640x480 with 1 Axes>"
      ]
     },
     "metadata": {},
     "output_type": "display_data"
    }
   ],
   "source": [
    "# Plotting the training loss curve with a label 'train'\n",
    "plt.plot(history.history['loss'], label='train')\n",
    "\n",
    "# Plotting the validation loss curve with a label 'test'\n",
    "plt.plot(history.history['val_loss'], label='test')\n",
    "\n",
    "# Adding a legend to the plot\n",
    "plt.legend()\n",
    "\n",
    "# Setting the title of the plot to 'Loss'\n",
    "plt.title('Loss')\n",
    "\n",
    "# Displaying the plot\n",
    "plt.show()"
   ]
  },
  {
   "cell_type": "code",
   "execution_count": null,
   "id": "afbad8e1-bafe-41a4-8ac8-28fb6d55aa46",
   "metadata": {
    "colab": {
     "base_uri": "https://localhost:8080/",
     "height": 452
    },
    "id": "afbad8e1-bafe-41a4-8ac8-28fb6d55aa46",
    "outputId": "b19b8aa9-a37e-4e41-c6c2-2ce582fa63f7"
   },
   "outputs": [
    {
     "data": {
      "image/png": "[encoded data removed]",
      "text/plain": [
       "<Figure size 640x480 with 1 Axes>"
      ]
     },
     "metadata": {},
     "output_type": "display_data"
    }
   ],
   "source": [
    "# Plotting the training accuracy curve with a label 'train'\n",
    "plt.plot(history.history['accuracy'], label='train')\n",
    "\n",
    "# Plotting the validation accuracy curve with a label 'test'\n",
    "plt.plot(history.history['val_accuracy'], label='test')\n",
    "\n",
    "# Adding a legend to the plot\n",
    "plt.legend()\n",
    "\n",
    "# Setting the title of the plot to 'Accuracy'\n",
    "plt.title('Accuracy')\n",
    "\n",
    "# Displaying the plot\n",
    "plt.show()"
   ]
  },
  {
   "cell_type": "code",
   "execution_count": null,
   "id": "Xewks4nG6yuN",
   "metadata": {
    "colab": {
     "base_uri": "https://localhost:8080/"
    },
    "id": "Xewks4nG6yuN",
    "outputId": "f8bbd6da-eff9-4118-82cb-8b8bf43dffdc"
   },
   "outputs": [
    {
     "name": "stdout",
     "output_type": "stream",
     "text": [
      "157/157 [==============================] - 46s 293ms/step - loss: 0.1298 - accuracy: 0.9523\n"
     ]
    },
    {
     "data": {
      "text/plain": [
       "[0.12983109056949615, 0.9523000121116638]"
      ]
     },
     "execution_count": 20,
     "metadata": {},
     "output_type": "execute_result"
    }
   ],
   "source": [
    "# Assessing the performance of the trained CNN model on the test dataset\n",
    "classifier.evaluate(Custom_test)"
   ]
  },
  {
   "cell_type": "code",
   "execution_count": null,
   "id": "4ee8df32-75a4-4df7-87ab-704bc83114dc",
   "metadata": {
    "colab": {
     "base_uri": "https://localhost:8080/"
    },
    "id": "4ee8df32-75a4-4df7-87ab-704bc83114dc",
    "outputId": "80b8af3f-883e-4f35-b840-20aa3cb5ccd5"
   },
   "outputs": [
    {
     "name": "stdout",
     "output_type": "stream",
     "text": [
      "157/157 [==============================] - 45s 287ms/step\n"
     ]
    }
   ],
   "source": [
    "# Extracting the true class labels from the test dataset\n",
    "y_true = Custom_test.classes\n",
    "\n",
    "# Generating model predictions for the test dataset\n",
    "y_pred = classifier.predict(Custom_test)"
   ]
  },
  {
   "cell_type": "code",
   "execution_count": null,
   "id": "a1BVk0aLupny",
   "metadata": {
    "id": "a1BVk0aLupny"
   },
   "outputs": [],
   "source": [
    "# Applying a threshold of 0.5 to the predicted probabilities\n",
    "# If the probability is greater than 0.5, set the label to 1 (positive), else 0 (negative)\n",
    "y_pred_labels = (y_pred > 0.5).astype(int)"
   ]
  },
  {
   "cell_type": "code",
   "execution_count": null,
   "id": "iLYhIVGgv3wk",
   "metadata": {
    "id": "iLYhIVGgv3wk"
   },
   "outputs": [],
   "source": [
    "# Importing confusion_matrix, classification_report, accuracy_score,\n",
    "# precision_score, recall_score, and f1_score functions from scikit-learn\n",
    "from sklearn.metrics import confusion_matrix, classification_report\n",
    "from sklearn.metrics import accuracy_score, precision_score, recall_score, f1_score"
   ]
  },
  {
   "cell_type": "code",
   "execution_count": null,
   "id": "CbOwYVUAv60f",
   "metadata": {
    "id": "CbOwYVUAv60f"
   },
   "outputs": [],
   "source": [
    "# Calculating the confusion matrix to assess the classification performance\n",
    "cm = confusion_matrix(y_true, y_pred_labels)"
   ]
  },
  {
   "cell_type": "code",
   "execution_count": null,
   "id": "ATE9DRYkwFCl",
   "metadata": {
    "id": "ATE9DRYkwFCl"
   },
   "outputs": [],
   "source": [
    "# Creating a classificatiob report to assess model performance\n",
    "Custom_metrics = classification_report(y_true, y_pred_labels)"
   ]
  },
  {
   "cell_type": "code",
   "execution_count": null,
   "id": "0e68b3f1-8338-41fa-9eec-0cf88cbc5f7a",
   "metadata": {
    "colab": {
     "base_uri": "https://localhost:8080/"
    },
    "id": "0e68b3f1-8338-41fa-9eec-0cf88cbc5f7a",
    "outputId": "f69c0849-fd59-463a-a253-a947b70f355f"
   },
   "outputs": [
    {
     "name": "stdout",
     "output_type": "stream",
     "text": [
      "              precision    recall  f1-score   support\n",
      "\n",
      "           0       0.94      0.96      0.95     10000\n",
      "           1       0.96      0.94      0.95     10000\n",
      "\n",
      "    accuracy                           0.95     20000\n",
      "   macro avg       0.95      0.95      0.95     20000\n",
      "weighted avg       0.95      0.95      0.95     20000\n",
      "\n"
     ]
    }
   ],
   "source": [
    "# Displaying classification report\n",
    "print(Custom_metrics)"
   ]
  },
  {
   "cell_type": "code",
   "execution_count": null,
   "id": "GhsQMmqYibSW",
   "metadata": {
    "id": "GhsQMmqYibSW"
   },
   "outputs": [],
   "source": [
    "# Calculating accuracy, precision, recall, and f-1 score\n",
    "accuracy = accuracy_score(y_true, y_pred_labels)\n",
    "precision = precision_score(y_true, y_pred_labels)\n",
    "recall = recall_score(y_true, y_pred_labels)\n",
    "f1 = f1_score(y_true, y_pred_labels)"
   ]
  },
  {
   "cell_type": "code",
   "execution_count": null,
   "id": "ggACFluVivhp",
   "metadata": {
    "colab": {
     "base_uri": "https://localhost:8080/"
    },
    "id": "ggACFluVivhp",
    "outputId": "74e38fd8-843b-4fcd-b355-28fe224d30e9"
   },
   "outputs": [
    {
     "data": {
      "text/plain": [
       "(0.95115, 0.9616289777959685, 0.9398, 0.9505891872755778)"
      ]
     },
     "execution_count": 36,
     "metadata": {},
     "output_type": "execute_result"
    }
   ],
   "source": [
    "# Creating a list of metric values\n",
    "metrics_list = [accuracy, precision, recall, f1]\n",
    "\n",
    "# Displaying metrics\n",
    "metrics_list"
   ]
  },
  {
   "cell_type": "code",
   "execution_count": null,
   "id": "StIuPtI1csFM",
   "metadata": {
    "colab": {
     "base_uri": "https://localhost:8080/",
     "height": 472
    },
    "id": "StIuPtI1csFM",
    "outputId": "39220903-d23b-4384-b3d1-a6f6970dcdb6"
   },
   "outputs": [
    {
     "data": {
      "image/png": "[encoded data removed]",
      "text/plain": [
       "<Figure size 640x480 with 1 Axes>"
      ]
     },
     "metadata": {},
     "output_type": "display_data"
    }
   ],
   "source": [
    "# Generating a heatmap with annotations, specified formatting, and color map\n",
    "sns.heatmap(cm, annot=True, fmt='d', cbar=False, cmap='Blues', xticklabels=['Predicted 0', 'Predicted 1'], yticklabels=['Actual 0', 'Actual 1'])\n",
    "\n",
    "# Adding labels and title to the plot\n",
    "plt.xlabel('Predicted')\n",
    "plt.ylabel('Actual')\n",
    "plt.title('Confusion Matrix(Ensemble)')\n",
    "\n",
    "# Displaying the plot\n",
    "plt.show()"
   ]
  }
 ],
 "metadata": {
  "accelerator": "GPU",
  "colab": {
   "gpuType": "T4",
   "machine_shape": "hm",
   "provenance": []
  },
  "kernelspec": {
   "display_name": "Python 3 (ipykernel)",
   "language": "python",
   "name": "python3"
  },
  "language_info": {
   "codemirror_mode": {
    "name": "ipython",
    "version": 3
   },
   "file_extension": ".py",
   "mimetype": "text/x-python",
   "name": "python",
   "nbconvert_exporter": "python",
   "pygments_lexer": "ipython3",
   "version": "3.9.16"
  }
 },
 "nbformat": 4,
 "nbformat_minor": 5
}
