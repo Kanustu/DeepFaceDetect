{
 "cells": [
  {
   "cell_type": "code",
   "execution_count": 39,
   "id": "e5d74946-669e-409d-af34-d5c5d2f91ae8",
   "metadata": {
    "id": "e5d74946-669e-409d-af34-d5c5d2f91ae8"
   },
   "outputs": [],
   "source": [
    "import pandas as pd\n",
    "import numpy as np\n",
    "import tensorflow as tf\n",
    "import sys\n",
    "from PIL import Image\n",
    "from matplotlib import pyplot as plt\n",
    "from tensorflow.keras.models import Sequential, load_model\n",
    "from tensorflow.keras.layers import Convolution2D, Dropout, Input, GlobalAveragePooling2D, MaxPooling2D, Flatten, Dense# Sequential model for building a linear stack of layers\n",
    "from tensorflow.keras.preprocessing.image import ImageDataGenerator\n",
    "from tensorflow.keras.applications import ResNet50"
   ]
  },
  {
   "cell_type": "code",
   "execution_count": 6,
   "id": "Y2tavp8vWZ1E",
   "metadata": {
    "colab": {
     "base_uri": "https://localhost:8080/"
    },
    "id": "Y2tavp8vWZ1E",
    "outputId": "57f9cbc4-1133-4b37-9237-4e1d891e5f63"
   },
   "outputs": [
    {
     "name": "stdout",
     "output_type": "stream",
     "text": [
      "Mounted at /content/drive\n"
     ]
    }
   ],
   "source": [
    "from google.colab import drive\n",
    "drive.mount('/content/drive')"
   ]
  },
  {
   "cell_type": "code",
   "execution_count": 1,
   "id": "uoPhiIeHBPHP",
   "metadata": {
    "colab": {
     "base_uri": "https://localhost:8080/"
    },
    "id": "uoPhiIeHBPHP",
    "outputId": "78ba600f-124d-4cd8-9e2e-138750077384"
   },
   "outputs": [],
   "source": [
    "#!unzip drive/My\\ Drive/images.zip"
   ]
  },
  {
   "cell_type": "markdown",
   "id": "-6WeBLofoblz",
   "metadata": {
    "id": "-6WeBLofoblz"
   },
   "source": [
    "# Code\n"
   ]
  },
  {
   "cell_type": "code",
   "execution_count": 32,
   "id": "985f893b-abef-440c-8e5d-d140500a3743",
   "metadata": {
    "id": "985f893b-abef-440c-8e5d-d140500a3743"
   },
   "outputs": [],
   "source": [
    "sys.path.append('/content/drive/MyDrive/face2face/functions')"
   ]
  },
  {
   "cell_type": "code",
   "execution_count": 33,
   "id": "3f89b3cd-f4fc-4e9a-aa0c-6b5fed72dbca",
   "metadata": {
    "id": "3f89b3cd-f4fc-4e9a-aa0c-6b5fed72dbca"
   },
   "outputs": [],
   "source": [
    "#from create_dataframe import create_df"
   ]
  },
  {
   "cell_type": "code",
   "execution_count": 35,
   "id": "3c965ce1-80f5-4058-87b2-de6ddcca70a3",
   "metadata": {
    "colab": {
     "base_uri": "https://localhost:8080/",
     "height": 214
    },
    "id": "3c965ce1-80f5-4058-87b2-de6ddcca70a3",
    "outputId": "a980ba4c-959b-4e77-e8a5-dbe15eb540ba"
   },
   "outputs": [
    {
     "ename": "NameError",
     "evalue": "ignored",
     "output_type": "error",
     "traceback": [
      "\u001b[0;31m---------------------------------------------------------------------------\u001b[0m",
      "\u001b[0;31mNameError\u001b[0m                                 Traceback (most recent call last)",
      "\u001b[0;32m<ipython-input-35-e362a9068393>\u001b[0m in \u001b[0;36m<cell line: 1>\u001b[0;34m()\u001b[0m\n\u001b[0;32m----> 1\u001b[0;31m \u001b[0mtrain_meta\u001b[0m \u001b[0;34m=\u001b[0m \u001b[0mcreate_df\u001b[0m\u001b[0;34m(\u001b[0m\u001b[0;34m'train'\u001b[0m\u001b[0;34m)\u001b[0m\u001b[0;34m\u001b[0m\u001b[0;34m\u001b[0m\u001b[0m\n\u001b[0m\u001b[1;32m      2\u001b[0m \u001b[0mvalid_meta\u001b[0m \u001b[0;34m=\u001b[0m \u001b[0mcreate_df\u001b[0m\u001b[0;34m(\u001b[0m\u001b[0;34m'valid'\u001b[0m\u001b[0;34m)\u001b[0m\u001b[0;34m\u001b[0m\u001b[0;34m\u001b[0m\u001b[0m\n\u001b[1;32m      3\u001b[0m \u001b[0mtest_meta\u001b[0m \u001b[0;34m=\u001b[0m \u001b[0mcreate_df\u001b[0m\u001b[0;34m(\u001b[0m\u001b[0;34m'test'\u001b[0m\u001b[0;34m)\u001b[0m\u001b[0;34m\u001b[0m\u001b[0;34m\u001b[0m\u001b[0m\n",
      "\u001b[0;31mNameError\u001b[0m: name 'create_df' is not defined"
     ]
    }
   ],
   "source": [
    "train_meta = create_df('train')\n",
    "valid_meta = create_df('valid')\n",
    "test_meta = create_df('test')"
   ]
  },
  {
   "cell_type": "code",
   "execution_count": 36,
   "id": "e9b9aa6c-008b-40b9-bf9d-4ee278147586",
   "metadata": {
    "id": "e9b9aa6c-008b-40b9-bf9d-4ee278147586"
   },
   "outputs": [],
   "source": [
    "# Specify the base path where your image data is stored\n",
    "base_path = '/content/real_vs_fake/real-vs-fake/'\n",
    "\n",
    "\n",
    "# Create an ImageDataGenerator for image preprocessing and augmentation\n",
    "image_gen = ImageDataGenerator(rescale=1./255.,\n",
    "                               rotation_range=20,\n",
    "                               width_shift_range=0.2,\n",
    "                               height_shift_range=0.2,\n",
    "                               shear_range=0.2,\n",
    "                               zoom_range=0.2,\n",
    "                               horizontal_flip=True,\n",
    "                               fill_mode='nearest')\n",
    "# The 'rescale' parameter normalizes pixel values to the range [0, 1] by dividing each pixel value by 255"
   ]
  },
  {
   "cell_type": "code",
   "execution_count": 37,
   "id": "1e30d3da-fc0a-4b94-a067-53cc83e5ebdd",
   "metadata": {
    "colab": {
     "base_uri": "https://localhost:8080/"
    },
    "id": "1e30d3da-fc0a-4b94-a067-53cc83e5ebdd",
    "outputId": "fc208d7b-6c06-4543-9aba-51fae8311da2"
   },
   "outputs": [
    {
     "name": "stdout",
     "output_type": "stream",
     "text": [
      "Found 100000 images belonging to 2 classes.\n",
      "Found 20000 images belonging to 2 classes.\n",
      "Found 20000 images belonging to 2 classes.\n"
     ]
    }
   ],
   "source": [
    "Resnet50_train = image_gen.flow_from_directory(\n",
    "    base_path + 'train/',\n",
    "    target_size=(224, 224),\n",
    "    batch_size=64,\n",
    "    class_mode='binary'\n",
    ")\n",
    "Resnet50_valid = image_gen.flow_from_directory(\n",
    "    base_path + 'valid/',\n",
    "    target_size=(224, 224),\n",
    "    batch_size=64,\n",
    "    class_mode='binary'\n",
    ")\n",
    "Resnet50_test = image_gen.flow_from_directory(\n",
    "    base_path + 'test/',\n",
    "    target_size=(224, 224),\n",
    "    batch_size=64,\n",
    "    class_mode='binary'\n",
    ")"
   ]
  },
  {
   "cell_type": "code",
   "execution_count": 40,
   "id": "ab11a446-666c-4791-880c-0c29babbc5ca",
   "metadata": {
    "colab": {
     "base_uri": "https://localhost:8080/"
    },
    "id": "ab11a446-666c-4791-880c-0c29babbc5ca",
    "outputId": "836490dc-fa7c-4d16-cc7c-04d4e9f012f1"
   },
   "outputs": [
    {
     "name": "stdout",
     "output_type": "stream",
     "text": [
      "Downloading data from https://storage.googleapis.com/tensorflow/keras-applications/resnet/resnet50_weights_tf_dim_ordering_tf_kernels_notop.h5\n",
      "94765736/94765736 [==============================] - 4s 0us/step\n"
     ]
    }
   ],
   "source": [
    "base_model = ResNet50(weights='imagenet', include_top=False, input_shape=(224, 224, 3))"
   ]
  },
  {
   "cell_type": "code",
   "execution_count": 41,
   "id": "w59ZebfuvAxY",
   "metadata": {
    "id": "w59ZebfuvAxY"
   },
   "outputs": [],
   "source": [
    "for layer in base_model.layers:\n",
    "  layer.trainable=False"
   ]
  },
  {
   "cell_type": "code",
   "execution_count": 42,
   "id": "12da83d3-f67a-4c83-ad00-ae4fb0a020f4",
   "metadata": {
    "colab": {
     "base_uri": "https://localhost:8080/"
    },
    "id": "12da83d3-f67a-4c83-ad00-ae4fb0a020f4",
    "outputId": "39d665ff-c030-48c4-87ff-b00752b8031d"
   },
   "outputs": [
    {
     "name": "stdout",
     "output_type": "stream",
     "text": [
      "Model: \"sequential\"\n",
      "_________________________________________________________________\n",
      " Layer (type)                Output Shape              Param #   \n",
      "=================================================================\n",
      " resnet50 (Functional)       (None, 7, 7, 2048)        23587712  \n",
      "                                                                 \n",
      " global_average_pooling2d (  (None, 2048)              0         \n",
      " GlobalAveragePooling2D)                                         \n",
      "                                                                 \n",
      " dense (Dense)               (None, 64)                131136    \n",
      "                                                                 \n",
      " dropout (Dropout)           (None, 64)                0         \n",
      "                                                                 \n",
      " dense_1 (Dense)             (None, 1)                 65        \n",
      "                                                                 \n",
      "=================================================================\n",
      "Total params: 23718913 (90.48 MB)\n",
      "Trainable params: 131201 (512.50 KB)\n",
      "Non-trainable params: 23587712 (89.98 MB)\n",
      "_________________________________________________________________\n"
     ]
    }
   ],
   "source": [
    "model = Sequential()\n",
    "model.add(base_model)\n",
    "model.add(GlobalAveragePooling2D())\n",
    "model.add(Dense(64, activation='relu'))\n",
    "model.add(Dropout(0.2))\n",
    "model.add(Dense(1, activation='sigmoid'))\n",
    "model.summary()"
   ]
  },
  {
   "cell_type": "code",
   "execution_count": 43,
   "id": "02f4b2d6-8026-4b27-8433-ac635b7a450e",
   "metadata": {
    "id": "02f4b2d6-8026-4b27-8433-ac635b7a450e"
   },
   "outputs": [],
   "source": [
    "model.compile(optimizer='adam', loss='binary_crossentropy', metrics=['accuracy'])"
   ]
  },
  {
   "cell_type": "code",
   "execution_count": 46,
   "id": "487b4784-c842-426e-b85c-d9a1a51c1d65",
   "metadata": {
    "colab": {
     "base_uri": "https://localhost:8080/"
    },
    "id": "487b4784-c842-426e-b85c-d9a1a51c1d65",
    "outputId": "26e18d0e-478a-4a2e-de48-985f961a0b44"
   },
   "outputs": [
    {
     "name": "stdout",
     "output_type": "stream",
     "text": [
      "Epoch 1/11\n",
      "1563/1563 [==============================] - 1416s 902ms/step - loss: 0.6927 - accuracy: 0.5183 - val_loss: 0.6893 - val_accuracy: 0.5135\n",
      "Epoch 2/11\n",
      "1563/1563 [==============================] - 1387s 887ms/step - loss: 0.6881 - accuracy: 0.5410 - val_loss: 0.6854 - val_accuracy: 0.5585\n",
      "Epoch 3/11\n",
      "1563/1563 [==============================] - 1368s 875ms/step - loss: 0.6859 - accuracy: 0.5511 - val_loss: 0.6818 - val_accuracy: 0.5696\n",
      "Epoch 4/11\n",
      "1563/1563 [==============================] - 1385s 886ms/step - loss: 0.6855 - accuracy: 0.5530 - val_loss: 0.6833 - val_accuracy: 0.5581\n",
      "Epoch 5/11\n",
      "1563/1563 [==============================] - 1372s 878ms/step - loss: 0.6849 - accuracy: 0.5554 - val_loss: 0.6856 - val_accuracy: 0.5246\n",
      "Epoch 6/11\n",
      "1563/1563 [==============================] - 1376s 880ms/step - loss: 0.6835 - accuracy: 0.5582 - val_loss: 0.6820 - val_accuracy: 0.5591\n",
      "Epoch 7/11\n",
      "1563/1563 [==============================] - 1370s 876ms/step - loss: 0.6826 - accuracy: 0.5618 - val_loss: 0.6810 - val_accuracy: 0.5645\n",
      "Epoch 8/11\n",
      "1563/1563 [==============================] - 1377s 881ms/step - loss: 0.6829 - accuracy: 0.5586 - val_loss: 0.6773 - val_accuracy: 0.5778\n",
      "Epoch 9/11\n",
      "1563/1563 [==============================] - 1372s 878ms/step - loss: 0.6821 - accuracy: 0.5630 - val_loss: 0.6782 - val_accuracy: 0.5725\n",
      "Epoch 10/11\n",
      "1563/1563 [==============================] - 1339s 856ms/step - loss: 0.6813 - accuracy: 0.5623 - val_loss: 0.6792 - val_accuracy: 0.5717\n",
      "Epoch 11/11\n",
      "1563/1563 [==============================] - 1321s 845ms/step - loss: 0.6811 - accuracy: 0.5667 - val_loss: 0.6849 - val_accuracy: 0.5489\n"
     ]
    },
    {
     "data": {
      "text/plain": [
       "<keras.src.callbacks.History at 0x7f3d312a7790>"
      ]
     },
     "execution_count": 46,
     "metadata": {},
     "output_type": "execute_result"
    }
   ],
   "source": [
    "model.fit(Resnet50_train, epochs = 11, validation_data=Resnet50_valid)"
   ]
  },
  {
   "cell_type": "code",
   "execution_count": 47,
   "id": "QTmVFzVgMO-x",
   "metadata": {
    "id": "QTmVFzVgMO-x"
   },
   "outputs": [],
   "source": [
    "model.save('/content/drive/MyDrive/face2face/models/ResNet50.keras')"
   ]
  },
  {
   "cell_type": "code",
   "execution_count": 48,
   "id": "z6HYL3tNki5i",
   "metadata": {
    "id": "z6HYL3tNki5i"
   },
   "outputs": [],
   "source": [
    "Res_model = load_model('/content/drive/MyDrive/face2face/models/ResNet50.keras')"
   ]
  },
  {
   "cell_type": "code",
   "execution_count": 70,
   "id": "YlWC6yI7lLvY",
   "metadata": {
    "colab": {
     "base_uri": "https://localhost:8080/"
    },
    "id": "YlWC6yI7lLvY",
    "outputId": "ef9627b5-389c-4b1d-cf94-a47d5edd15e1"
   },
   "outputs": [
    {
     "name": "stdout",
     "output_type": "stream",
     "text": [
      "313/313 [==============================] - 220s 697ms/step - loss: 0.6839 - accuracy: 0.5523\n"
     ]
    },
    {
     "data": {
      "text/plain": [
       "[0.6839320659637451, 0.5523499846458435]"
      ]
     },
     "execution_count": 70,
     "metadata": {},
     "output_type": "execute_result"
    }
   ],
   "source": [
    "Res_model.evaluate(Resnet50_test)"
   ]
  },
  {
   "cell_type": "code",
   "execution_count": 79,
   "id": "Gh9cFF8brI5M",
   "metadata": {
    "colab": {
     "base_uri": "https://localhost:8080/"
    },
    "id": "Gh9cFF8brI5M",
    "outputId": "f8e24907-efb5-4584-ecc6-c0cd5f5f044f"
   },
   "outputs": [
    {
     "name": "stdout",
     "output_type": "stream",
     "text": [
      "313/313 [==============================] - 216s 686ms/step\n"
     ]
    }
   ],
   "source": [
    "predictions = Res_model.predict(Resnet50_test)"
   ]
  },
  {
   "cell_type": "code",
   "execution_count": 52,
   "id": "WQZK0xAgt4cI",
   "metadata": {
    "id": "WQZK0xAgt4cI"
   },
   "outputs": [],
   "source": [
    "y_pred = (predictions > 0.5).astype(int)"
   ]
  },
  {
   "cell_type": "code",
   "execution_count": 53,
   "id": "v-nlANYrzA4z",
   "metadata": {
    "id": "v-nlANYrzA4z"
   },
   "outputs": [],
   "source": [
    "y_true = Resnet50_test.classes"
   ]
  },
  {
   "cell_type": "code",
   "execution_count": 86,
   "id": "gT7QLzu0xFig",
   "metadata": {
    "colab": {
     "base_uri": "https://localhost:8080/"
    },
    "id": "gT7QLzu0xFig",
    "outputId": "4ce30fb4-1d96-45e0-d399-9ae53e3ce17d"
   },
   "outputs": [
    {
     "name": "stdout",
     "output_type": "stream",
     "text": [
      "{}\n"
     ]
    }
   ],
   "source": [
    "print(model.history.history)"
   ]
  },
  {
   "cell_type": "code",
   "execution_count": null,
   "id": "yNaYRfpX1M7e",
   "metadata": {
    "id": "yNaYRfpX1M7e"
   },
   "outputs": [],
   "source": []
  },
  {
   "cell_type": "code",
   "execution_count": 57,
   "id": "4920e72e-4e50-4bf6-a408-02ea1c7b1140",
   "metadata": {
    "colab": {
     "base_uri": "https://localhost:8080/",
     "height": 250
    },
    "id": "4920e72e-4e50-4bf6-a408-02ea1c7b1140",
    "outputId": "12d7808a-e800-46c1-ebea-b2bef5522180"
   },
   "outputs": [
    {
     "ename": "KeyError",
     "evalue": "ignored",
     "output_type": "error",
     "traceback": [
      "\u001b[0;31m---------------------------------------------------------------------------\u001b[0m",
      "\u001b[0;31mKeyError\u001b[0m                                  Traceback (most recent call last)",
      "\u001b[0;32m<ipython-input-57-508d0c81f9ce>\u001b[0m in \u001b[0;36m<cell line: 1>\u001b[0;34m()\u001b[0m\n\u001b[0;32m----> 1\u001b[0;31m \u001b[0mplt\u001b[0m\u001b[0;34m.\u001b[0m\u001b[0mplot\u001b[0m\u001b[0;34m(\u001b[0m\u001b[0mmodel\u001b[0m\u001b[0;34m.\u001b[0m\u001b[0mhistory\u001b[0m\u001b[0;34m.\u001b[0m\u001b[0mhistory\u001b[0m\u001b[0;34m[\u001b[0m\u001b[0;34m'loss'\u001b[0m\u001b[0;34m]\u001b[0m\u001b[0;34m,\u001b[0m \u001b[0mlabel\u001b[0m\u001b[0;34m=\u001b[0m\u001b[0;34m'train'\u001b[0m\u001b[0;34m)\u001b[0m\u001b[0;34m\u001b[0m\u001b[0;34m\u001b[0m\u001b[0m\n\u001b[0m\u001b[1;32m      2\u001b[0m \u001b[0mplt\u001b[0m\u001b[0;34m.\u001b[0m\u001b[0mplot\u001b[0m\u001b[0;34m(\u001b[0m\u001b[0mmodel\u001b[0m\u001b[0;34m.\u001b[0m\u001b[0mhistory\u001b[0m\u001b[0;34m.\u001b[0m\u001b[0mhistory\u001b[0m\u001b[0;34m[\u001b[0m\u001b[0;34m'val_loss'\u001b[0m\u001b[0;34m]\u001b[0m\u001b[0;34m,\u001b[0m \u001b[0mlabel\u001b[0m\u001b[0;34m=\u001b[0m\u001b[0;34m'test'\u001b[0m\u001b[0;34m)\u001b[0m\u001b[0;34m\u001b[0m\u001b[0;34m\u001b[0m\u001b[0m\n\u001b[1;32m      3\u001b[0m \u001b[0mplt\u001b[0m\u001b[0;34m.\u001b[0m\u001b[0mlegend\u001b[0m\u001b[0;34m(\u001b[0m\u001b[0;34m)\u001b[0m\u001b[0;34m\u001b[0m\u001b[0;34m\u001b[0m\u001b[0m\n\u001b[1;32m      4\u001b[0m \u001b[0mplt\u001b[0m\u001b[0;34m.\u001b[0m\u001b[0mtitle\u001b[0m\u001b[0;34m(\u001b[0m\u001b[0;34m'Loss'\u001b[0m\u001b[0;34m)\u001b[0m\u001b[0;34m\u001b[0m\u001b[0;34m\u001b[0m\u001b[0m\n\u001b[1;32m      5\u001b[0m \u001b[0mplt\u001b[0m\u001b[0;34m.\u001b[0m\u001b[0mshow\u001b[0m\u001b[0;34m(\u001b[0m\u001b[0;34m)\u001b[0m\u001b[0;34m\u001b[0m\u001b[0;34m\u001b[0m\u001b[0m\n",
      "\u001b[0;31mKeyError\u001b[0m: 'loss'"
     ]
    }
   ],
   "source": [
    "plt.plot(model.history.history['loss'], label='train')\n",
    "plt.plot(model.history.history['val_loss'], label='test')\n",
    "plt.legend()\n",
    "plt.title('Loss')\n",
    "plt.show()"
   ]
  },
  {
   "cell_type": "code",
   "execution_count": 61,
   "id": "afbad8e1-bafe-41a4-8ac8-28fb6d55aa46",
   "metadata": {
    "colab": {
     "base_uri": "https://localhost:8080/",
     "height": 250
    },
    "id": "afbad8e1-bafe-41a4-8ac8-28fb6d55aa46",
    "outputId": "c31f085b-14b2-4823-d25f-2732fd981752"
   },
   "outputs": [
    {
     "ename": "KeyError",
     "evalue": "ignored",
     "output_type": "error",
     "traceback": [
      "\u001b[0;31m---------------------------------------------------------------------------\u001b[0m",
      "\u001b[0;31mKeyError\u001b[0m                                  Traceback (most recent call last)",
      "\u001b[0;32m<ipython-input-61-8385c43e2bd3>\u001b[0m in \u001b[0;36m<cell line: 1>\u001b[0;34m()\u001b[0m\n\u001b[0;32m----> 1\u001b[0;31m \u001b[0mplt\u001b[0m\u001b[0;34m.\u001b[0m\u001b[0mplot\u001b[0m\u001b[0;34m(\u001b[0m\u001b[0mmodel\u001b[0m\u001b[0;34m.\u001b[0m\u001b[0mhistory\u001b[0m\u001b[0;34m.\u001b[0m\u001b[0mhistory\u001b[0m\u001b[0;34m[\u001b[0m\u001b[0;34m'accuracy'\u001b[0m\u001b[0;34m]\u001b[0m\u001b[0;34m,\u001b[0m \u001b[0mlabel\u001b[0m\u001b[0;34m=\u001b[0m\u001b[0;34m'train'\u001b[0m\u001b[0;34m)\u001b[0m\u001b[0;34m\u001b[0m\u001b[0;34m\u001b[0m\u001b[0m\n\u001b[0m\u001b[1;32m      2\u001b[0m \u001b[0mplt\u001b[0m\u001b[0;34m.\u001b[0m\u001b[0mplot\u001b[0m\u001b[0;34m(\u001b[0m\u001b[0mmodel\u001b[0m\u001b[0;34m.\u001b[0m\u001b[0mhistory\u001b[0m\u001b[0;34m.\u001b[0m\u001b[0mhistory\u001b[0m\u001b[0;34m[\u001b[0m\u001b[0;34m'val_accuracy'\u001b[0m\u001b[0;34m]\u001b[0m\u001b[0;34m,\u001b[0m \u001b[0mlabel\u001b[0m\u001b[0;34m=\u001b[0m\u001b[0;34m'test'\u001b[0m\u001b[0;34m)\u001b[0m\u001b[0;34m\u001b[0m\u001b[0;34m\u001b[0m\u001b[0m\n\u001b[1;32m      3\u001b[0m \u001b[0mplt\u001b[0m\u001b[0;34m.\u001b[0m\u001b[0mlegend\u001b[0m\u001b[0;34m(\u001b[0m\u001b[0;34m)\u001b[0m\u001b[0;34m\u001b[0m\u001b[0;34m\u001b[0m\u001b[0m\n\u001b[1;32m      4\u001b[0m \u001b[0mplt\u001b[0m\u001b[0;34m.\u001b[0m\u001b[0mtitle\u001b[0m\u001b[0;34m(\u001b[0m\u001b[0;34m'Loss'\u001b[0m\u001b[0;34m)\u001b[0m\u001b[0;34m\u001b[0m\u001b[0;34m\u001b[0m\u001b[0m\n\u001b[1;32m      5\u001b[0m \u001b[0mplt\u001b[0m\u001b[0;34m.\u001b[0m\u001b[0mshow\u001b[0m\u001b[0;34m(\u001b[0m\u001b[0;34m)\u001b[0m\u001b[0;34m\u001b[0m\u001b[0;34m\u001b[0m\u001b[0m\n",
      "\u001b[0;31mKeyError\u001b[0m: 'accuracy'"
     ]
    }
   ],
   "source": [
    "plt.plot(model.history.history['accuracy'], label='train')\n",
    "plt.plot(model.history.history['val_accuracy'], label='test')\n",
    "plt.legend()\n",
    "plt.title('Loss')\n",
    "plt.show()"
   ]
  },
  {
   "cell_type": "code",
   "execution_count": 87,
   "id": "3e56d2a3-2036-4027-93ea-bd0e14f13ca1",
   "metadata": {
    "id": "3e56d2a3-2036-4027-93ea-bd0e14f13ca1"
   },
   "outputs": [],
   "source": [
    "from sklearn.metrics import confusion_matrix, classification_report"
   ]
  },
  {
   "cell_type": "code",
   "execution_count": 88,
   "id": "f1518096-4f73-4425-8311-cd1c760e6f97",
   "metadata": {
    "colab": {
     "base_uri": "https://localhost:8080/"
    },
    "id": "f1518096-4f73-4425-8311-cd1c760e6f97",
    "outputId": "8537809e-f6c3-4310-9855-a26176439af0"
   },
   "outputs": [
    {
     "data": {
      "text/plain": [
       "array([[8362, 1638],\n",
       "       [8344, 1656]])"
      ]
     },
     "execution_count": 88,
     "metadata": {},
     "output_type": "execute_result"
    }
   ],
   "source": [
    "confusion_matrix(y_true, y_pred)"
   ]
  },
  {
   "cell_type": "code",
   "execution_count": 89,
   "id": "19673c23-2af6-4820-9450-3b84ef42126c",
   "metadata": {
    "id": "19673c23-2af6-4820-9450-3b84ef42126c"
   },
   "outputs": [],
   "source": [
    "Resnet50_metrics = classification_report(y_true, y_pred)"
   ]
  },
  {
   "cell_type": "code",
   "execution_count": 90,
   "id": "0e68b3f1-8338-41fa-9eec-0cf88cbc5f7a",
   "metadata": {
    "colab": {
     "base_uri": "https://localhost:8080/"
    },
    "id": "0e68b3f1-8338-41fa-9eec-0cf88cbc5f7a",
    "outputId": "1e9476a7-027a-438a-f4ee-3eaa43b3fa81"
   },
   "outputs": [
    {
     "name": "stdout",
     "output_type": "stream",
     "text": [
      "              precision    recall  f1-score   support\n",
      "\n",
      "           0       0.50      0.84      0.63     10000\n",
      "           1       0.50      0.17      0.25     10000\n",
      "\n",
      "    accuracy                           0.50     20000\n",
      "   macro avg       0.50      0.50      0.44     20000\n",
      "weighted avg       0.50      0.50      0.44     20000\n",
      "\n"
     ]
    }
   ],
   "source": [
    "print(Resnet50_metrics)"
   ]
  }
 ],
 "metadata": {
  "accelerator": "GPU",
  "colab": {
   "gpuType": "T4",
   "machine_shape": "hm",
   "provenance": []
  },
  "kernelspec": {
   "display_name": "Python 3 (ipykernel)",
   "language": "python",
   "name": "python3"
  },
  "language_info": {
   "codemirror_mode": {
    "name": "ipython",
    "version": 3
   },
   "file_extension": ".py",
   "mimetype": "text/x-python",
   "name": "python",
   "nbconvert_exporter": "python",
   "pygments_lexer": "ipython3",
   "version": "3.9.16"
  }
 },
 "nbformat": 4,
 "nbformat_minor": 5
}
