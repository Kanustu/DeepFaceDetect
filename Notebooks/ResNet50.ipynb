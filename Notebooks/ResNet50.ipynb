{
 "cells": [
  {
   "cell_type": "code",
   "execution_count": 1,
   "id": "e5d74946-669e-409d-af34-d5c5d2f91ae8",
   "metadata": {
    "id": "e5d74946-669e-409d-af34-d5c5d2f91ae8"
   },
   "outputs": [],
   "source": [
    "# Import necessary libraries\n",
    "import sys\n",
    "import pandas as pd          \n",
    "import numpy as np           \n",
    "import matplotlib.pyplot as plt\n",
    "from tensorflow.keras.callbacks import EarlyStopping\n",
    "from PIL import Image\n",
    "import seaborn as sns       \n",
    "import tensorflow as tf     \n",
    "import random\n",
    "from tensorflow.keras.models import Sequential\n",
    "from tensorflow.keras.layers import Convolution2D, MaxPooling2D, GlobalAveragePooling2D,Dropout, Flatten, Dense\n",
    "from tensorflow.keras.applications import VGG16, ResNet50\n",
    "from tensorflow.keras.optimizers import Adam"
   ]
  },
  {
   "cell_type": "code",
   "execution_count": 2,
   "id": "Y2tavp8vWZ1E",
   "metadata": {
    "colab": {
     "base_uri": "https://localhost:8080/"
    },
    "id": "Y2tavp8vWZ1E",
    "outputId": "f6ba1e6c-d19d-48a1-daf7-0bb8d897b15a"
   },
   "outputs": [
    {
     "name": "stdout",
     "output_type": "stream",
     "text": [
      "Mounted at /content/drive\n"
     ]
    }
   ],
   "source": [
    "# Importing the drive module from the google.colab library\n",
    "from google.colab import drive\n",
    "\n",
    "# Mounting Google Drive to the '/content/drive' directory\n",
    "drive.mount('/content/drive')"
   ]
  },
  {
   "cell_type": "code",
   "execution_count": 1,
   "id": "uoPhiIeHBPHP",
   "metadata": {
    "colab": {
     "base_uri": "https://localhost:8080/"
    },
    "id": "uoPhiIeHBPHP",
    "outputId": "4b3c8c0e-baa3-4f4c-ab1e-d2302ccce5e8"
   },
   "outputs": [],
   "source": [
    "# Unzipping the 'images.zip' file located in 'drive/My Drive' directory\n",
    "!unzip drive/My\\ Drive/images.zip"
   ]
  },
  {
   "cell_type": "code",
   "execution_count": 4,
   "id": "e9b9aa6c-008b-40b9-bf9d-4ee278147586",
   "metadata": {
    "id": "e9b9aa6c-008b-40b9-bf9d-4ee278147586"
   },
   "outputs": [],
   "source": [
    "# Specify the base path where your image data is stored\n",
    "base_path = '/content/real_vs_fake/real-vs-fake/'\n",
    "\n",
    "\n",
    "# Create an ImageDataGenerator for image preprocessing and augmentation\n",
    "image_gen = ImageDataGenerator(rescale=1./255.,\n",
    "                               horizontal_flip=True)\n",
    "# The 'rescale' parameter normalizes pixel values to the range [0, 1] by dividing each pixel value by 255"
   ]
  },
  {
   "cell_type": "code",
   "execution_count": 5,
   "id": "1e30d3da-fc0a-4b94-a067-53cc83e5ebdd",
   "metadata": {
    "colab": {
     "base_uri": "https://localhost:8080/"
    },
    "id": "1e30d3da-fc0a-4b94-a067-53cc83e5ebdd",
    "outputId": "65a688be-3b80-41fb-ba24-295021ac3798"
   },
   "outputs": [
    {
     "name": "stdout",
     "output_type": "stream",
     "text": [
      "Found 100000 images belonging to 2 classes.\n",
      "Found 20000 images belonging to 2 classes.\n",
      "Found 20000 images belonging to 2 classes.\n"
     ]
    }
   ],
   "source": [
    "# Configuring image data generators for the ResNet50 model on the training, validation, and test sets\n",
    "# Training set data generator\n",
    "ResNet50_train=image_gen.flow_from_directory(\n",
    "    base_path + 'train/',\n",
    "    target_size=(224, 224),\n",
    "    batch_size=128,\n",
    "    class_mode='binary'\n",
    ")\n",
    "# Validation set data generator\n",
    "ResNet50_valid=image_gen.flow_from_directory(\n",
    "    base_path + 'valid/',\n",
    "    target_size=(224, 224),\n",
    "    batch_size=128,\n",
    "    class_mode='binary'\n",
    ")\n",
    "# Test set data generator\n",
    "ResNet50_test=image_gen.flow_from_directory(\n",
    "    base_path + 'test/',\n",
    "    target_size=(224, 224),\n",
    "    batch_size=128,\n",
    "    class_mode='binary',\n",
    "    shuffle=False\n",
    ")"
   ]
  },
  {
   "cell_type": "code",
   "execution_count": 6,
   "id": "2Vph1fYdh3_n",
   "metadata": {
    "id": "2Vph1fYdh3_n"
   },
   "outputs": [],
   "source": [
    "# Setting the learning rate for the optimizer\n",
    "learning_rate = 0.0001"
   ]
  },
  {
   "cell_type": "code",
   "execution_count": 7,
   "id": "SrU8e_3dmrzK",
   "metadata": {
    "id": "SrU8e_3dmrzK"
   },
   "outputs": [],
   "source": [
    "# Setting up early stopping based on validation loss monitoring\n",
    "early_stopping=EarlyStopping(\n",
    "    monitor='val_loss',         # Monitoring validation loss for early stopping\n",
    "    patience=5,                  # Waiting for 5 epochs before considering early stopping\n",
    "    restore_best_weights=True    # Restoring the model to its best weights when early stopping is triggered\n",
    ")"
   ]
  },
  {
   "cell_type": "code",
   "execution_count": 8,
   "id": "tLs6AHzfhmeP",
   "metadata": {
    "colab": {
     "base_uri": "https://localhost:8080/"
    },
    "id": "tLs6AHzfhmeP",
    "outputId": "5ffaf137-7964-4409-b016-9238d4d11973"
   },
   "outputs": [
    {
     "name": "stdout",
     "output_type": "stream",
     "text": [
      "Downloading data from https://storage.googleapis.com/tensorflow/keras-applications/resnet/resnet50_weights_tf_dim_ordering_tf_kernels_notop.h5\n",
      "94765736/94765736 [==============================] - 4s 0us/step\n"
     ]
    }
   ],
   "source": [
    "# Using the ResNet50 model architecture with pre-trained weights from ImageNet\n",
    "base_model = ResNet50(\n",
    "    weights='imagenet',         # Load pre-trained weights from ImageNet\n",
    "    include_top=False,          # Exclude the fully-connected layers at the top\n",
    "    input_shape=(224, 224, 3)   # Setting the input shape for the model's expected image size\n",
    ")"
   ]
  },
  {
   "cell_type": "code",
   "execution_count": 9,
   "id": "TMYvqDE74MUX",
   "metadata": {
    "id": "TMYvqDE74MUX"
   },
   "outputs": [],
   "source": [
    "# Iterating through each layer in the base model\n",
    "for layer in base_model.layers:\n",
    "    # Setting each layer to be non-trainable to retain pre-trained weights\n",
    "    layer.trainable = False"
   ]
  },
  {
   "cell_type": "code",
   "execution_count": 12,
   "id": "ab11a446-666c-4791-880c-0c29babbc5ca",
   "metadata": {
    "id": "ab11a446-666c-4791-880c-0c29babbc5ca"
   },
   "outputs": [],
   "source": [
    "# Building a custom model on top of the pre-trained ResNet50 base model\n",
    "# Creating a Sequential model\n",
    "model = Sequential()\n",
    "\n",
    "# Adding the pre-trained Xception base model to the custom model\n",
    "model.add(base_model)\n",
    "\n",
    "# Adding a Global Average Pooling layer to reduce spatial dimensions\n",
    "model.add(GlobalAveragePooling2D())\n",
    "\n",
    "# Adding a fully connected layer with 256 units and ReLU activation\n",
    "model.add(Dense(256, activation='relu'))\n",
    "\n",
    "# Adding a Dropout layer with 50% dropout rate for regularization\n",
    "model.add(Dropout(0.5))\n",
    "\n",
    "# Adding the final output layer with a single unit and sigmoid activation for binary classification\n",
    "model.add(Dense(1, activation='sigmoid'))\n",
    "\n",
    "# Displaying the summary of the custom model architecture\n",
    "model.summary()\n",
    "\n",
    "# Configuring the model for training using the Adam optimizer\n",
    "model.compile(\n",
    "    optimizer=Adam(learning_rate=learning_rate),   # Using Adam optimizer with the defined learning rate\n",
    "    loss='binary_crossentropy',                   # Binary crossentropy loss for binary classification\n",
    "    metrics=['accuracy']                          # Evaluating model performance using accuracy metric\n",
    ")"
   ]
  },
  {
   "cell_type": "code",
   "execution_count": 13,
   "id": "w59ZebfuvAxY",
   "metadata": {
    "colab": {
     "base_uri": "https://localhost:8080/"
    },
    "id": "w59ZebfuvAxY",
    "outputId": "5633d748-60b4-421b-b80e-f0850d87caa7"
   },
   "outputs": [
    {
     "name": "stdout",
     "output_type": "stream",
     "text": [
      "Epoch 1/100\n",
      "782/782 [==============================] - 382s 471ms/step - loss: 0.7050 - accuracy: 0.5715 - val_loss: 0.6372 - val_accuracy: 0.6464\n",
      "Epoch 2/100\n",
      "782/782 [==============================] - 366s 467ms/step - loss: 0.6768 - accuracy: 0.5578 - val_loss: 0.6930 - val_accuracy: 0.5052\n",
      "Epoch 3/100\n",
      "782/782 [==============================] - 365s 467ms/step - loss: 0.6540 - accuracy: 0.6183 - val_loss: 0.6915 - val_accuracy: 0.5404\n",
      "Epoch 4/100\n",
      "782/782 [==============================] - 366s 468ms/step - loss: 0.6402 - accuracy: 0.6345 - val_loss: 0.6129 - val_accuracy: 0.6816\n",
      "Epoch 5/100\n",
      "782/782 [==============================] - 366s 467ms/step - loss: 0.6344 - accuracy: 0.6423 - val_loss: 0.6059 - val_accuracy: 0.6914\n",
      "Epoch 6/100\n",
      "782/782 [==============================] - 365s 467ms/step - loss: 0.6293 - accuracy: 0.6496 - val_loss: 0.6073 - val_accuracy: 0.6900\n",
      "Epoch 7/100\n",
      "782/782 [==============================] - 365s 467ms/step - loss: 0.6269 - accuracy: 0.6507 - val_loss: 0.5974 - val_accuracy: 0.7022\n",
      "Epoch 8/100\n",
      "782/782 [==============================] - 366s 467ms/step - loss: 0.6225 - accuracy: 0.6572 - val_loss: 0.5892 - val_accuracy: 0.7053\n",
      "Epoch 9/100\n",
      "782/782 [==============================] - 367s 468ms/step - loss: 0.6210 - accuracy: 0.6584 - val_loss: 0.5875 - val_accuracy: 0.7117\n",
      "Epoch 10/100\n",
      "782/782 [==============================] - 366s 468ms/step - loss: 0.6148 - accuracy: 0.6651 - val_loss: 0.5909 - val_accuracy: 0.7024\n",
      "Epoch 11/100\n",
      "782/782 [==============================] - 366s 468ms/step - loss: 0.6090 - accuracy: 0.6690 - val_loss: 0.6031 - val_accuracy: 0.6817\n",
      "Epoch 12/100\n",
      "782/782 [==============================] - 366s 468ms/step - loss: 0.6076 - accuracy: 0.6702 - val_loss: 0.5719 - val_accuracy: 0.7151\n",
      "Epoch 13/100\n",
      "782/782 [==============================] - 366s 468ms/step - loss: 0.6036 - accuracy: 0.6757 - val_loss: 0.5742 - val_accuracy: 0.7121\n",
      "Epoch 14/100\n",
      "782/782 [==============================] - 366s 468ms/step - loss: 0.6007 - accuracy: 0.6781 - val_loss: 0.5802 - val_accuracy: 0.7024\n",
      "Epoch 15/100\n",
      "782/782 [==============================] - 366s 468ms/step - loss: 0.5968 - accuracy: 0.6819 - val_loss: 0.5714 - val_accuracy: 0.7124\n",
      "Epoch 16/100\n",
      "782/782 [==============================] - 367s 468ms/step - loss: 0.5976 - accuracy: 0.6822 - val_loss: 0.5662 - val_accuracy: 0.7190\n",
      "Epoch 17/100\n",
      "782/782 [==============================] - 366s 468ms/step - loss: 0.5983 - accuracy: 0.6799 - val_loss: 0.5752 - val_accuracy: 0.7068\n",
      "Epoch 18/100\n",
      "782/782 [==============================] - 366s 468ms/step - loss: 0.5895 - accuracy: 0.6914 - val_loss: 0.5781 - val_accuracy: 0.7042\n",
      "Epoch 19/100\n",
      "782/782 [==============================] - 366s 467ms/step - loss: 0.5916 - accuracy: 0.6906 - val_loss: 0.5668 - val_accuracy: 0.7178\n",
      "Epoch 20/100\n",
      "782/782 [==============================] - 366s 468ms/step - loss: 0.5908 - accuracy: 0.6908 - val_loss: 0.5658 - val_accuracy: 0.7176\n",
      "Epoch 21/100\n",
      "782/782 [==============================] - 366s 468ms/step - loss: 0.5872 - accuracy: 0.6949 - val_loss: 0.5583 - val_accuracy: 0.7248\n",
      "Epoch 22/100\n",
      "782/782 [==============================] - 366s 468ms/step - loss: 0.5920 - accuracy: 0.6907 - val_loss: 0.5604 - val_accuracy: 0.7236\n",
      "Epoch 23/100\n",
      "782/782 [==============================] - 366s 468ms/step - loss: 0.5871 - accuracy: 0.6950 - val_loss: 0.5556 - val_accuracy: 0.7262\n",
      "Epoch 24/100\n",
      "782/782 [==============================] - 367s 468ms/step - loss: 0.5871 - accuracy: 0.6934 - val_loss: 0.5596 - val_accuracy: 0.7193\n",
      "Epoch 25/100\n",
      "782/782 [==============================] - 367s 469ms/step - loss: 0.5837 - accuracy: 0.6980 - val_loss: 0.5522 - val_accuracy: 0.7290\n",
      "Epoch 26/100\n",
      "782/782 [==============================] - 366s 468ms/step - loss: 0.5863 - accuracy: 0.6955 - val_loss: 0.5557 - val_accuracy: 0.7236\n",
      "Epoch 27/100\n",
      "782/782 [==============================] - 366s 468ms/step - loss: 0.5842 - accuracy: 0.6978 - val_loss: 0.5582 - val_accuracy: 0.7201\n",
      "Epoch 28/100\n",
      "782/782 [==============================] - 367s 469ms/step - loss: 0.5943 - accuracy: 0.6887 - val_loss: 0.5770 - val_accuracy: 0.7117\n",
      "Epoch 29/100\n",
      "782/782 [==============================] - 366s 468ms/step - loss: 0.5806 - accuracy: 0.7016 - val_loss: 0.5728 - val_accuracy: 0.7131\n",
      "Epoch 30/100\n",
      "782/782 [==============================] - 366s 468ms/step - loss: 0.5999 - accuracy: 0.6845 - val_loss: 0.5658 - val_accuracy: 0.7154\n"
     ]
    }
   ],
   "source": [
    "# Fitting the model to the training data for 100 epochs\n",
    "history=model.fit(\n",
    "    ResNet50_train,              # Training data\n",
    "    epochs=100,                  # Number of training epochs\n",
    "    validation_data=VGG16_valid,  # Validation data for monitoring\n",
    "    callbacks=[early_stopping]   # EarlyStopping callback for stopping training based on validation loss\n",
    ")"
   ]
  },
  {
   "cell_type": "code",
   "execution_count": 14,
   "id": "QTmVFzVgMO-x",
   "metadata": {
    "id": "QTmVFzVgMO-x"
   },
   "outputs": [],
   "source": [
    "# Saving the training history to a pickle file\n",
    "with open('/content/drive/MyDrive/face2face/models/ResNet_history.pkl', 'wb') as f:\n",
    "    pickle.dump(ResNet_history, f)\n",
    "\n",
    "# Saving the trained ResNet model to a pickle file\n",
    "with open('/content/drive/MyDrive/face2face/models/ResNet.pkl', 'wb') as f:\n",
    "    pickle.dump(model, f)"
   ]
  },
  {
   "cell_type": "code",
   "execution_count": 15,
   "id": "YlWC6yI7lLvY",
   "metadata": {
    "colab": {
     "base_uri": "https://localhost:8080/"
    },
    "id": "YlWC6yI7lLvY",
    "outputId": "74879b04-b9cb-4897-99be-c1cf65af7c1b"
   },
   "outputs": [
    {
     "name": "stdout",
     "output_type": "stream",
     "text": [
      "157/157 [==============================] - 61s 388ms/step - loss: 0.5532 - accuracy: 0.7274\n"
     ]
    },
    {
     "data": {
      "text/plain": [
       "[0.5531788468360901, 0.727400004863739]"
      ]
     },
     "execution_count": 15,
     "metadata": {},
     "output_type": "execute_result"
    }
   ],
   "source": [
    "# Using the evaluate method to assess model performance on the ResNet50 test set\n",
    "evaluation_results = model.evaluate(ResNet50_test)"
   ]
  },
  {
   "cell_type": "code",
   "execution_count": 16,
   "id": "Gh9cFF8brI5M",
   "metadata": {
    "colab": {
     "base_uri": "https://localhost:8080/"
    },
    "id": "Gh9cFF8brI5M",
    "outputId": "2d9819df-b876-4872-bfbe-4a07a5af4f5b"
   },
   "outputs": [
    {
     "name": "stdout",
     "output_type": "stream",
     "text": [
      "157/157 [==============================] - 62s 385ms/step\n"
     ]
    }
   ],
   "source": [
    "# Obtaining true class labels from the test set\n",
    "y_true = ResNet50_test.classes\n",
    "\n",
    "# Obtaining predicted probabilities for each class from the trained model\n",
    "y_pred = model.predict(ResNet50_test)"
   ]
  },
  {
   "cell_type": "code",
   "execution_count": 17,
   "id": "WQZK0xAgt4cI",
   "metadata": {
    "id": "WQZK0xAgt4cI"
   },
   "outputs": [],
   "source": [
    "# Applying a threshold of 0.5 to the predicted probabilities\n",
    "# If the probability is greater than 0.5, set the label to 1 (positive), else 0 (negative)\n",
    "y_pred_labels = (y_pred > 0.5).astype(int)"
   ]
  },
  {
   "cell_type": "code",
   "execution_count": 19,
   "id": "4920e72e-4e50-4bf6-a408-02ea1c7b1140",
   "metadata": {
    "colab": {
     "base_uri": "https://localhost:8080/",
     "height": 452
    },
    "id": "4920e72e-4e50-4bf6-a408-02ea1c7b1140",
    "outputId": "dc1075ec-2984-492f-e73d-f34c68f5312f"
   },
   "outputs": [
    {
     "data": {
      "image/png": "[encoded data removed]",
      "text/plain": [
       "<Figure size 640x480 with 1 Axes>"
      ]
     },
     "metadata": {},
     "output_type": "display_data"
    }
   ],
   "source": [
    "# Plotting the training loss curve with a label 'train'\n",
    "plt.plot(ResNet_history.history['loss'], label='train')\n",
    "\n",
    "# Plotting the validation loss curve with a label 'test'\n",
    "plt.plot(ResNet_history.history['val_loss'], label='test')\n",
    "\n",
    "# Adding a legend to the plot\n",
    "plt.legend()\n",
    "\n",
    "# Setting the title of the plot to 'Loss'\n",
    "plt.title('Loss')\n",
    "\n",
    "# Displaying the plot\n",
    "plt.show()"
   ]
  },
  {
   "cell_type": "code",
   "execution_count": 20,
   "id": "afbad8e1-bafe-41a4-8ac8-28fb6d55aa46",
   "metadata": {
    "colab": {
     "base_uri": "https://localhost:8080/",
     "height": 452
    },
    "id": "afbad8e1-bafe-41a4-8ac8-28fb6d55aa46",
    "outputId": "115bd2e1-e236-44f9-ea58-5affc66c2bb4"
   },
   "outputs": [
    {
     "data": {
      "image/png": "[encoded data removed]",
      "text/plain": [
       "<Figure size 640x480 with 1 Axes>"
      ]
     },
     "metadata": {},
     "output_type": "display_data"
    }
   ],
   "source": [
    "# Plotting the training accuracy curve with a label 'train'\n",
    "plt.plot(ResNet_history.history['accuracy'], label='train')\n",
    "\n",
    "# Plotting the validation accuracy curve with a label 'test'\n",
    "plt.plot(ResNet_history.history['val_accuracy'], label='test')\n",
    "\n",
    "# Adding a legend to the plot\n",
    "plt.legend()\n",
    "\n",
    "# Setting the title of the plot to 'Accuracy'\n",
    "plt.title('Accuracy')\n",
    "\n",
    "# Displaying the plot\n",
    "plt.show()"
   ]
  },
  {
   "cell_type": "code",
   "execution_count": 21,
   "id": "3e56d2a3-2036-4027-93ea-bd0e14f13ca1",
   "metadata": {
    "id": "3e56d2a3-2036-4027-93ea-bd0e14f13ca1"
   },
   "outputs": [],
   "source": [
    "# Import necessary libraries\n",
    "from sklearn.metrics import confusion_matrix, classification_report"
   ]
  },
  {
   "cell_type": "code",
   "execution_count": 22,
   "id": "f1518096-4f73-4425-8311-cd1c760e6f97",
   "metadata": {
    "colab": {
     "base_uri": "https://localhost:8080/"
    },
    "id": "f1518096-4f73-4425-8311-cd1c760e6f97",
    "outputId": "05a6f418-303b-46f0-c7d3-19b79f64f943"
   },
   "outputs": [
    {
     "data": {
      "text/plain": [
       "array([[6991, 3009],\n",
       "       [2431, 7569]])"
      ]
     },
     "execution_count": 22,
     "metadata": {},
     "output_type": "execute_result"
    }
   ],
   "source": [
    "# Creating a confusion matrix to analyze model performance\n",
    "confusion_matrix(y_true, y_pred_labels)"
   ]
  },
  {
   "cell_type": "code",
   "execution_count": 23,
   "id": "19673c23-2af6-4820-9450-3b84ef42126c",
   "metadata": {
    "id": "19673c23-2af6-4820-9450-3b84ef42126c"
   },
   "outputs": [],
   "source": [
    "# Creating a classification report to assess model performance\n",
    "ResNet_metrics = classification_report(y_true, y_pred_labels)"
   ]
  },
  {
   "cell_type": "code",
   "execution_count": 24,
   "id": "0e68b3f1-8338-41fa-9eec-0cf88cbc5f7a",
   "metadata": {
    "colab": {
     "base_uri": "https://localhost:8080/"
    },
    "id": "0e68b3f1-8338-41fa-9eec-0cf88cbc5f7a",
    "outputId": "0e67e396-7890-405d-dd6f-bd8c7ec10f2e"
   },
   "outputs": [
    {
     "name": "stdout",
     "output_type": "stream",
     "text": [
      "              precision    recall  f1-score   support\n",
      "\n",
      "           0       0.74      0.70      0.72     10000\n",
      "           1       0.72      0.76      0.74     10000\n",
      "\n",
      "    accuracy                           0.73     20000\n",
      "   macro avg       0.73      0.73      0.73     20000\n",
      "weighted avg       0.73      0.73      0.73     20000\n",
      "\n"
     ]
    }
   ],
   "source": [
    "# Displaying classification report\n",
    "print(ResNet_metrics)"
   ]
  }
 ],
 "metadata": {
  "accelerator": "GPU",
  "colab": {
   "gpuType": "T4",
   "machine_shape": "hm",
   "provenance": []
  },
  "kernelspec": {
   "display_name": "Python 3 (ipykernel)",
   "language": "python",
   "name": "python3"
  },
  "language_info": {
   "codemirror_mode": {
    "name": "ipython",
    "version": 3
   },
   "file_extension": ".py",
   "mimetype": "text/x-python",
   "name": "python",
   "nbconvert_exporter": "python",
   "pygments_lexer": "ipython3",
   "version": "3.9.16"
  }
 },
 "nbformat": 4,
 "nbformat_minor": 5
}
