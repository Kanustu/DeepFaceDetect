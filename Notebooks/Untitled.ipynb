{
 "cells": [
  {
   "cell_type": "code",
   "execution_count": 1,
   "id": "40614147-4bb6-429e-89a4-4d3e24062f2a",
   "metadata": {},
   "outputs": [],
   "source": [
    "import pandas as pd\n",
    "import numpy as np\n",
    "from PIL import Image\n",
    "import tensorflow as tf\n",
    "from tensorflow.keras.models import Sequential\n",
    "from tensorflow.keras.layers import Convolution2D, MaxPooling2D, Flatten, Dense\n",
    "from tensorflow.keras.preprocessing.image import ImageDataGenerator"
   ]
  },
  {
   "cell_type": "code",
   "execution_count": 2,
   "id": "52eca3c6-43b3-4de4-984c-130ac82d6dfe",
   "metadata": {},
   "outputs": [],
   "source": [
    "train_meta = pd.read_csv('../metadata/train.csv')"
   ]
  },
  {
   "cell_type": "code",
   "execution_count": 3,
   "id": "1c079e11-a56a-485a-8048-c1d170181341",
   "metadata": {},
   "outputs": [],
   "source": [
    "val_meta = pd.read_csv('../metadata/valid.csv')"
   ]
  },
  {
   "cell_type": "code",
   "execution_count": 4,
   "id": "11c34ce7-66cd-46e8-b792-d6bf26d3b0d5",
   "metadata": {},
   "outputs": [],
   "source": [
    "base_path = '../real_vs_fake/real-vs-fake/'"
   ]
  },
  {
   "cell_type": "code",
   "execution_count": 5,
   "id": "cc82c4ad-b834-47d2-a17d-a6e1d507d774",
   "metadata": {},
   "outputs": [],
   "source": [
    "image_list = []\n",
    "for x in train_meta['path']:\n",
    "    image_list.append(base_path + x)"
   ]
  },
  {
   "cell_type": "code",
   "execution_count": 6,
   "id": "278ad145-a44e-4793-8aec-ade768bae077",
   "metadata": {},
   "outputs": [],
   "source": [
    "val_image_list = []\n",
    "for x in val_meta['path']:\n",
    "    val_image_list.append(base_path + x)"
   ]
  },
  {
   "cell_type": "code",
   "execution_count": 7,
   "id": "af166d1b-2f0e-4ed4-918a-6b50133d2964",
   "metadata": {},
   "outputs": [
    {
     "data": {
      "text/plain": [
       "100000"
      ]
     },
     "execution_count": 7,
     "metadata": {},
     "output_type": "execute_result"
    }
   ],
   "source": [
    "len(image_list)"
   ]
  },
  {
   "cell_type": "code",
   "execution_count": 8,
   "id": "f5459195-34d8-4cbc-9b69-994b888a90f5",
   "metadata": {},
   "outputs": [],
   "source": [
    "def image_processing(batch_size):\n",
    "    batch_processed = []\n",
    "    for x in range(batch_size[0],batch_size[1]):\n",
    "        img = Image.open(image_list[x])\n",
    "        img = img.resize((224,224))\n",
    "        image_array = np.array(img) / 255.0\n",
    "        batch_processed.append(image_array)\n",
    "    return batch_processed"
   ]
  },
  {
   "cell_type": "code",
   "execution_count": null,
   "id": "07a5f6b1-a982-4748-9188-768152e038aa",
   "metadata": {},
   "outputs": [],
   "source": [
    "\n",
    "batches = [(0, 15000), (15001, 30000), (30001, 45000), (45001, 60000), (60001, 75000), (75001, 90000), (90001, 100000)]\n",
    "X_train = []\n",
    "for batch in batches:\n",
    "    processed_batch = image_processing(batch)\n",
    "    X_train.append(processed_batch)\n",
    "    \n"
   ]
  },
  {
   "cell_type": "code",
   "execution_count": null,
   "id": "88fbd021-edb4-4c30-9525-bd078b639343",
   "metadata": {},
   "outputs": [],
   "source": [
    "len(x)"
   ]
  },
  {
   "cell_type": "code",
   "execution_count": null,
   "id": "32f5934e-34d2-49de-9fd5-6db586048e9c",
   "metadata": {},
   "outputs": [],
   "source": [
    "len(X_train)"
   ]
  },
  {
   "cell_type": "code",
   "execution_count": null,
   "id": "84a82f9e-4329-4b1a-8f56-09cd87209b82",
   "metadata": {},
   "outputs": [],
   "source": [
    "X_valid = []\n",
    "for x in range(len(val_image_list)):\n",
    "    image = np.array(Image.open(val_image_list[x]))\n",
    "    X_valid.append(image)"
   ]
  },
  {
   "cell_type": "code",
   "execution_count": null,
   "id": "ce1070f5-1e00-4920-bde6-e5ce34aa7348",
   "metadata": {},
   "outputs": [],
   "source": [
    "y_valid = val_meta['label']"
   ]
  },
  {
   "cell_type": "code",
   "execution_count": null,
   "id": "a91f5879-f572-4df5-a8d1-09909514d16e",
   "metadata": {},
   "outputs": [],
   "source": [
    "y_train = train_meta['label']"
   ]
  },
  {
   "cell_type": "code",
   "execution_count": null,
   "id": "d9c94f25-a1a3-4239-89cb-25c7925250c6",
   "metadata": {},
   "outputs": [],
   "source": [
    "def create_cnn(filters=32, kernel_size=(3, 3), pool_size=(2, 2), dense_units=128):\n",
    "    model = Sequential()\n",
    "    model.add(Convolution2D(filters, kernel_size, input_shape=(256, 256, 3), activation='relu'))\n",
    "    model.add(MaxPooling2D(pool_size=pool_size))\n",
    "    model.add(Flatten())\n",
    "    model.add(Dense(dense_units, activation='relu'))\n",
    "    model.add(Dense(1, activation='sigmoid'))\n",
    "    model.compile(optimizer='adam', loss='binary_crossentropy', metrics=['accuracy'])\n",
    "    return model"
   ]
  },
  {
   "cell_type": "code",
   "execution_count": null,
   "id": "3e677ccf-7496-47bb-b5cb-fcf152b6cca4",
   "metadata": {},
   "outputs": [],
   "source": [
    "param_grid = {\n",
    "    'filters': [32, 64],\n",
    "    'kernel_size': [(3, 3), (5, 5)],\n",
    "    'pool_size': [(2, 2), (3, 3)],\n",
    "    'dense_units': [128, 256]}"
   ]
  },
  {
   "cell_type": "code",
   "execution_count": null,
   "id": "c3efbc92-0784-411a-a084-d7ac0900f31a",
   "metadata": {},
   "outputs": [],
   "source": [
    "from sklearn.model_selection import GridSearchCV\n",
    "from keras.wrappers.scikit_learn import KerasClassifier"
   ]
  },
  {
   "cell_type": "code",
   "execution_count": null,
   "id": "b5cfa776-f8ee-490b-9e4d-840682ffd381",
   "metadata": {},
   "outputs": [],
   "source": [
    "cnn_model = KerasClassifier(build_fn=create_cnn, epochs=5, batch_size=64, verbose=0)\n",
    "grid = GridSearchCV(estimator=cnn_model, param_grid=param_grid, scoring='accuracy', cv=3)"
   ]
  },
  {
   "cell_type": "code",
   "execution_count": null,
   "id": "9862c223-184a-42c1-b97a-db0bb2a960af",
   "metadata": {},
   "outputs": [],
   "source": [
    "grid_result = grid.fit(X_train, y_train, validation_data=(X_valid, y_valid))"
   ]
  },
  {
   "cell_type": "code",
   "execution_count": null,
   "id": "ad8a8c71-d519-4a9d-a0af-e447156cc07d",
   "metadata": {},
   "outputs": [],
   "source": [
    "print(\"Best Parameters: \", grid_result.best_params_)\n",
    "print(\"Best Accuracy: \", grid_result.best_score_)"
   ]
  }
 ],
 "metadata": {
  "kernelspec": {
   "display_name": "ava",
   "language": "python",
   "name": "ava"
  },
  "language_info": {
   "codemirror_mode": {
    "name": "ipython",
    "version": 3
   },
   "file_extension": ".py",
   "mimetype": "text/x-python",
   "name": "python",
   "nbconvert_exporter": "python",
   "pygments_lexer": "ipython3",
   "version": "3.9.16"
  }
 },
 "nbformat": 4,
 "nbformat_minor": 5
}
