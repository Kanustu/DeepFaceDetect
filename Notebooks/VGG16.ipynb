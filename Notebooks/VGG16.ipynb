{
 "cells": [
  {
   "cell_type": "code",
   "execution_count": null,
   "id": "e5d74946-669e-409d-af34-d5c5d2f91ae8",
   "metadata": {
    "id": "e5d74946-669e-409d-af34-d5c5d2f91ae8"
   },
   "outputs": [],
   "source": [
    "import pandas as pd\n",
    "import numpy as np\n",
    "import tensorflow as tf\n",
    "import sys\n",
    "import seaborn as sns\n",
    "import matplotlib.pyplot as plt\n",
    "from PIL import Image\n",
    "from matplotlib import pyplot as plt\n",
    "from tensorflow.keras.optimizers import Adam\n",
    "from tensorflow.keras.models import Sequential\n",
    "from tensorflow.keras.callbacks import EarlyStopping\n",
    "from tensorflow.keras.layers import Convolution2D, Dropout, Input, GlobalAveragePooling2D, MaxPooling2D, Flatten, Dense# Sequential model for building a linear stack of layers\n",
    "from tensorflow.keras.preprocessing.image import ImageDataGenerator\n",
    "from tensorflow.keras.applications import VGG16"
   ]
  },
  {
   "cell_type": "code",
   "execution_count": null,
   "id": "Y2tavp8vWZ1E",
   "metadata": {
    "colab": {
     "base_uri": "https://localhost:8080/"
    },
    "id": "Y2tavp8vWZ1E",
    "outputId": "96826591-354f-4ff9-fe83-b059a0bdf41e"
   },
   "outputs": [
    {
     "name": "stdout",
     "output_type": "stream",
     "text": [
      "Mounted at /content/drive\n"
     ]
    }
   ],
   "source": [
    "from google.colab import drive\n",
    "drive.mount('/content/drive')"
   ]
  },
  {
   "cell_type": "code",
   "execution_count": 7,
   "id": "uoPhiIeHBPHP",
   "metadata": {
    "colab": {
     "base_uri": "https://localhost:8080/"
    },
    "id": "uoPhiIeHBPHP",
    "outputId": "464a26f0-d8ca-49ad-e0c3-bda7cd27de69"
   },
   "outputs": [],
   "source": [
    "#!unzip drive/My\\ Drive/images.zip"
   ]
  },
  {
   "cell_type": "code",
   "execution_count": null,
   "id": "985f893b-abef-440c-8e5d-d140500a3743",
   "metadata": {
    "id": "985f893b-abef-440c-8e5d-d140500a3743"
   },
   "outputs": [],
   "source": [
    "sys.path.append('/content/drive/MyDrive/face2face/functions')"
   ]
  },
  {
   "cell_type": "code",
   "execution_count": null,
   "id": "3f89b3cd-f4fc-4e9a-aa0c-6b5fed72dbca",
   "metadata": {
    "id": "3f89b3cd-f4fc-4e9a-aa0c-6b5fed72dbca"
   },
   "outputs": [],
   "source": [
    "from create_dataframe import create_df"
   ]
  },
  {
   "cell_type": "code",
   "execution_count": null,
   "id": "3c965ce1-80f5-4058-87b2-de6ddcca70a3",
   "metadata": {
    "id": "3c965ce1-80f5-4058-87b2-de6ddcca70a3"
   },
   "outputs": [],
   "source": [
    "train_meta = create_df('train')\n",
    "valid_meta = create_df('valid')\n",
    "test_meta = create_df('test')"
   ]
  },
  {
   "cell_type": "code",
   "execution_count": null,
   "id": "e9b9aa6c-008b-40b9-bf9d-4ee278147586",
   "metadata": {
    "id": "e9b9aa6c-008b-40b9-bf9d-4ee278147586"
   },
   "outputs": [],
   "source": [
    "# Specify the base path where your image data is stored\n",
    "base_path = '/content/real_vs_fake/real-vs-fake/'\n",
    "\n",
    "\n",
    "# Create an ImageDataGenerator for image preprocessing and augmentation\n",
    "image_gen = ImageDataGenerator(rescale=1./255.,\n",
    "                               horizontal_flip=True)\n"
   ]
  },
  {
   "cell_type": "code",
   "execution_count": null,
   "id": "1e30d3da-fc0a-4b94-a067-53cc83e5ebdd",
   "metadata": {
    "colab": {
     "base_uri": "https://localhost:8080/"
    },
    "id": "1e30d3da-fc0a-4b94-a067-53cc83e5ebdd",
    "outputId": "458a1549-59f5-426b-f380-988844305e90"
   },
   "outputs": [
    {
     "name": "stdout",
     "output_type": "stream",
     "text": [
      "Found 100000 images belonging to 2 classes.\n",
      "Found 20000 images belonging to 2 classes.\n",
      "Found 20000 images belonging to 2 classes.\n"
     ]
    }
   ],
   "source": [
    "VGG16_train = image_gen.flow_from_directory(\n",
    "    base_path + 'train/',\n",
    "    target_size=(224, 224),\n",
    "    batch_size=128,\n",
    "    class_mode='binary'\n",
    ")\n",
    "VGG16_valid = image_gen.flow_from_directory(\n",
    "    base_path + 'valid/',\n",
    "    target_size=(224, 224),\n",
    "    batch_size=128,\n",
    "    class_mode='binary'\n",
    ")\n",
    "VGG16_test = image_gen.flow_from_directory(\n",
    "    base_path + 'test/',\n",
    "    target_size=(224, 224),\n",
    "    batch_size=128,\n",
    "    class_mode='binary',\n",
    "    shuffle=False\n",
    ")"
   ]
  },
  {
   "cell_type": "code",
   "execution_count": null,
   "id": "ab11a446-666c-4791-880c-0c29babbc5ca",
   "metadata": {
    "colab": {
     "base_uri": "https://localhost:8080/"
    },
    "id": "ab11a446-666c-4791-880c-0c29babbc5ca",
    "outputId": "ac2bc5b2-6816-4893-9682-a03c23aa280f"
   },
   "outputs": [
    {
     "name": "stdout",
     "output_type": "stream",
     "text": [
      "Downloading data from https://storage.googleapis.com/tensorflow/keras-applications/vgg16/vgg16_weights_tf_dim_ordering_tf_kernels_notop.h5\n",
      "58889256/58889256 [==============================] - 0s 0us/step\n"
     ]
    }
   ],
   "source": [
    "base_model = VGG16(weights='imagenet', include_top=False, input_shape=(224, 224, 3))"
   ]
  },
  {
   "cell_type": "code",
   "execution_count": null,
   "id": "w59ZebfuvAxY",
   "metadata": {
    "id": "w59ZebfuvAxY"
   },
   "outputs": [],
   "source": [
    "for layer in base_model.layers:\n",
    "  layer.trainable=False"
   ]
  },
  {
   "cell_type": "code",
   "execution_count": null,
   "id": "12da83d3-f67a-4c83-ad00-ae4fb0a020f4",
   "metadata": {
    "colab": {
     "base_uri": "https://localhost:8080/"
    },
    "id": "12da83d3-f67a-4c83-ad00-ae4fb0a020f4",
    "outputId": "013aa8a9-6a53-4cab-d83a-8ce37a778b7f"
   },
   "outputs": [
    {
     "name": "stdout",
     "output_type": "stream",
     "text": [
      "Model: \"sequential\"\n",
      "_________________________________________________________________\n",
      " Layer (type)                Output Shape              Param #   \n",
      "=================================================================\n",
      " vgg16 (Functional)          (None, 7, 7, 512)         14714688  \n",
      "                                                                 \n",
      " global_average_pooling2d (  (None, 512)               0         \n",
      " GlobalAveragePooling2D)                                         \n",
      "                                                                 \n",
      " dense (Dense)               (None, 256)               131328    \n",
      "                                                                 \n",
      " dropout (Dropout)           (None, 256)               0         \n",
      "                                                                 \n",
      " dense_1 (Dense)             (None, 1)                 257       \n",
      "                                                                 \n",
      "=================================================================\n",
      "Total params: 14846273 (56.63 MB)\n",
      "Trainable params: 131585 (514.00 KB)\n",
      "Non-trainable params: 14714688 (56.13 MB)\n",
      "_________________________________________________________________\n"
     ]
    }
   ],
   "source": [
    "model = Sequential()\n",
    "model.add(base_model)\n",
    "model.add(GlobalAveragePooling2D())\n",
    "model.add(Dense(256, activation='relu'))\n",
    "model.add(Dropout(0.5))\n",
    "model.add(Dense(1, activation='sigmoid'))\n",
    "model.summary()"
   ]
  },
  {
   "cell_type": "code",
   "execution_count": null,
   "id": "_ZkRLYfIxpSP",
   "metadata": {
    "id": "_ZkRLYfIxpSP"
   },
   "outputs": [],
   "source": [
    "learning_rate = 0.0001"
   ]
  },
  {
   "cell_type": "code",
   "execution_count": null,
   "id": "02f4b2d6-8026-4b27-8433-ac635b7a450e",
   "metadata": {
    "id": "02f4b2d6-8026-4b27-8433-ac635b7a450e"
   },
   "outputs": [],
   "source": [
    "model.compile(optimizer=Adam(learning_rate = learning_rate), loss='binary_crossentropy', metrics=['accuracy'])"
   ]
  },
  {
   "cell_type": "code",
   "execution_count": null,
   "id": "1YjRgvYW7vBj",
   "metadata": {
    "id": "1YjRgvYW7vBj"
   },
   "outputs": [],
   "source": [
    "early_stopping = EarlyStopping(monitor='val_loss', patience=5, restore_best_weights=True)"
   ]
  },
  {
   "cell_type": "code",
   "execution_count": null,
   "id": "487b4784-c842-426e-b85c-d9a1a51c1d65",
   "metadata": {
    "colab": {
     "base_uri": "https://localhost:8080/"
    },
    "id": "487b4784-c842-426e-b85c-d9a1a51c1d65",
    "outputId": "63a42961-fe34-44f7-e6d9-247115ea4ce6"
   },
   "outputs": [
    {
     "name": "stdout",
     "output_type": "stream",
     "text": [
      "Epoch 1/100\n",
      "782/782 [==============================] - 546s 669ms/step - loss: 0.6395 - accuracy: 0.6329 - val_loss: 0.6024 - val_accuracy: 0.6787\n",
      "Epoch 2/100\n",
      "782/782 [==============================] - 535s 683ms/step - loss: 0.5937 - accuracy: 0.6869 - val_loss: 0.5732 - val_accuracy: 0.7049\n",
      "Epoch 3/100\n",
      "782/782 [==============================] - 535s 684ms/step - loss: 0.5691 - accuracy: 0.7081 - val_loss: 0.5527 - val_accuracy: 0.7222\n",
      "Epoch 4/100\n",
      "782/782 [==============================] - 536s 685ms/step - loss: 0.5509 - accuracy: 0.7230 - val_loss: 0.5363 - val_accuracy: 0.7335\n",
      "Epoch 5/100\n",
      "782/782 [==============================] - 536s 685ms/step - loss: 0.5371 - accuracy: 0.7332 - val_loss: 0.5253 - val_accuracy: 0.7403\n",
      "Epoch 6/100\n",
      "782/782 [==============================] - 535s 684ms/step - loss: 0.5283 - accuracy: 0.7387 - val_loss: 0.5184 - val_accuracy: 0.7476\n",
      "Epoch 7/100\n",
      "782/782 [==============================] - 535s 685ms/step - loss: 0.5205 - accuracy: 0.7449 - val_loss: 0.5141 - val_accuracy: 0.7487\n",
      "Epoch 8/100\n",
      "782/782 [==============================] - 535s 684ms/step - loss: 0.5146 - accuracy: 0.7472 - val_loss: 0.5061 - val_accuracy: 0.7513\n",
      "Epoch 9/100\n",
      "782/782 [==============================] - 535s 684ms/step - loss: 0.5091 - accuracy: 0.7523 - val_loss: 0.5017 - val_accuracy: 0.7579\n",
      "Epoch 10/100\n",
      "782/782 [==============================] - 535s 684ms/step - loss: 0.5039 - accuracy: 0.7557 - val_loss: 0.4958 - val_accuracy: 0.7569\n",
      "Epoch 11/100\n",
      "782/782 [==============================] - 536s 685ms/step - loss: 0.4996 - accuracy: 0.7585 - val_loss: 0.4920 - val_accuracy: 0.7616\n",
      "Epoch 12/100\n",
      "782/782 [==============================] - 536s 685ms/step - loss: 0.4945 - accuracy: 0.7612 - val_loss: 0.4887 - val_accuracy: 0.7641\n",
      "Epoch 13/100\n",
      "782/782 [==============================] - 536s 685ms/step - loss: 0.4908 - accuracy: 0.7635 - val_loss: 0.4855 - val_accuracy: 0.7659\n",
      "Epoch 14/100\n",
      "782/782 [==============================] - 536s 685ms/step - loss: 0.4872 - accuracy: 0.7669 - val_loss: 0.4834 - val_accuracy: 0.7656\n",
      "Epoch 15/100\n",
      "782/782 [==============================] - 535s 684ms/step - loss: 0.4850 - accuracy: 0.7680 - val_loss: 0.4784 - val_accuracy: 0.7722\n",
      "Epoch 16/100\n",
      "782/782 [==============================] - 535s 684ms/step - loss: 0.4811 - accuracy: 0.7702 - val_loss: 0.4749 - val_accuracy: 0.7723\n",
      "Epoch 17/100\n",
      "782/782 [==============================] - 534s 683ms/step - loss: 0.4770 - accuracy: 0.7733 - val_loss: 0.4727 - val_accuracy: 0.7737\n",
      "Epoch 18/100\n",
      "782/782 [==============================] - 534s 683ms/step - loss: 0.4749 - accuracy: 0.7754 - val_loss: 0.4726 - val_accuracy: 0.7742\n",
      "Epoch 19/100\n",
      "782/782 [==============================] - 535s 684ms/step - loss: 0.4717 - accuracy: 0.7762 - val_loss: 0.4665 - val_accuracy: 0.7779\n",
      "Epoch 20/100\n",
      "782/782 [==============================] - 535s 684ms/step - loss: 0.4692 - accuracy: 0.7792 - val_loss: 0.4642 - val_accuracy: 0.7804\n",
      "Epoch 21/100\n",
      "782/782 [==============================] - 535s 684ms/step - loss: 0.4660 - accuracy: 0.7795 - val_loss: 0.4609 - val_accuracy: 0.7807\n",
      "Epoch 22/100\n",
      "782/782 [==============================] - 534s 683ms/step - loss: 0.4638 - accuracy: 0.7816 - val_loss: 0.4602 - val_accuracy: 0.7847\n",
      "Epoch 23/100\n",
      "782/782 [==============================] - 535s 684ms/step - loss: 0.4602 - accuracy: 0.7836 - val_loss: 0.4555 - val_accuracy: 0.7844\n",
      "Epoch 24/100\n",
      "782/782 [==============================] - 536s 685ms/step - loss: 0.4570 - accuracy: 0.7865 - val_loss: 0.4527 - val_accuracy: 0.7854\n",
      "Epoch 25/100\n",
      "782/782 [==============================] - 536s 685ms/step - loss: 0.4555 - accuracy: 0.7871 - val_loss: 0.4510 - val_accuracy: 0.7868\n",
      "Epoch 26/100\n",
      "782/782 [==============================] - 535s 683ms/step - loss: 0.4534 - accuracy: 0.7889 - val_loss: 0.4487 - val_accuracy: 0.7870\n",
      "Epoch 27/100\n",
      "782/782 [==============================] - 535s 684ms/step - loss: 0.4521 - accuracy: 0.7883 - val_loss: 0.4455 - val_accuracy: 0.7908\n",
      "Epoch 28/100\n",
      "782/782 [==============================] - 537s 686ms/step - loss: 0.4487 - accuracy: 0.7925 - val_loss: 0.4460 - val_accuracy: 0.7915\n",
      "Epoch 29/100\n",
      "782/782 [==============================] - 537s 686ms/step - loss: 0.4476 - accuracy: 0.7924 - val_loss: 0.4447 - val_accuracy: 0.7932\n",
      "Epoch 30/100\n",
      "782/782 [==============================] - 536s 685ms/step - loss: 0.4436 - accuracy: 0.7945 - val_loss: 0.4451 - val_accuracy: 0.7886\n",
      "Epoch 31/100\n",
      "782/782 [==============================] - 536s 685ms/step - loss: 0.4421 - accuracy: 0.7959 - val_loss: 0.4379 - val_accuracy: 0.7980\n",
      "Epoch 32/100\n",
      "782/782 [==============================] - 536s 685ms/step - loss: 0.4412 - accuracy: 0.7964 - val_loss: 0.4402 - val_accuracy: 0.7958\n",
      "Epoch 33/100\n",
      "782/782 [==============================] - 536s 685ms/step - loss: 0.4378 - accuracy: 0.7970 - val_loss: 0.4319 - val_accuracy: 0.8017\n",
      "Epoch 34/100\n",
      "782/782 [==============================] - 535s 684ms/step - loss: 0.4359 - accuracy: 0.7994 - val_loss: 0.4344 - val_accuracy: 0.8008\n",
      "Epoch 35/100\n",
      "782/782 [==============================] - 535s 684ms/step - loss: 0.4351 - accuracy: 0.8004 - val_loss: 0.4302 - val_accuracy: 0.8006\n",
      "Epoch 36/100\n",
      "782/782 [==============================] - 535s 684ms/step - loss: 0.4339 - accuracy: 0.7997 - val_loss: 0.4291 - val_accuracy: 0.8019\n",
      "Epoch 37/100\n",
      "782/782 [==============================] - 535s 684ms/step - loss: 0.4325 - accuracy: 0.8007 - val_loss: 0.4274 - val_accuracy: 0.8017\n",
      "Epoch 38/100\n",
      "782/782 [==============================] - 536s 685ms/step - loss: 0.4299 - accuracy: 0.8019 - val_loss: 0.4244 - val_accuracy: 0.8038\n",
      "Epoch 39/100\n",
      "782/782 [==============================] - 535s 684ms/step - loss: 0.4282 - accuracy: 0.8037 - val_loss: 0.4245 - val_accuracy: 0.8026\n",
      "Epoch 40/100\n",
      "782/782 [==============================] - 535s 684ms/step - loss: 0.4271 - accuracy: 0.8046 - val_loss: 0.4231 - val_accuracy: 0.8051\n",
      "Epoch 41/100\n",
      "782/782 [==============================] - 535s 684ms/step - loss: 0.4246 - accuracy: 0.8063 - val_loss: 0.4208 - val_accuracy: 0.8060\n",
      "Epoch 42/100\n",
      "782/782 [==============================] - 536s 685ms/step - loss: 0.4238 - accuracy: 0.8057 - val_loss: 0.4198 - val_accuracy: 0.8082\n",
      "Epoch 43/100\n",
      "782/782 [==============================] - 535s 684ms/step - loss: 0.4219 - accuracy: 0.8062 - val_loss: 0.4182 - val_accuracy: 0.8077\n",
      "Epoch 44/100\n",
      "782/782 [==============================] - 534s 683ms/step - loss: 0.4195 - accuracy: 0.8096 - val_loss: 0.4161 - val_accuracy: 0.8106\n",
      "Epoch 45/100\n",
      "782/782 [==============================] - 535s 684ms/step - loss: 0.4169 - accuracy: 0.8093 - val_loss: 0.4151 - val_accuracy: 0.8095\n",
      "Epoch 46/100\n",
      "782/782 [==============================] - 534s 683ms/step - loss: 0.4184 - accuracy: 0.8090 - val_loss: 0.4143 - val_accuracy: 0.8107\n",
      "Epoch 47/100\n",
      "782/782 [==============================] - 535s 684ms/step - loss: 0.4149 - accuracy: 0.8112 - val_loss: 0.4120 - val_accuracy: 0.8129\n",
      "Epoch 48/100\n",
      "782/782 [==============================] - 535s 684ms/step - loss: 0.4137 - accuracy: 0.8132 - val_loss: 0.4095 - val_accuracy: 0.8112\n",
      "Epoch 49/100\n",
      "782/782 [==============================] - 535s 684ms/step - loss: 0.4128 - accuracy: 0.8121 - val_loss: 0.4107 - val_accuracy: 0.8131\n",
      "Epoch 50/100\n",
      "782/782 [==============================] - 536s 685ms/step - loss: 0.4120 - accuracy: 0.8139 - val_loss: 0.4088 - val_accuracy: 0.8149\n",
      "Epoch 51/100\n",
      "782/782 [==============================] - 535s 683ms/step - loss: 0.4112 - accuracy: 0.8132 - val_loss: 0.4057 - val_accuracy: 0.8181\n",
      "Epoch 52/100\n",
      "782/782 [==============================] - 535s 683ms/step - loss: 0.4080 - accuracy: 0.8146 - val_loss: 0.4069 - val_accuracy: 0.8149\n",
      "Epoch 53/100\n",
      "782/782 [==============================] - 535s 684ms/step - loss: 0.4075 - accuracy: 0.8165 - val_loss: 0.4033 - val_accuracy: 0.8164\n",
      "Epoch 54/100\n",
      "782/782 [==============================] - 536s 685ms/step - loss: 0.4082 - accuracy: 0.8155 - val_loss: 0.4042 - val_accuracy: 0.8160\n",
      "Epoch 55/100\n",
      "782/782 [==============================] - 536s 686ms/step - loss: 0.4054 - accuracy: 0.8165 - val_loss: 0.4037 - val_accuracy: 0.8140\n",
      "Epoch 56/100\n",
      "782/782 [==============================] - 536s 685ms/step - loss: 0.4029 - accuracy: 0.8188 - val_loss: 0.4009 - val_accuracy: 0.8163\n",
      "Epoch 57/100\n",
      "782/782 [==============================] - 535s 684ms/step - loss: 0.4032 - accuracy: 0.8177 - val_loss: 0.4007 - val_accuracy: 0.8187\n",
      "Epoch 58/100\n",
      "782/782 [==============================] - 536s 685ms/step - loss: 0.4011 - accuracy: 0.8184 - val_loss: 0.3990 - val_accuracy: 0.8196\n",
      "Epoch 59/100\n",
      "782/782 [==============================] - 536s 685ms/step - loss: 0.3984 - accuracy: 0.8204 - val_loss: 0.4026 - val_accuracy: 0.8166\n",
      "Epoch 60/100\n",
      "782/782 [==============================] - 535s 684ms/step - loss: 0.3990 - accuracy: 0.8198 - val_loss: 0.3984 - val_accuracy: 0.8170\n",
      "Epoch 61/100\n",
      "782/782 [==============================] - 536s 685ms/step - loss: 0.3993 - accuracy: 0.8209 - val_loss: 0.3973 - val_accuracy: 0.8191\n",
      "Epoch 62/100\n",
      "782/782 [==============================] - 536s 685ms/step - loss: 0.3966 - accuracy: 0.8219 - val_loss: 0.3940 - val_accuracy: 0.8231\n",
      "Epoch 63/100\n",
      "782/782 [==============================] - 536s 685ms/step - loss: 0.3954 - accuracy: 0.8235 - val_loss: 0.3913 - val_accuracy: 0.8233\n",
      "Epoch 64/100\n",
      "782/782 [==============================] - 535s 684ms/step - loss: 0.3944 - accuracy: 0.8234 - val_loss: 0.3916 - val_accuracy: 0.8246\n",
      "Epoch 65/100\n",
      "782/782 [==============================] - 536s 685ms/step - loss: 0.3930 - accuracy: 0.8232 - val_loss: 0.3921 - val_accuracy: 0.8230\n",
      "Epoch 66/100\n",
      "782/782 [==============================] - 536s 685ms/step - loss: 0.3918 - accuracy: 0.8241 - val_loss: 0.3916 - val_accuracy: 0.8224\n",
      "Epoch 67/100\n",
      "782/782 [==============================] - 536s 686ms/step - loss: 0.3912 - accuracy: 0.8243 - val_loss: 0.3925 - val_accuracy: 0.8246\n",
      "Epoch 68/100\n",
      "782/782 [==============================] - 536s 685ms/step - loss: 0.3901 - accuracy: 0.8243 - val_loss: 0.3886 - val_accuracy: 0.8272\n",
      "Epoch 69/100\n",
      "782/782 [==============================] - 535s 685ms/step - loss: 0.3903 - accuracy: 0.8255 - val_loss: 0.3870 - val_accuracy: 0.8291\n",
      "Epoch 70/100\n",
      "782/782 [==============================] - 537s 686ms/step - loss: 0.3882 - accuracy: 0.8264 - val_loss: 0.3866 - val_accuracy: 0.8278\n",
      "Epoch 71/100\n",
      "782/782 [==============================] - 536s 685ms/step - loss: 0.3882 - accuracy: 0.8268 - val_loss: 0.3870 - val_accuracy: 0.8261\n",
      "Epoch 72/100\n",
      "782/782 [==============================] - 536s 685ms/step - loss: 0.3865 - accuracy: 0.8274 - val_loss: 0.3940 - val_accuracy: 0.8210\n",
      "Epoch 73/100\n",
      "782/782 [==============================] - 535s 683ms/step - loss: 0.3837 - accuracy: 0.8285 - val_loss: 0.3820 - val_accuracy: 0.8288\n",
      "Epoch 74/100\n",
      "782/782 [==============================] - 534s 683ms/step - loss: 0.3830 - accuracy: 0.8299 - val_loss: 0.3839 - val_accuracy: 0.8280\n",
      "Epoch 75/100\n",
      "782/782 [==============================] - 534s 683ms/step - loss: 0.3836 - accuracy: 0.8277 - val_loss: 0.3817 - val_accuracy: 0.8299\n",
      "Epoch 76/100\n",
      "782/782 [==============================] - 535s 685ms/step - loss: 0.3811 - accuracy: 0.8304 - val_loss: 0.3831 - val_accuracy: 0.8289\n",
      "Epoch 77/100\n",
      "782/782 [==============================] - 536s 685ms/step - loss: 0.3821 - accuracy: 0.8303 - val_loss: 0.3843 - val_accuracy: 0.8284\n",
      "Epoch 78/100\n",
      "782/782 [==============================] - 536s 685ms/step - loss: 0.3805 - accuracy: 0.8303 - val_loss: 0.3797 - val_accuracy: 0.8292\n",
      "Epoch 79/100\n",
      "782/782 [==============================] - 536s 685ms/step - loss: 0.3791 - accuracy: 0.8315 - val_loss: 0.3790 - val_accuracy: 0.8296\n",
      "Epoch 80/100\n",
      "782/782 [==============================] - 536s 686ms/step - loss: 0.3770 - accuracy: 0.8322 - val_loss: 0.3774 - val_accuracy: 0.8307\n",
      "Epoch 81/100\n",
      "782/782 [==============================] - 536s 686ms/step - loss: 0.3786 - accuracy: 0.8317 - val_loss: 0.3786 - val_accuracy: 0.8311\n",
      "Epoch 82/100\n",
      "782/782 [==============================] - 537s 686ms/step - loss: 0.3758 - accuracy: 0.8336 - val_loss: 0.3773 - val_accuracy: 0.8311\n",
      "Epoch 83/100\n",
      "782/782 [==============================] - 537s 686ms/step - loss: 0.3746 - accuracy: 0.8340 - val_loss: 0.3771 - val_accuracy: 0.8325\n",
      "Epoch 84/100\n",
      "782/782 [==============================] - 537s 686ms/step - loss: 0.3757 - accuracy: 0.8332 - val_loss: 0.3729 - val_accuracy: 0.8335\n",
      "Epoch 85/100\n",
      "782/782 [==============================] - 537s 686ms/step - loss: 0.3739 - accuracy: 0.8345 - val_loss: 0.3743 - val_accuracy: 0.8338\n",
      "Epoch 86/100\n",
      "782/782 [==============================] - 537s 686ms/step - loss: 0.3750 - accuracy: 0.8344 - val_loss: 0.3750 - val_accuracy: 0.8334\n",
      "Epoch 87/100\n",
      "782/782 [==============================] - 536s 686ms/step - loss: 0.3732 - accuracy: 0.8353 - val_loss: 0.3723 - val_accuracy: 0.8346\n",
      "Epoch 88/100\n",
      "782/782 [==============================] - 536s 685ms/step - loss: 0.3715 - accuracy: 0.8354 - val_loss: 0.3736 - val_accuracy: 0.8346\n",
      "Epoch 89/100\n",
      "782/782 [==============================] - 536s 686ms/step - loss: 0.3701 - accuracy: 0.8367 - val_loss: 0.3717 - val_accuracy: 0.8338\n",
      "Epoch 90/100\n",
      "782/782 [==============================] - 536s 685ms/step - loss: 0.3706 - accuracy: 0.8360 - val_loss: 0.3757 - val_accuracy: 0.8329\n",
      "Epoch 91/100\n",
      "782/782 [==============================] - 536s 686ms/step - loss: 0.3703 - accuracy: 0.8357 - val_loss: 0.3730 - val_accuracy: 0.8344\n",
      "Epoch 92/100\n",
      "782/782 [==============================] - 536s 686ms/step - loss: 0.3676 - accuracy: 0.8364 - val_loss: 0.3739 - val_accuracy: 0.8324\n",
      "Epoch 93/100\n",
      "782/782 [==============================] - 536s 686ms/step - loss: 0.3673 - accuracy: 0.8375 - val_loss: 0.3688 - val_accuracy: 0.8338\n",
      "Epoch 94/100\n",
      "782/782 [==============================] - 535s 684ms/step - loss: 0.3668 - accuracy: 0.8371 - val_loss: 0.3695 - val_accuracy: 0.8357\n",
      "Epoch 95/100\n",
      "782/782 [==============================] - 534s 683ms/step - loss: 0.3659 - accuracy: 0.8382 - val_loss: 0.3690 - val_accuracy: 0.8390\n",
      "Epoch 96/100\n",
      "782/782 [==============================] - 536s 685ms/step - loss: 0.3641 - accuracy: 0.8392 - val_loss: 0.3679 - val_accuracy: 0.8378\n",
      "Epoch 97/100\n",
      "782/782 [==============================] - 536s 685ms/step - loss: 0.3639 - accuracy: 0.8401 - val_loss: 0.3666 - val_accuracy: 0.8393\n",
      "Epoch 98/100\n",
      "782/782 [==============================] - 535s 684ms/step - loss: 0.3632 - accuracy: 0.8389 - val_loss: 0.3661 - val_accuracy: 0.8371\n",
      "Epoch 99/100\n",
      "782/782 [==============================] - 536s 685ms/step - loss: 0.3633 - accuracy: 0.8399 - val_loss: 0.3650 - val_accuracy: 0.8390\n",
      "Epoch 100/100\n",
      "782/782 [==============================] - 535s 684ms/step - loss: 0.3617 - accuracy: 0.8406 - val_loss: 0.3650 - val_accuracy: 0.8380\n"
     ]
    }
   ],
   "source": [
    "history = model.fit(VGG16_train, epochs=100, validation_data=(VGG16_valid), callbacks=[early_stopping])"
   ]
  },
  {
   "cell_type": "code",
   "execution_count": null,
   "id": "ef92bff3-06db-4d4d-bfb1-964a2883ffca",
   "metadata": {
    "id": "ef92bff3-06db-4d4d-bfb1-964a2883ffca"
   },
   "outputs": [],
   "source": [
    "import pickle\n",
    "with open('/content/drive/MyDrive/face2face/models/VGG16_history.pkl', 'wb') as f:\n",
    "  pickle.dump(history.history, f)\n",
    "with open('/content/drive/MyDrive/face2face/models/VGG16.pkl', 'wb') as f:\n",
    "    pickle.dump(model, f)"
   ]
  },
  {
   "cell_type": "code",
   "execution_count": null,
   "id": "4920e72e-4e50-4bf6-a408-02ea1c7b1140",
   "metadata": {
    "colab": {
     "base_uri": "https://localhost:8080/",
     "height": 452
    },
    "id": "4920e72e-4e50-4bf6-a408-02ea1c7b1140",
    "outputId": "726d2ccf-5b60-42c8-e570-04b6d8cb3daa"
   },
   "outputs": [
    {
     "data": {
      "image/png": "[encoded data removed]",
      "text/plain": [
       "<Figure size 640x480 with 1 Axes>"
      ]
     },
     "metadata": {},
     "output_type": "display_data"
    }
   ],
   "source": [
    "plt.plot(history.history['loss'], label='train')\n",
    "plt.plot(history.history['val_loss'], label='test')\n",
    "plt.legend()\n",
    "plt.title('Loss')\n",
    "plt.show()"
   ]
  },
  {
   "cell_type": "code",
   "execution_count": null,
   "id": "afbad8e1-bafe-41a4-8ac8-28fb6d55aa46",
   "metadata": {
    "colab": {
     "base_uri": "https://localhost:8080/",
     "height": 452
    },
    "id": "afbad8e1-bafe-41a4-8ac8-28fb6d55aa46",
    "outputId": "2f47f017-626d-4f33-894a-dd070b4fe2d5"
   },
   "outputs": [
    {
     "data": {
      "image/png": "[encoded data removed]",
      "text/plain": [
       "<Figure size 640x480 with 1 Axes>"
      ]
     },
     "metadata": {},
     "output_type": "display_data"
    }
   ],
   "source": [
    "plt.plot(history.history['accuracy'], label='train')\n",
    "plt.plot(history.history['val_accuracy'], label='test')\n",
    "plt.legend()\n",
    "plt.title('Accuracy')\n",
    "plt.show()"
   ]
  },
  {
   "cell_type": "code",
   "execution_count": null,
   "id": "O09bQNlX4VY-",
   "metadata": {
    "id": "O09bQNlX4VY-"
   },
   "outputs": [],
   "source": [
    "import pickle\n",
    "with open('/content/drive/MyDrive/face2face/models/VGG16.pkl', 'rb') as f:\n",
    "    model = pickle.load(f)"
   ]
  },
  {
   "cell_type": "code",
   "execution_count": null,
   "id": "Xewks4nG6yuN",
   "metadata": {
    "colab": {
     "base_uri": "https://localhost:8080/"
    },
    "id": "Xewks4nG6yuN",
    "outputId": "fa685aab-d67a-4558-8536-81a4a411bbe1"
   },
   "outputs": [
    {
     "name": "stdout",
     "output_type": "stream",
     "text": [
      "157/157 [==============================] - 101s 505ms/step - loss: 0.3674 - accuracy: 0.8356\n"
     ]
    },
    {
     "data": {
      "text/plain": [
       "[0.3674447536468506, 0.8355500102043152]"
      ]
     },
     "execution_count": 10,
     "metadata": {},
     "output_type": "execute_result"
    }
   ],
   "source": [
    "model.evaluate(VGG16_test)"
   ]
  },
  {
   "cell_type": "code",
   "execution_count": null,
   "id": "4ee8df32-75a4-4df7-87ab-704bc83114dc",
   "metadata": {
    "colab": {
     "base_uri": "https://localhost:8080/"
    },
    "id": "4ee8df32-75a4-4df7-87ab-704bc83114dc",
    "outputId": "39b7d998-80cc-4bfa-924f-78cac9c1c9da"
   },
   "outputs": [
    {
     "name": "stdout",
     "output_type": "stream",
     "text": [
      "157/157 [==============================] - 80s 511ms/step\n"
     ]
    }
   ],
   "source": [
    "y_true = VGG16_test.classes\n",
    "y_pred = model.predict(VGG16_test)"
   ]
  },
  {
   "cell_type": "code",
   "execution_count": null,
   "id": "a1BVk0aLupny",
   "metadata": {
    "id": "a1BVk0aLupny"
   },
   "outputs": [],
   "source": [
    "y_pred_labels = (y_pred > 0.5).astype(int)"
   ]
  },
  {
   "cell_type": "code",
   "execution_count": null,
   "id": "iLYhIVGgv3wk",
   "metadata": {
    "id": "iLYhIVGgv3wk"
   },
   "outputs": [],
   "source": [
    "from sklearn.metrics import confusion_matrix, classification_report\n",
    "from sklearn.metrics import accuracy_score, precision_score, recall_score, f1_score"
   ]
  },
  {
   "cell_type": "code",
   "execution_count": null,
   "id": "CbOwYVUAv60f",
   "metadata": {
    "id": "CbOwYVUAv60f"
   },
   "outputs": [],
   "source": [
    "cm = confusion_matrix(y_true, y_pred_labels)"
   ]
  },
  {
   "cell_type": "code",
   "execution_count": null,
   "id": "ATE9DRYkwFCl",
   "metadata": {
    "id": "ATE9DRYkwFCl"
   },
   "outputs": [],
   "source": [
    "VGG16_metrics = classification_report(y_true, y_pred_labels)"
   ]
  },
  {
   "cell_type": "code",
   "execution_count": null,
   "id": "0e68b3f1-8338-41fa-9eec-0cf88cbc5f7a",
   "metadata": {
    "colab": {
     "base_uri": "https://localhost:8080/"
    },
    "id": "0e68b3f1-8338-41fa-9eec-0cf88cbc5f7a",
    "outputId": "a4dce11b-3e76-4b23-cbc2-7c559901345d"
   },
   "outputs": [
    {
     "name": "stdout",
     "output_type": "stream",
     "text": [
      "              precision    recall  f1-score   support\n",
      "\n",
      "           0       0.84      0.83      0.84     10000\n",
      "           1       0.83      0.84      0.84     10000\n",
      "\n",
      "    accuracy                           0.84     20000\n",
      "   macro avg       0.84      0.84      0.84     20000\n",
      "weighted avg       0.84      0.84      0.84     20000\n",
      "\n"
     ]
    }
   ],
   "source": [
    "print(VGG16_metrics)"
   ]
  },
  {
   "cell_type": "code",
   "execution_count": null,
   "id": "72419c7a-fc57-41d8-860d-e73f84d0838b",
   "metadata": {
    "colab": {
     "base_uri": "https://localhost:8080/"
    },
    "id": "72419c7a-fc57-41d8-860d-e73f84d0838b",
    "outputId": "26ccdc3b-4642-4a8e-c881-0e1734248b1f"
   },
   "outputs": [
    {
     "data": {
      "text/plain": [
       "(0.83675, 0.8348414039972158, 0.8396, 0.8372139402702298)"
      ]
     },
     "execution_count": 18,
     "metadata": {},
     "output_type": "execute_result"
    }
   ],
   "source": [
    "accuracy_score(y_true, y_pred_labels), precision_score(y_true, y_pred_labels), recall_score(y_true, y_pred_labels), f1_score(y_true, y_pred_labels)"
   ]
  },
  {
   "cell_type": "code",
   "execution_count": null,
   "id": "mj6LiHDG7CMX",
   "metadata": {
    "colab": {
     "base_uri": "https://localhost:8080/",
     "height": 472
    },
    "id": "mj6LiHDG7CMX",
    "outputId": "e16d3259-16cb-4f29-b2cc-99694ec252d2"
   },
   "outputs": [
    {
     "data": {
      "image/png": "[encoded data removed]",
      "text/plain": [
       "<Figure size 640x480 with 1 Axes>"
      ]
     },
     "metadata": {},
     "output_type": "display_data"
    }
   ],
   "source": [
    "sns.heatmap(cm, annot=True, fmt=\"d\", cmap=\"Blues\", cbar=False,\n",
    "            xticklabels=[\"Predicted 0\", \"Predicted 1\"],\n",
    "            yticklabels=[\"Actual 0\", \"Actual 1\"])\n",
    "plt.xlabel(\"Predicted\")\n",
    "plt.ylabel(\"Actual\")\n",
    "plt.title(\"Confusion Matrix(VGG16)\")\n",
    "plt.show()"
   ]
  }
 ],
 "metadata": {
  "accelerator": "GPU",
  "colab": {
   "gpuType": "T4",
   "machine_shape": "hm",
   "provenance": []
  },
  "kernelspec": {
   "display_name": "ava",
   "language": "python",
   "name": "ava"
  },
  "language_info": {
   "codemirror_mode": {
    "name": "ipython",
    "version": 3
   },
   "file_extension": ".py",
   "mimetype": "text/x-python",
   "name": "python",
   "nbconvert_exporter": "python",
   "pygments_lexer": "ipython3",
   "version": "3.9.16"
  }
 },
 "nbformat": 4,
 "nbformat_minor": 5
}
