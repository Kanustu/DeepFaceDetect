{
 "cells": [
  {
   "cell_type": "code",
   "execution_count": 30,
   "id": "e5d74946-669e-409d-af34-d5c5d2f91ae8",
   "metadata": {
    "id": "e5d74946-669e-409d-af34-d5c5d2f91ae8"
   },
   "outputs": [],
   "source": [
    "import pandas as pd\n",
    "import numpy as np\n",
    "import tensorflow as tf\n",
    "import sys\n",
    "from PIL import Image\n",
    "from matplotlib import pyplot as plt\n",
    "from tensorflow.keras.optimizers import Adam\n",
    "from tensorflow.keras.models import Sequential\n",
    "from tensorflow.keras.callbacks import EarlyStopping\n",
    "from tensorflow.keras.layers import Convolution2D, Dropout, Input, GlobalAveragePooling2D, MaxPooling2D, Flatten, Dense# Sequential model for building a linear stack of layers\n",
    "from tensorflow.keras.preprocessing.image import ImageDataGenerator\n",
    "from tensorflow.keras.applications import Xception"
   ]
  },
  {
   "cell_type": "code",
   "execution_count": 1,
   "id": "INNfxgZ0WYo5",
   "metadata": {
    "id": "INNfxgZ0WYo5"
   },
   "outputs": [],
   "source": []
  },
  {
   "cell_type": "code",
   "execution_count": 31,
   "id": "Y2tavp8vWZ1E",
   "metadata": {
    "colab": {
     "base_uri": "https://localhost:8080/"
    },
    "id": "Y2tavp8vWZ1E",
    "outputId": "c73d5439-3500-4475-951b-683ba720b7d5"
   },
   "outputs": [
    {
     "name": "stdout",
     "output_type": "stream",
     "text": [
      "Drive already mounted at /content/drive; to attempt to forcibly remount, call drive.mount(\"/content/drive\", force_remount=True).\n"
     ]
    }
   ],
   "source": [
    "from google.colab import drive\n",
    "drive.mount('/content/drive')"
   ]
  },
  {
   "cell_type": "code",
   "execution_count": 32,
   "id": "uoPhiIeHBPHP",
   "metadata": {
    "id": "uoPhiIeHBPHP"
   },
   "outputs": [],
   "source": [
    "!unzip drive/My\\ Drive/images.zip"
   ]
  },
  {
   "cell_type": "code",
   "execution_count": 33,
   "id": "985f893b-abef-440c-8e5d-d140500a3743",
   "metadata": {
    "id": "985f893b-abef-440c-8e5d-d140500a3743"
   },
   "outputs": [],
   "source": [
    "sys.path.append('/content/drive/MyDrive/face2face/functions')"
   ]
  },
  {
   "cell_type": "code",
   "execution_count": 34,
   "id": "3f89b3cd-f4fc-4e9a-aa0c-6b5fed72dbca",
   "metadata": {
    "id": "3f89b3cd-f4fc-4e9a-aa0c-6b5fed72dbca"
   },
   "outputs": [],
   "source": [
    "from create_dataframe import create_df"
   ]
  },
  {
   "cell_type": "code",
   "execution_count": 35,
   "id": "3c965ce1-80f5-4058-87b2-de6ddcca70a3",
   "metadata": {
    "id": "3c965ce1-80f5-4058-87b2-de6ddcca70a3"
   },
   "outputs": [],
   "source": [
    "train_meta = create_df('train')\n",
    "valid_meta = create_df('valid')\n",
    "test_meta = create_df('test')"
   ]
  },
  {
   "cell_type": "code",
   "execution_count": 6,
   "id": "U3hvnRMosk7f",
   "metadata": {
    "id": "U3hvnRMosk7f"
   },
   "outputs": [],
   "source": []
  },
  {
   "cell_type": "code",
   "execution_count": 36,
   "id": "e9b9aa6c-008b-40b9-bf9d-4ee278147586",
   "metadata": {
    "id": "e9b9aa6c-008b-40b9-bf9d-4ee278147586"
   },
   "outputs": [],
   "source": [
    "# Specify the base path where your image data is stored\n",
    "base_path = '/content/real_vs_fake/real-vs-fake/'\n",
    "\n",
    "\n",
    "# Create an ImageDataGenerator for image preprocessing and augmentation\n",
    "image_gen = ImageDataGenerator(rescale=1./255.,\n",
    "                               horizontal_flip=True)\n"
   ]
  },
  {
   "cell_type": "code",
   "execution_count": 37,
   "id": "1e30d3da-fc0a-4b94-a067-53cc83e5ebdd",
   "metadata": {
    "colab": {
     "base_uri": "https://localhost:8080/"
    },
    "id": "1e30d3da-fc0a-4b94-a067-53cc83e5ebdd",
    "outputId": "df303618-b4a5-4da6-a43b-906ad9cd2b8f"
   },
   "outputs": [
    {
     "name": "stdout",
     "output_type": "stream",
     "text": [
      "Found 100000 images belonging to 2 classes.\n",
      "Found 20000 images belonging to 2 classes.\n",
      "Found 20000 images belonging to 2 classes.\n"
     ]
    }
   ],
   "source": [
    "Xception_train = image_gen.flow_from_directory(\n",
    "    base_path + 'train/',\n",
    "    target_size=(224, 224),\n",
    "    batch_size=128,\n",
    "    class_mode='binary'\n",
    ")\n",
    "Xception_valid = image_gen.flow_from_directory(\n",
    "    base_path + 'valid/',\n",
    "    target_size=(224, 224),\n",
    "    batch_size=128,\n",
    "    class_mode='binary'\n",
    ")\n",
    "Xception_test = image_gen.flow_from_directory(\n",
    "    base_path + 'test/',\n",
    "    target_size=(224, 224),\n",
    "    batch_size=128,\n",
    "    class_mode='binary',\n",
    "    shuffle=False\n",
    ")"
   ]
  },
  {
   "cell_type": "code",
   "execution_count": 38,
   "id": "ab11a446-666c-4791-880c-0c29babbc5ca",
   "metadata": {
    "id": "ab11a446-666c-4791-880c-0c29babbc5ca"
   },
   "outputs": [],
   "source": [
    "base_model = Xception(weights='imagenet', include_top=False, input_shape=(224, 224, 3))"
   ]
  },
  {
   "cell_type": "code",
   "execution_count": 39,
   "id": "w59ZebfuvAxY",
   "metadata": {
    "id": "w59ZebfuvAxY"
   },
   "outputs": [],
   "source": [
    "for layer in base_model.layers:\n",
    "  layer.trainable=False"
   ]
  },
  {
   "cell_type": "code",
   "execution_count": 40,
   "id": "12da83d3-f67a-4c83-ad00-ae4fb0a020f4",
   "metadata": {
    "colab": {
     "base_uri": "https://localhost:8080/"
    },
    "id": "12da83d3-f67a-4c83-ad00-ae4fb0a020f4",
    "outputId": "cd9f2229-ccf2-46be-ef41-d6f7a896a03b"
   },
   "outputs": [
    {
     "name": "stdout",
     "output_type": "stream",
     "text": [
      "Model: \"sequential_2\"\n",
      "_________________________________________________________________\n",
      " Layer (type)                Output Shape              Param #   \n",
      "=================================================================\n",
      " xception (Functional)       (None, 7, 7, 2048)        20861480  \n",
      "                                                                 \n",
      " global_average_pooling2d_2  (None, 2048)              0         \n",
      "  (GlobalAveragePooling2D)                                       \n",
      "                                                                 \n",
      " dense_6 (Dense)             (None, 256)               524544    \n",
      "                                                                 \n",
      " dropout_2 (Dropout)         (None, 256)               0         \n",
      "                                                                 \n",
      " dense_7 (Dense)             (None, 1)                 257       \n",
      "                                                                 \n",
      "=================================================================\n",
      "Total params: 21386281 (81.58 MB)\n",
      "Trainable params: 524801 (2.00 MB)\n",
      "Non-trainable params: 20861480 (79.58 MB)\n",
      "_________________________________________________________________\n"
     ]
    }
   ],
   "source": [
    "model = Sequential()\n",
    "model.add(base_model)\n",
    "model.add(GlobalAveragePooling2D())\n",
    "model.add(Dense(256, activation='relu'))\n",
    "model.add(Dropout(0.5))\n",
    "model.add(Dense(1, activation='sigmoid'))\n",
    "model.summary()"
   ]
  },
  {
   "cell_type": "code",
   "execution_count": 41,
   "id": "_ZkRLYfIxpSP",
   "metadata": {
    "id": "_ZkRLYfIxpSP"
   },
   "outputs": [],
   "source": [
    "learning_rate = 0.0001"
   ]
  },
  {
   "cell_type": "code",
   "execution_count": 42,
   "id": "02f4b2d6-8026-4b27-8433-ac635b7a450e",
   "metadata": {
    "id": "02f4b2d6-8026-4b27-8433-ac635b7a450e"
   },
   "outputs": [],
   "source": [
    "model.compile(optimizer=Adam(learning_rate = learning_rate), loss='binary_crossentropy', metrics=['accuracy'])"
   ]
  },
  {
   "cell_type": "code",
   "execution_count": 43,
   "id": "1YjRgvYW7vBj",
   "metadata": {
    "id": "1YjRgvYW7vBj"
   },
   "outputs": [],
   "source": [
    "early_stopping = EarlyStopping(monitor='val_loss', patience=5, restore_best_weights=True)"
   ]
  },
  {
   "cell_type": "code",
   "execution_count": 44,
   "id": "487b4784-c842-426e-b85c-d9a1a51c1d65",
   "metadata": {
    "colab": {
     "base_uri": "https://localhost:8080/"
    },
    "id": "487b4784-c842-426e-b85c-d9a1a51c1d65",
    "outputId": "c0dde3a2-2ef3-463f-b32a-e70816e632cd"
   },
   "outputs": [
    {
     "name": "stdout",
     "output_type": "stream",
     "text": [
      "Epoch 1/100\n",
      "782/782 [==============================] - 505s 641ms/step - loss: 0.5480 - accuracy: 0.7196 - val_loss: 0.4963 - val_accuracy: 0.7639\n",
      "Epoch 2/100\n",
      "782/782 [==============================] - 499s 639ms/step - loss: 0.4896 - accuracy: 0.7642 - val_loss: 0.4661 - val_accuracy: 0.7828\n",
      "Epoch 3/100\n",
      "782/782 [==============================] - 500s 639ms/step - loss: 0.4647 - accuracy: 0.7809 - val_loss: 0.4462 - val_accuracy: 0.7961\n",
      "Epoch 4/100\n",
      "782/782 [==============================] - 499s 638ms/step - loss: 0.4467 - accuracy: 0.7913 - val_loss: 0.4349 - val_accuracy: 0.8005\n",
      "Epoch 5/100\n",
      "782/782 [==============================] - 499s 638ms/step - loss: 0.4339 - accuracy: 0.7991 - val_loss: 0.4229 - val_accuracy: 0.8082\n",
      "Epoch 6/100\n",
      "782/782 [==============================] - 499s 639ms/step - loss: 0.4222 - accuracy: 0.8067 - val_loss: 0.4181 - val_accuracy: 0.8089\n",
      "Epoch 7/100\n",
      "782/782 [==============================] - 499s 638ms/step - loss: 0.4113 - accuracy: 0.8116 - val_loss: 0.4055 - val_accuracy: 0.8163\n",
      "Epoch 8/100\n",
      "782/782 [==============================] - 500s 639ms/step - loss: 0.4023 - accuracy: 0.8183 - val_loss: 0.3961 - val_accuracy: 0.8206\n",
      "Epoch 9/100\n",
      "782/782 [==============================] - 499s 638ms/step - loss: 0.3934 - accuracy: 0.8222 - val_loss: 0.3982 - val_accuracy: 0.8205\n",
      "Epoch 10/100\n",
      "782/782 [==============================] - 499s 638ms/step - loss: 0.3877 - accuracy: 0.8260 - val_loss: 0.3891 - val_accuracy: 0.8231\n",
      "Epoch 11/100\n",
      "782/782 [==============================] - 500s 639ms/step - loss: 0.3798 - accuracy: 0.8308 - val_loss: 0.3845 - val_accuracy: 0.8263\n",
      "Epoch 12/100\n",
      "782/782 [==============================] - 500s 639ms/step - loss: 0.3747 - accuracy: 0.8335 - val_loss: 0.3772 - val_accuracy: 0.8314\n",
      "Epoch 13/100\n",
      "782/782 [==============================] - 499s 639ms/step - loss: 0.3668 - accuracy: 0.8370 - val_loss: 0.3727 - val_accuracy: 0.8320\n",
      "Epoch 14/100\n",
      "782/782 [==============================] - 499s 639ms/step - loss: 0.3615 - accuracy: 0.8401 - val_loss: 0.3683 - val_accuracy: 0.8370\n",
      "Epoch 15/100\n",
      "782/782 [==============================] - 500s 639ms/step - loss: 0.3559 - accuracy: 0.8436 - val_loss: 0.3637 - val_accuracy: 0.8402\n",
      "Epoch 16/100\n",
      "782/782 [==============================] - 500s 639ms/step - loss: 0.3507 - accuracy: 0.8466 - val_loss: 0.3608 - val_accuracy: 0.8396\n",
      "Epoch 17/100\n",
      "782/782 [==============================] - 500s 639ms/step - loss: 0.3460 - accuracy: 0.8483 - val_loss: 0.3563 - val_accuracy: 0.8413\n",
      "Epoch 18/100\n",
      "782/782 [==============================] - 499s 638ms/step - loss: 0.3405 - accuracy: 0.8522 - val_loss: 0.3534 - val_accuracy: 0.8446\n",
      "Epoch 19/100\n",
      "782/782 [==============================] - 499s 638ms/step - loss: 0.3369 - accuracy: 0.8536 - val_loss: 0.3522 - val_accuracy: 0.8476\n",
      "Epoch 20/100\n",
      "782/782 [==============================] - 499s 638ms/step - loss: 0.3330 - accuracy: 0.8549 - val_loss: 0.3458 - val_accuracy: 0.8493\n",
      "Epoch 21/100\n",
      "782/782 [==============================] - 500s 639ms/step - loss: 0.3294 - accuracy: 0.8577 - val_loss: 0.3429 - val_accuracy: 0.8515\n",
      "Epoch 22/100\n",
      "782/782 [==============================] - 500s 639ms/step - loss: 0.3248 - accuracy: 0.8608 - val_loss: 0.3423 - val_accuracy: 0.8508\n",
      "Epoch 23/100\n",
      "782/782 [==============================] - 500s 640ms/step - loss: 0.3193 - accuracy: 0.8621 - val_loss: 0.3369 - val_accuracy: 0.8555\n",
      "Epoch 24/100\n",
      "782/782 [==============================] - 500s 640ms/step - loss: 0.3154 - accuracy: 0.8650 - val_loss: 0.3358 - val_accuracy: 0.8526\n",
      "Epoch 25/100\n",
      "782/782 [==============================] - 500s 639ms/step - loss: 0.3125 - accuracy: 0.8663 - val_loss: 0.3334 - val_accuracy: 0.8535\n",
      "Epoch 26/100\n",
      "782/782 [==============================] - 499s 638ms/step - loss: 0.3085 - accuracy: 0.8687 - val_loss: 0.3288 - val_accuracy: 0.8582\n",
      "Epoch 27/100\n",
      "782/782 [==============================] - 499s 638ms/step - loss: 0.3043 - accuracy: 0.8702 - val_loss: 0.3287 - val_accuracy: 0.8569\n",
      "Epoch 28/100\n",
      "782/782 [==============================] - 500s 639ms/step - loss: 0.2994 - accuracy: 0.8724 - val_loss: 0.3279 - val_accuracy: 0.8579\n",
      "Epoch 29/100\n",
      "782/782 [==============================] - 500s 639ms/step - loss: 0.2983 - accuracy: 0.8727 - val_loss: 0.3247 - val_accuracy: 0.8594\n",
      "Epoch 30/100\n",
      "782/782 [==============================] - 500s 639ms/step - loss: 0.2944 - accuracy: 0.8759 - val_loss: 0.3234 - val_accuracy: 0.8619\n",
      "Epoch 31/100\n",
      "782/782 [==============================] - 499s 638ms/step - loss: 0.2896 - accuracy: 0.8778 - val_loss: 0.3175 - val_accuracy: 0.8630\n",
      "Epoch 32/100\n",
      "782/782 [==============================] - 499s 638ms/step - loss: 0.2882 - accuracy: 0.8784 - val_loss: 0.3169 - val_accuracy: 0.8616\n",
      "Epoch 33/100\n",
      "782/782 [==============================] - 500s 639ms/step - loss: 0.2850 - accuracy: 0.8789 - val_loss: 0.3181 - val_accuracy: 0.8618\n",
      "Epoch 34/100\n",
      "782/782 [==============================] - 499s 638ms/step - loss: 0.2804 - accuracy: 0.8828 - val_loss: 0.3175 - val_accuracy: 0.8612\n",
      "Epoch 35/100\n",
      "782/782 [==============================] - 499s 638ms/step - loss: 0.2759 - accuracy: 0.8835 - val_loss: 0.3116 - val_accuracy: 0.8673\n",
      "Epoch 36/100\n",
      "782/782 [==============================] - 500s 639ms/step - loss: 0.2759 - accuracy: 0.8839 - val_loss: 0.3139 - val_accuracy: 0.8654\n",
      "Epoch 37/100\n",
      "782/782 [==============================] - 500s 639ms/step - loss: 0.2729 - accuracy: 0.8853 - val_loss: 0.3100 - val_accuracy: 0.8666\n",
      "Epoch 38/100\n",
      "782/782 [==============================] - 500s 639ms/step - loss: 0.2669 - accuracy: 0.8895 - val_loss: 0.3083 - val_accuracy: 0.8661\n",
      "Epoch 39/100\n",
      "782/782 [==============================] - 500s 639ms/step - loss: 0.2655 - accuracy: 0.8890 - val_loss: 0.3082 - val_accuracy: 0.8686\n",
      "Epoch 40/100\n",
      "782/782 [==============================] - 500s 640ms/step - loss: 0.2646 - accuracy: 0.8889 - val_loss: 0.3074 - val_accuracy: 0.8687\n",
      "Epoch 41/100\n",
      "782/782 [==============================] - 499s 638ms/step - loss: 0.2621 - accuracy: 0.8915 - val_loss: 0.3030 - val_accuracy: 0.8680\n",
      "Epoch 42/100\n",
      "782/782 [==============================] - 500s 639ms/step - loss: 0.2587 - accuracy: 0.8924 - val_loss: 0.3020 - val_accuracy: 0.8717\n",
      "Epoch 43/100\n",
      "782/782 [==============================] - 500s 640ms/step - loss: 0.2549 - accuracy: 0.8941 - val_loss: 0.3040 - val_accuracy: 0.8710\n",
      "Epoch 44/100\n",
      "782/782 [==============================] - 500s 640ms/step - loss: 0.2528 - accuracy: 0.8948 - val_loss: 0.3102 - val_accuracy: 0.8668\n",
      "Epoch 45/100\n",
      "782/782 [==============================] - 501s 640ms/step - loss: 0.2508 - accuracy: 0.8966 - val_loss: 0.3038 - val_accuracy: 0.8687\n",
      "Epoch 46/100\n",
      "782/782 [==============================] - 501s 640ms/step - loss: 0.2474 - accuracy: 0.8985 - val_loss: 0.2964 - val_accuracy: 0.8770\n",
      "Epoch 47/100\n",
      "782/782 [==============================] - 501s 640ms/step - loss: 0.2488 - accuracy: 0.8975 - val_loss: 0.2985 - val_accuracy: 0.8730\n",
      "Epoch 48/100\n",
      "782/782 [==============================] - 500s 640ms/step - loss: 0.2439 - accuracy: 0.8995 - val_loss: 0.3044 - val_accuracy: 0.8712\n",
      "Epoch 49/100\n",
      "782/782 [==============================] - 500s 640ms/step - loss: 0.2408 - accuracy: 0.9006 - val_loss: 0.3053 - val_accuracy: 0.8699\n",
      "Epoch 50/100\n",
      "782/782 [==============================] - 500s 639ms/step - loss: 0.2392 - accuracy: 0.9016 - val_loss: 0.2975 - val_accuracy: 0.8750\n",
      "Epoch 51/100\n",
      "782/782 [==============================] - 500s 640ms/step - loss: 0.2362 - accuracy: 0.9035 - val_loss: 0.2944 - val_accuracy: 0.8749\n",
      "Epoch 52/100\n",
      "782/782 [==============================] - 500s 639ms/step - loss: 0.2336 - accuracy: 0.9041 - val_loss: 0.2940 - val_accuracy: 0.8755\n",
      "Epoch 53/100\n",
      "782/782 [==============================] - 500s 639ms/step - loss: 0.2324 - accuracy: 0.9056 - val_loss: 0.2901 - val_accuracy: 0.8784\n",
      "Epoch 54/100\n",
      "782/782 [==============================] - 501s 641ms/step - loss: 0.2297 - accuracy: 0.9064 - val_loss: 0.2909 - val_accuracy: 0.8751\n",
      "Epoch 55/100\n",
      "782/782 [==============================] - 500s 640ms/step - loss: 0.2275 - accuracy: 0.9069 - val_loss: 0.3004 - val_accuracy: 0.8730\n",
      "Epoch 56/100\n",
      "782/782 [==============================] - 500s 639ms/step - loss: 0.2255 - accuracy: 0.9075 - val_loss: 0.2910 - val_accuracy: 0.8785\n",
      "Epoch 57/100\n",
      "782/782 [==============================] - 500s 639ms/step - loss: 0.2220 - accuracy: 0.9107 - val_loss: 0.2940 - val_accuracy: 0.8770\n",
      "Epoch 58/100\n",
      "782/782 [==============================] - 501s 640ms/step - loss: 0.2224 - accuracy: 0.9098 - val_loss: 0.2900 - val_accuracy: 0.8782\n",
      "Epoch 59/100\n",
      "782/782 [==============================] - 501s 640ms/step - loss: 0.2176 - accuracy: 0.9112 - val_loss: 0.2890 - val_accuracy: 0.8776\n",
      "Epoch 60/100\n",
      "782/782 [==============================] - 500s 640ms/step - loss: 0.2172 - accuracy: 0.9126 - val_loss: 0.2880 - val_accuracy: 0.8798\n",
      "Epoch 61/100\n",
      "782/782 [==============================] - 500s 640ms/step - loss: 0.2130 - accuracy: 0.9143 - val_loss: 0.2901 - val_accuracy: 0.8786\n",
      "Epoch 62/100\n",
      "782/782 [==============================] - 500s 639ms/step - loss: 0.2122 - accuracy: 0.9136 - val_loss: 0.2839 - val_accuracy: 0.8801\n",
      "Epoch 63/100\n",
      "782/782 [==============================] - 500s 640ms/step - loss: 0.2111 - accuracy: 0.9150 - val_loss: 0.2897 - val_accuracy: 0.8790\n",
      "Epoch 64/100\n",
      "782/782 [==============================] - 500s 639ms/step - loss: 0.2106 - accuracy: 0.9148 - val_loss: 0.2861 - val_accuracy: 0.8788\n",
      "Epoch 65/100\n",
      "782/782 [==============================] - 500s 639ms/step - loss: 0.2083 - accuracy: 0.9163 - val_loss: 0.2843 - val_accuracy: 0.8787\n",
      "Epoch 66/100\n",
      "782/782 [==============================] - 500s 639ms/step - loss: 0.2062 - accuracy: 0.9165 - val_loss: 0.3008 - val_accuracy: 0.8765\n",
      "Epoch 67/100\n",
      "782/782 [==============================] - 501s 640ms/step - loss: 0.2034 - accuracy: 0.9177 - val_loss: 0.2848 - val_accuracy: 0.8802\n"
     ]
    }
   ],
   "source": [
    "history = model.fit(Xception_train, epochs=100, validation_data=(Xception_valid), callbacks=[early_stopping])"
   ]
  },
  {
   "cell_type": "code",
   "execution_count": 45,
   "id": "ef92bff3-06db-4d4d-bfb1-964a2883ffca",
   "metadata": {
    "id": "ef92bff3-06db-4d4d-bfb1-964a2883ffca"
   },
   "outputs": [],
   "source": [
    "import pickle\n",
    "with open('/content/drive/MyDrive/face2face/models/Xception_history.pkl', 'wb') as f:\n",
    "  pickle.dump(history.history, f)\n",
    "with open('/content/drive/MyDrive/face2face/models/Xception.pkl', 'wb') as f:\n",
    "    pickle.dump(model, f)"
   ]
  },
  {
   "cell_type": "code",
   "execution_count": 46,
   "id": "4920e72e-4e50-4bf6-a408-02ea1c7b1140",
   "metadata": {
    "colab": {
     "base_uri": "https://localhost:8080/",
     "height": 452
    },
    "id": "4920e72e-4e50-4bf6-a408-02ea1c7b1140",
    "outputId": "20722287-1aa3-434d-da2e-64028cf2c2dc"
   },
   "outputs": [
    {
     "data": {
      "image/png": "[encoded data removed]",
      "text/plain": [
       "<Figure size 640x480 with 1 Axes>"
      ]
     },
     "metadata": {},
     "output_type": "display_data"
    }
   ],
   "source": [
    "plt.plot(history.history['loss'], label='train')\n",
    "plt.plot(history.history['val_loss'], label='test')\n",
    "plt.legend()\n",
    "plt.title('Loss')\n",
    "plt.show()"
   ]
  },
  {
   "cell_type": "code",
   "execution_count": 47,
   "id": "afbad8e1-bafe-41a4-8ac8-28fb6d55aa46",
   "metadata": {
    "colab": {
     "base_uri": "https://localhost:8080/",
     "height": 452
    },
    "id": "afbad8e1-bafe-41a4-8ac8-28fb6d55aa46",
    "outputId": "dbc6d598-3e7d-40fe-ff00-e8a874cd7e10"
   },
   "outputs": [
    {
     "data": {
      "image/png": "[encoded data removed]",
      "text/plain": [
       "<Figure size 640x480 with 1 Axes>"
      ]
     },
     "metadata": {},
     "output_type": "display_data"
    }
   ],
   "source": [
    "plt.plot(history.history['accuracy'], label='train')\n",
    "plt.plot(history.history['val_accuracy'], label='test')\n",
    "plt.legend()\n",
    "plt.title('Accuracy')\n",
    "plt.show()"
   ]
  },
  {
   "cell_type": "code",
   "execution_count": 54,
   "id": "4ee8df32-75a4-4df7-87ab-704bc83114dc",
   "metadata": {
    "colab": {
     "base_uri": "https://localhost:8080/"
    },
    "id": "4ee8df32-75a4-4df7-87ab-704bc83114dc",
    "outputId": "72ee7450-87f6-4744-e68b-6d8a09b6ded8"
   },
   "outputs": [
    {
     "name": "stdout",
     "output_type": "stream",
     "text": [
      "157/157 [==============================] - 83s 532ms/step\n"
     ]
    }
   ],
   "source": [
    "y_true = Xception_test.classes\n",
    "y_pred = model.predict(Xception_test)"
   ]
  },
  {
   "cell_type": "code",
   "execution_count": 65,
   "id": "a1BVk0aLupny",
   "metadata": {
    "id": "a1BVk0aLupny"
   },
   "outputs": [],
   "source": [
    "y_pred_labels = (y_pred > 0.5).astype(int)"
   ]
  },
  {
   "cell_type": "code",
   "execution_count": 67,
   "id": "iLYhIVGgv3wk",
   "metadata": {
    "id": "iLYhIVGgv3wk"
   },
   "outputs": [],
   "source": [
    "from sklearn.metrics import confusion_matrix, classification_report"
   ]
  },
  {
   "cell_type": "code",
   "execution_count": 68,
   "id": "CbOwYVUAv60f",
   "metadata": {
    "colab": {
     "base_uri": "https://localhost:8080/"
    },
    "id": "CbOwYVUAv60f",
    "outputId": "2c2f03e3-f44d-4d7e-c6ac-aa2a7ed11aa5"
   },
   "outputs": [
    {
     "data": {
      "text/plain": [
       "array([[8824, 1176],\n",
       "       [1239, 8761]])"
      ]
     },
     "execution_count": 68,
     "metadata": {},
     "output_type": "execute_result"
    }
   ],
   "source": [
    "confusion_matrix(y_true, y_pred_labels)"
   ]
  },
  {
   "cell_type": "code",
   "execution_count": 69,
   "id": "ATE9DRYkwFCl",
   "metadata": {
    "id": "ATE9DRYkwFCl"
   },
   "outputs": [],
   "source": [
    "Xception_metrics = classification_report(y_true, y_pred_labels)"
   ]
  },
  {
   "cell_type": "code",
   "execution_count": 70,
   "id": "0e68b3f1-8338-41fa-9eec-0cf88cbc5f7a",
   "metadata": {
    "colab": {
     "base_uri": "https://localhost:8080/"
    },
    "id": "0e68b3f1-8338-41fa-9eec-0cf88cbc5f7a",
    "outputId": "9acbf61a-21a9-44c7-bdac-f1bdd79eebe1"
   },
   "outputs": [
    {
     "name": "stdout",
     "output_type": "stream",
     "text": [
      "              precision    recall  f1-score   support\n",
      "\n",
      "           0       0.88      0.88      0.88     10000\n",
      "           1       0.88      0.88      0.88     10000\n",
      "\n",
      "    accuracy                           0.88     20000\n",
      "   macro avg       0.88      0.88      0.88     20000\n",
      "weighted avg       0.88      0.88      0.88     20000\n",
      "\n"
     ]
    }
   ],
   "source": [
    "print(Xception_metrics)"
   ]
  }
 ],
 "metadata": {
  "accelerator": "GPU",
  "colab": {
   "gpuType": "T4",
   "machine_shape": "hm",
   "provenance": []
  },
  "kernelspec": {
   "display_name": "ava",
   "language": "python",
   "name": "ava"
  },
  "language_info": {
   "codemirror_mode": {
    "name": "ipython",
    "version": 3
   },
   "file_extension": ".py",
   "mimetype": "text/x-python",
   "name": "python",
   "nbconvert_exporter": "python",
   "pygments_lexer": "ipython3",
   "version": "3.9.16"
  }
 },
 "nbformat": 4,
 "nbformat_minor": 5
}
