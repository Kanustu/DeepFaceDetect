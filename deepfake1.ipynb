{
 "cells": [
  {
   "cell_type": "code",
   "execution_count": 23,
   "id": "15d95aea-eaf1-49ab-a823-6ee95c5e6e4d",
   "metadata": {},
   "outputs": [],
   "source": [
    "import pandas as pd\n",
    "import numpy as np\n",
    "import matplotlib.pyplot as plt\n",
    "import seaborn as sns\n",
    "import tensorflow as tf\n",
    "from tensorflow.keras.models import Sequential\n",
    "from tensorflow.keras.models import "
   ]
  },
  {
   "cell_type": "code",
   "execution_count": 3,
   "id": "64469362-d86f-44b1-a8c5-5c6fd7648dc1",
   "metadata": {},
   "outputs": [],
   "source": [
    "from tensorflow.keras.preprocessing.image import ImageDataGenerator"
   ]
  },
  {
   "cell_type": "code",
   "execution_count": 5,
   "id": "c4d9dfab-f14f-41ef-8d70-faf25ba2f162",
   "metadata": {},
   "outputs": [],
   "source": [
    "base_path = 'LHL_projects/Capstone_LHL/real_vs_fake/real-vs-fake/'\n",
    "image_gen = ImageDataGenerator(rescale=1./255.)"
   ]
  },
  {
   "cell_type": "code",
   "execution_count": 19,
   "id": "518b00e2-4b4d-498d-b137-e331ec77af23",
   "metadata": {},
   "outputs": [],
   "source": [
    "def generation(location, shuffle=True):\n",
    "    image_gen.flow_from_directory(\n",
    "    base_path + location,\n",
    "    target_size=(224, 224),\n",
    "    batch_size=64,\n",
    "    class_mode='binary',\n",
    "    shuffle=shuffle\n",
    ")"
   ]
  },
  {
   "cell_type": "code",
   "execution_count": 20,
   "id": "f6149a8e-3fa0-4ee0-84c4-00c38961a9d1",
   "metadata": {},
   "outputs": [
    {
     "name": "stdout",
     "output_type": "stream",
     "text": [
      "Found 100000 images belonging to 2 classes.\n",
      "Found 20000 images belonging to 2 classes.\n",
      "Found 20000 images belonging to 2 classes.\n"
     ]
    }
   ],
   "source": [
    "train_gen = generation('train/')\n",
    "valid_gen = generation('valid/')\n",
    "test_gen = generation('test/', False)"
   ]
  },
  {
   "cell_type": "code",
   "execution_count": 22,
   "id": "c78983f8-83ab-4738-b16d-36d847bd3536",
   "metadata": {},
   "outputs": [],
   "source": []
  }
 ],
 "metadata": {
  "kernelspec": {
   "display_name": "ava",
   "language": "python",
   "name": "ava"
  },
  "language_info": {
   "codemirror_mode": {
    "name": "ipython",
    "version": 3
   },
   "file_extension": ".py",
   "mimetype": "text/x-python",
   "name": "python",
   "nbconvert_exporter": "python",
   "pygments_lexer": "ipython3",
   "version": "3.9.16"
  }
 },
 "nbformat": 4,
 "nbformat_minor": 5
}
