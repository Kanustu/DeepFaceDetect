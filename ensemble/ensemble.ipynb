{
 "cells": [
  {
   "cell_type": "code",
   "execution_count": null,
   "id": "2d532551-1e69-49f3-859e-30cbd92ee61f",
   "metadata": {},
   "outputs": [],
   "source": [
    "from sklearn.ensemble import VotingClassifier"
   ]
  },
  {
   "cell_type": "code",
   "execution_count": null,
   "id": "1064dc58-9de8-4abd-b8f9-e932ef05a568",
   "metadata": {},
   "outputs": [],
   "source": [
    "def create_df(state):\n",
    "    var =  pd.read_csv(f'./Metadata/{state}.csv')\n",
    "    return var"
   ]
  },
  {
   "cell_type": "code",
   "execution_count": null,
   "id": "58024f07-7397-48c6-a3f2-0b4aa2166268",
   "metadata": {},
   "outputs": [],
   "source": [
    "train_meta = create_df('train')\n",
    "valid_meta = create_df('valid')\n",
    "test_meta = create_df('test')"
   ]
  },
  {
   "cell_type": "code",
   "execution_count": null,
   "id": "6a472a0b-2f97-40d9-a5be-22cc5e4f4c38",
   "metadata": {},
   "outputs": [],
   "source": [
    "base_path = './real_vs_fake/real-vs-fake/'"
   ]
  },
  {
   "cell_type": "code",
   "execution_count": null,
   "id": "b5d2611f-d1db-433e-8e6b-7d899fe422ad",
   "metadata": {},
   "outputs": [],
   "source": [
    "base_ensemble = VotingClassifier(estimators=[\n",
    "    ('base_32', baseline_32),\n",
    "    ('base_64', baseline),\n",
    "    ('base_128', baseline_128),\n",
    "], voting='soft')"
   ]
  },
  {
   "cell_type": "code",
   "execution_count": null,
   "id": "8f42dd97-e0f6-422c-9f6a-23fd24afcd64",
   "metadata": {},
   "outputs": [],
   "source": [
    "y_train = train_meta['label']"
   ]
  },
  {
   "cell_type": "code",
   "execution_count": null,
   "id": "e7495301-1845-4ffd-a940-a58633c42bc1",
   "metadata": {},
   "outputs": [],
   "source": [
    "X_train = []\n",
    "for x in (base_path + train_meta['path']).tolist():\n",
    "    image = np.array(Image.open(x))\n",
    "    X_train.append(image)"
   ]
  },
  {
   "cell_type": "code",
   "execution_count": null,
   "id": "cbd71f99-14a9-4558-984f-81246d74cdf2",
   "metadata": {},
   "outputs": [],
   "source": [
    "base_ensemble.fit(X_train, y_train)"
   ]
  }
 ],
 "metadata": {
  "kernelspec": {
   "display_name": "ava",
   "language": "python",
   "name": "ava"
  },
  "language_info": {
   "codemirror_mode": {
    "name": "ipython",
    "version": 3
   },
   "file_extension": ".py",
   "mimetype": "text/x-python",
   "name": "python",
   "nbconvert_exporter": "python",
   "pygments_lexer": "ipython3",
   "version": "3.9.16"
  }
 },
 "nbformat": 4,
 "nbformat_minor": 5
}
